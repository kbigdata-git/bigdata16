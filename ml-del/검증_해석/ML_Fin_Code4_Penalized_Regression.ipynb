{
 "cells": [
  {
   "attachments": {},
   "cell_type": "markdown",
   "id": "fdbb367d",
   "metadata": {},
   "source": [
    "# Part 4 Penalized Regression"
   ]
  },
  {
   "cell_type": "code",
   "execution_count": 1,
   "id": "6741da52",
   "metadata": {},
   "outputs": [],
   "source": [
    "import pandas as pd\n",
    "import numpy as np\n",
    "\n",
    "import statsmodels.formula.api as smf\n",
    "import statsmodels.api as sm\n",
    "from sklearn.linear_model import LinearRegression\n",
    "from arch.unitroot import ADF\n",
    "from arch.unitroot.cointegration import DynamicOLS\n",
    "\n",
    "import matplotlib.pyplot as plt\n",
    "import seaborn as sns \n",
    "from statsmodels.graphics import tsaplots\n",
    "from sklearn.tree import plot_tree\n",
    "\n",
    "from sklearn.preprocessing import StandardScaler\n",
    "from sklearn.model_selection import train_test_split\n",
    "from sklearn.linear_model import Lasso\n",
    "from sklearn.linear_model import Ridge\n",
    "from sklearn.linear_model import LassoCV\n",
    "from sklearn.linear_model import RidgeCV"
   ]
  },
  {
   "attachments": {},
   "cell_type": "markdown",
   "id": "91f7fdcc",
   "metadata": {},
   "source": [
    "## Consumption and Income 자료\n",
    "\n",
    "\n",
    "Consumption : 가계의 최종소비지출\n",
    "\n",
    "Income   \t: 국민총소득\n",
    "\n",
    "Money    \t: 본원통화\n"
   ]
  },
  {
   "cell_type": "code",
   "execution_count": 2,
   "id": "72b25ac4",
   "metadata": {},
   "outputs": [
    {
     "name": "stdout",
     "output_type": "stream",
     "text": [
      "Consumption    0\n",
      "Income         0\n",
      "Money          0\n",
      "dtype: int64\n"
     ]
    },
    {
     "data": {
      "text/html": [
       "<div>\n",
       "<style scoped>\n",
       "    .dataframe tbody tr th:only-of-type {\n",
       "        vertical-align: middle;\n",
       "    }\n",
       "\n",
       "    .dataframe tbody tr th {\n",
       "        vertical-align: top;\n",
       "    }\n",
       "\n",
       "    .dataframe thead th {\n",
       "        text-align: right;\n",
       "    }\n",
       "</style>\n",
       "<table border=\"1\" class=\"dataframe\">\n",
       "  <thead>\n",
       "    <tr style=\"text-align: right;\">\n",
       "      <th></th>\n",
       "      <th>Consumption</th>\n",
       "      <th>Income</th>\n",
       "      <th>Money</th>\n",
       "    </tr>\n",
       "    <tr>\n",
       "      <th>date</th>\n",
       "      <th></th>\n",
       "      <th></th>\n",
       "      <th></th>\n",
       "    </tr>\n",
       "  </thead>\n",
       "  <tbody>\n",
       "    <tr>\n",
       "      <th>1970-12-31</th>\n",
       "      <td>551.1</td>\n",
       "      <td>787.5</td>\n",
       "      <td>299.6</td>\n",
       "    </tr>\n",
       "    <tr>\n",
       "      <th>1971-03-31</th>\n",
       "      <td>583.7</td>\n",
       "      <td>820.8</td>\n",
       "      <td>279.1</td>\n",
       "    </tr>\n",
       "    <tr>\n",
       "      <th>1971-06-30</th>\n",
       "      <td>623.5</td>\n",
       "      <td>856.4</td>\n",
       "      <td>290.3</td>\n",
       "    </tr>\n",
       "    <tr>\n",
       "      <th>1971-09-30</th>\n",
       "      <td>667.4</td>\n",
       "      <td>873.9</td>\n",
       "      <td>308.7</td>\n",
       "    </tr>\n",
       "    <tr>\n",
       "      <th>1971-12-31</th>\n",
       "      <td>674.0</td>\n",
       "      <td>913.0</td>\n",
       "      <td>288.2</td>\n",
       "    </tr>\n",
       "    <tr>\n",
       "      <th>...</th>\n",
       "      <td>...</td>\n",
       "      <td>...</td>\n",
       "      <td>...</td>\n",
       "    </tr>\n",
       "    <tr>\n",
       "      <th>2021-12-31</th>\n",
       "      <td>236806.5</td>\n",
       "      <td>534312.8</td>\n",
       "      <td>248785.5</td>\n",
       "    </tr>\n",
       "    <tr>\n",
       "      <th>2022-03-31</th>\n",
       "      <td>237331.1</td>\n",
       "      <td>539189.3</td>\n",
       "      <td>265200.8</td>\n",
       "    </tr>\n",
       "    <tr>\n",
       "      <th>2022-06-30</th>\n",
       "      <td>248378.0</td>\n",
       "      <td>546261.6</td>\n",
       "      <td>283469.8</td>\n",
       "    </tr>\n",
       "    <tr>\n",
       "      <th>2022-09-30</th>\n",
       "      <td>255451.0</td>\n",
       "      <td>545986.1</td>\n",
       "      <td>279655.4</td>\n",
       "    </tr>\n",
       "    <tr>\n",
       "      <th>2022-12-31</th>\n",
       "      <td>255489.2</td>\n",
       "      <td>548212.6</td>\n",
       "      <td>275963.5</td>\n",
       "    </tr>\n",
       "  </tbody>\n",
       "</table>\n",
       "<p>209 rows × 3 columns</p>\n",
       "</div>"
      ],
      "text/plain": [
       "            Consumption    Income     Money\n",
       "date                                       \n",
       "1970-12-31        551.1     787.5     299.6\n",
       "1971-03-31        583.7     820.8     279.1\n",
       "1971-06-30        623.5     856.4     290.3\n",
       "1971-09-30        667.4     873.9     308.7\n",
       "1971-12-31        674.0     913.0     288.2\n",
       "...                 ...       ...       ...\n",
       "2021-12-31     236806.5  534312.8  248785.5\n",
       "2022-03-31     237331.1  539189.3  265200.8\n",
       "2022-06-30     248378.0  546261.6  283469.8\n",
       "2022-09-30     255451.0  545986.1  279655.4\n",
       "2022-12-31     255489.2  548212.6  275963.5\n",
       "\n",
       "[209 rows x 3 columns]"
      ]
     },
     "execution_count": 2,
     "metadata": {},
     "output_type": "execute_result"
    }
   ],
   "source": [
    "Con_In_dt = pd.read_csv('consumption_income_money.csv', index_col='date' ,header=0, parse_dates=['date'])\n",
    "print(Con_In_dt.isnull().sum())\n",
    "Con_In_dt"
   ]
  },
  {
   "attachments": {},
   "cell_type": "markdown",
   "id": "c0c2561f",
   "metadata": {},
   "source": [
    "### EDA"
   ]
  },
  {
   "cell_type": "code",
   "execution_count": 3,
   "id": "4c49f9c8",
   "metadata": {},
   "outputs": [
    {
     "data": {
      "text/html": [
       "<div>\n",
       "<style scoped>\n",
       "    .dataframe tbody tr th:only-of-type {\n",
       "        vertical-align: middle;\n",
       "    }\n",
       "\n",
       "    .dataframe tbody tr th {\n",
       "        vertical-align: top;\n",
       "    }\n",
       "\n",
       "    .dataframe thead th {\n",
       "        text-align: right;\n",
       "    }\n",
       "</style>\n",
       "<table border=\"1\" class=\"dataframe\">\n",
       "  <thead>\n",
       "    <tr style=\"text-align: right;\">\n",
       "      <th></th>\n",
       "      <th>Consumption</th>\n",
       "      <th>Income</th>\n",
       "      <th>Money</th>\n",
       "    </tr>\n",
       "  </thead>\n",
       "  <tbody>\n",
       "    <tr>\n",
       "      <th>count</th>\n",
       "      <td>209.000000</td>\n",
       "      <td>209.000000</td>\n",
       "      <td>209.000000</td>\n",
       "    </tr>\n",
       "    <tr>\n",
       "      <th>mean</th>\n",
       "      <td>84796.594258</td>\n",
       "      <td>176443.876077</td>\n",
       "      <td>51075.705646</td>\n",
       "    </tr>\n",
       "    <tr>\n",
       "      <th>std</th>\n",
       "      <td>79136.018235</td>\n",
       "      <td>173054.698769</td>\n",
       "      <td>67458.114635</td>\n",
       "    </tr>\n",
       "    <tr>\n",
       "      <th>min</th>\n",
       "      <td>551.100000</td>\n",
       "      <td>787.500000</td>\n",
       "      <td>274.100000</td>\n",
       "    </tr>\n",
       "    <tr>\n",
       "      <th>25%</th>\n",
       "      <td>10148.000000</td>\n",
       "      <td>17604.700000</td>\n",
       "      <td>3557.800000</td>\n",
       "    </tr>\n",
       "    <tr>\n",
       "      <th>50%</th>\n",
       "      <td>65078.000000</td>\n",
       "      <td>126635.400000</td>\n",
       "      <td>23079.800000</td>\n",
       "    </tr>\n",
       "    <tr>\n",
       "      <th>75%</th>\n",
       "      <td>153071.800000</td>\n",
       "      <td>308686.600000</td>\n",
       "      <td>71710.100000</td>\n",
       "    </tr>\n",
       "    <tr>\n",
       "      <th>max</th>\n",
       "      <td>255489.200000</td>\n",
       "      <td>548212.600000</td>\n",
       "      <td>283469.800000</td>\n",
       "    </tr>\n",
       "  </tbody>\n",
       "</table>\n",
       "</div>"
      ],
      "text/plain": [
       "         Consumption         Income          Money\n",
       "count     209.000000     209.000000     209.000000\n",
       "mean    84796.594258  176443.876077   51075.705646\n",
       "std     79136.018235  173054.698769   67458.114635\n",
       "min       551.100000     787.500000     274.100000\n",
       "25%     10148.000000   17604.700000    3557.800000\n",
       "50%     65078.000000  126635.400000   23079.800000\n",
       "75%    153071.800000  308686.600000   71710.100000\n",
       "max    255489.200000  548212.600000  283469.800000"
      ]
     },
     "execution_count": 3,
     "metadata": {},
     "output_type": "execute_result"
    }
   ],
   "source": [
    "Con_In_dt.describe()"
   ]
  },
  {
   "cell_type": "code",
   "execution_count": 4,
   "id": "581432ed",
   "metadata": {},
   "outputs": [
    {
     "data": {
      "text/html": [
       "<div>\n",
       "<style scoped>\n",
       "    .dataframe tbody tr th:only-of-type {\n",
       "        vertical-align: middle;\n",
       "    }\n",
       "\n",
       "    .dataframe tbody tr th {\n",
       "        vertical-align: top;\n",
       "    }\n",
       "\n",
       "    .dataframe thead th {\n",
       "        text-align: right;\n",
       "    }\n",
       "</style>\n",
       "<table border=\"1\" class=\"dataframe\">\n",
       "  <thead>\n",
       "    <tr style=\"text-align: right;\">\n",
       "      <th></th>\n",
       "      <th>Consumption</th>\n",
       "      <th>Income</th>\n",
       "      <th>Money</th>\n",
       "    </tr>\n",
       "  </thead>\n",
       "  <tbody>\n",
       "    <tr>\n",
       "      <th>Consumption</th>\n",
       "      <td>1.000000</td>\n",
       "      <td>0.997238</td>\n",
       "      <td>0.907671</td>\n",
       "    </tr>\n",
       "    <tr>\n",
       "      <th>Income</th>\n",
       "      <td>0.997238</td>\n",
       "      <td>1.000000</td>\n",
       "      <td>0.931228</td>\n",
       "    </tr>\n",
       "    <tr>\n",
       "      <th>Money</th>\n",
       "      <td>0.907671</td>\n",
       "      <td>0.931228</td>\n",
       "      <td>1.000000</td>\n",
       "    </tr>\n",
       "  </tbody>\n",
       "</table>\n",
       "</div>"
      ],
      "text/plain": [
       "             Consumption    Income     Money\n",
       "Consumption     1.000000  0.997238  0.907671\n",
       "Income          0.997238  1.000000  0.931228\n",
       "Money           0.907671  0.931228  1.000000"
      ]
     },
     "execution_count": 4,
     "metadata": {},
     "output_type": "execute_result"
    }
   ],
   "source": [
    "Con_In_dt.corr()"
   ]
  },
  {
   "attachments": {},
   "cell_type": "markdown",
   "id": "461cc8aa",
   "metadata": {},
   "source": [
    "### Graph - Line Plot"
   ]
  },
  {
   "cell_type": "code",
   "execution_count": 5,
   "id": "0ba65483",
   "metadata": {},
   "outputs": [
    {
     "name": "stderr",
     "output_type": "stream",
     "text": [
      "C:\\Users\\ehapp\\AppData\\Local\\Temp\\ipykernel_23420\\1590934542.py:1: MatplotlibDeprecationWarning: The seaborn styles shipped by Matplotlib are deprecated since 3.6, as they no longer correspond to the styles shipped by seaborn. However, they will remain available as 'seaborn-v0_8-<style>'. Alternatively, directly use the seaborn API instead.\n",
      "  plt.style.use('seaborn-darkgrid')\n"
     ]
    },
    {
     "data": {
      "image/png": "[encoded data removed]",
      "text/plain": [
       "<Figure size 800x900 with 3 Axes>"
      ]
     },
     "metadata": {},
     "output_type": "display_data"
    }
   ],
   "source": [
    "plt.style.use('seaborn-darkgrid')\n",
    "\n",
    "fig, ax = plt.subplots(nrows=3, ncols=1, figsize=(8,9), sharex=False, sharey=False)\n",
    "fig.subplots_adjust(hspace = 0.3)\n",
    "\n",
    "ax[0].plot('Consumption', color='limegreen', label=\"Consumption\", data = Con_In_dt)\n",
    "ax[0].set_title(\"Consumption\")\n",
    "ax[0].legend()\n",
    "\n",
    "ax[1].plot('Income', color='limegreen', label=\"Income\", data = Con_In_dt)\n",
    "ax[1].set_title(\"Income\")\n",
    "ax[1].legend()\n",
    "\n",
    "ax[2].plot('Money', color='limegreen', label=\"Money\", data = Con_In_dt)\n",
    "ax[2].set_title(\"Money\")\n",
    "ax[2].legend()\n",
    "\n",
    "plt.show()"
   ]
  },
  {
   "cell_type": "code",
   "execution_count": 6,
   "id": "aafe53e3",
   "metadata": {},
   "outputs": [
    {
     "name": "stderr",
     "output_type": "stream",
     "text": [
      "/var/folders/q0/_z0jfx6x3kl7t7fj2g3hmmt40000gn/T/ipykernel_21186/3825596595.py:1: MatplotlibDeprecationWarning: The seaborn styles shipped by Matplotlib are deprecated since 3.6, as they no longer correspond to the styles shipped by seaborn. However, they will remain available as 'seaborn-v0_8-<style>'. Alternatively, directly use the seaborn API instead.\n",
      "  plt.style.use('seaborn-darkgrid')\n"
     ]
    },
    {
     "data": {
      "image/png": "[encoded data removed]",
      "text/plain": [
       "<Figure size 800x900 with 3 Axes>"
      ]
     },
     "metadata": {},
     "output_type": "display_data"
    }
   ],
   "source": [
    "plt.style.use('seaborn-darkgrid')\n",
    "\n",
    "fig, ax = plt.subplots(nrows=3, ncols=1, figsize=(8,9), sharex=False, sharey=False)\n",
    "fig.subplots_adjust(hspace = 0.3)\n",
    "\n",
    "ax[0].plot('Consumption', color='limegreen', label=\"Consumption\", data = Con_In_dt)\n",
    "ax[0].set_title(\"Consumption\")\n",
    "ax[0].set_yscale('log')\n",
    "ax[0].legend()\n",
    "\n",
    "ax[1].plot('Income', color='limegreen', label=\"Income\", data = Con_In_dt)\n",
    "ax[1].set_title(\"Income\")\n",
    "ax[1].set_yscale('log')\n",
    "ax[1].legend()\n",
    "\n",
    "ax[2].plot('Money', color='limegreen', label=\"Money\", data = Con_In_dt)\n",
    "ax[2].set_title(\"Money\")\n",
    "ax[2].set_yscale('log')\n",
    "ax[2].legend()\n",
    "\n",
    "plt.show()"
   ]
  },
  {
   "attachments": {},
   "cell_type": "markdown",
   "id": "1d853d2a",
   "metadata": {},
   "source": [
    "# statsmodels"
   ]
  },
  {
   "attachments": {},
   "cell_type": "markdown",
   "id": "23cb262f",
   "metadata": {},
   "source": [
    "### Univariate Regression"
   ]
  },
  {
   "cell_type": "code",
   "execution_count": 6,
   "id": "0cbc03e0",
   "metadata": {},
   "outputs": [
    {
     "data": {
      "text/html": [
       "<table class=\"simpletable\">\n",
       "<caption>OLS Regression Results</caption>\n",
       "<tr>\n",
       "  <th>Dep. Variable:</th>       <td>Consumption</td>   <th>  R-squared:         </th> <td>   0.994</td> \n",
       "</tr>\n",
       "<tr>\n",
       "  <th>Model:</th>                   <td>OLS</td>       <th>  Adj. R-squared:    </th> <td>   0.994</td> \n",
       "</tr>\n",
       "<tr>\n",
       "  <th>Method:</th>             <td>Least Squares</td>  <th>  F-statistic:       </th> <td>3.732e+04</td>\n",
       "</tr>\n",
       "<tr>\n",
       "  <th>Date:</th>             <td>Mon, 29 May 2023</td> <th>  Prob (F-statistic):</th> <td>1.00e-235</td>\n",
       "</tr>\n",
       "<tr>\n",
       "  <th>Time:</th>                 <td>22:00:32</td>     <th>  Log-Likelihood:    </th> <td> -2109.9</td> \n",
       "</tr>\n",
       "<tr>\n",
       "  <th>No. Observations:</th>      <td>   209</td>      <th>  AIC:               </th> <td>   4224.</td> \n",
       "</tr>\n",
       "<tr>\n",
       "  <th>Df Residuals:</th>          <td>   207</td>      <th>  BIC:               </th> <td>   4231.</td> \n",
       "</tr>\n",
       "<tr>\n",
       "  <th>Df Model:</th>              <td>     1</td>      <th>                     </th>     <td> </td>    \n",
       "</tr>\n",
       "<tr>\n",
       "  <th>Covariance Type:</th>      <td>nonrobust</td>    <th>                     </th>     <td> </td>    \n",
       "</tr>\n",
       "</table>\n",
       "<table class=\"simpletable\">\n",
       "<tr>\n",
       "      <td></td>         <th>coef</th>     <th>std err</th>      <th>t</th>      <th>P>|t|</th>  <th>[0.025</th>    <th>0.975]</th>  \n",
       "</tr>\n",
       "<tr>\n",
       "  <th>Intercept</th> <td> 4333.5785</td> <td>  582.714</td> <td>    7.437</td> <td> 0.000</td> <td> 3184.763</td> <td> 5482.394</td>\n",
       "</tr>\n",
       "<tr>\n",
       "  <th>Income</th>    <td>    0.4560</td> <td>    0.002</td> <td>  193.186</td> <td> 0.000</td> <td>    0.451</td> <td>    0.461</td>\n",
       "</tr>\n",
       "</table>\n",
       "<table class=\"simpletable\">\n",
       "<tr>\n",
       "  <th>Omnibus:</th>       <td> 0.073</td> <th>  Durbin-Watson:     </th> <td>   0.079</td>\n",
       "</tr>\n",
       "<tr>\n",
       "  <th>Prob(Omnibus):</th> <td> 0.964</td> <th>  Jarque-Bera (JB):  </th> <td>   0.041</td>\n",
       "</tr>\n",
       "<tr>\n",
       "  <th>Skew:</th>          <td> 0.033</td> <th>  Prob(JB):          </th> <td>   0.980</td>\n",
       "</tr>\n",
       "<tr>\n",
       "  <th>Kurtosis:</th>      <td> 2.982</td> <th>  Cond. No.          </th> <td>3.53e+05</td>\n",
       "</tr>\n",
       "</table><br/><br/>Notes:<br/>[1] Standard Errors assume that the covariance matrix of the errors is correctly specified.<br/>[2] The condition number is large, 3.53e+05. This might indicate that there are<br/>strong multicollinearity or other numerical problems."
      ],
      "text/latex": [
       "\\begin{center}\n",
       "\\begin{tabular}{lclc}\n",
       "\\toprule\n",
       "\\textbf{Dep. Variable:}    &   Consumption    & \\textbf{  R-squared:         } &     0.994   \\\\\n",
       "\\textbf{Model:}            &       OLS        & \\textbf{  Adj. R-squared:    } &     0.994   \\\\\n",
       "\\textbf{Method:}           &  Least Squares   & \\textbf{  F-statistic:       } & 3.732e+04   \\\\\n",
       "\\textbf{Date:}             & Mon, 29 May 2023 & \\textbf{  Prob (F-statistic):} & 1.00e-235   \\\\\n",
       "\\textbf{Time:}             &     22:00:32     & \\textbf{  Log-Likelihood:    } &   -2109.9   \\\\\n",
       "\\textbf{No. Observations:} &         209      & \\textbf{  AIC:               } &     4224.   \\\\\n",
       "\\textbf{Df Residuals:}     &         207      & \\textbf{  BIC:               } &     4231.   \\\\\n",
       "\\textbf{Df Model:}         &           1      & \\textbf{                     } &             \\\\\n",
       "\\textbf{Covariance Type:}  &    nonrobust     & \\textbf{                     } &             \\\\\n",
       "\\bottomrule\n",
       "\\end{tabular}\n",
       "\\begin{tabular}{lcccccc}\n",
       "                   & \\textbf{coef} & \\textbf{std err} & \\textbf{t} & \\textbf{P$> |$t$|$} & \\textbf{[0.025} & \\textbf{0.975]}  \\\\\n",
       "\\midrule\n",
       "\\textbf{Intercept} &    4333.5785  &      582.714     &     7.437  &         0.000        &     3184.763    &     5482.394     \\\\\n",
       "\\textbf{Income}    &       0.4560  &        0.002     &   193.186  &         0.000        &        0.451    &        0.461     \\\\\n",
       "\\bottomrule\n",
       "\\end{tabular}\n",
       "\\begin{tabular}{lclc}\n",
       "\\textbf{Omnibus:}       &  0.073 & \\textbf{  Durbin-Watson:     } &    0.079  \\\\\n",
       "\\textbf{Prob(Omnibus):} &  0.964 & \\textbf{  Jarque-Bera (JB):  } &    0.041  \\\\\n",
       "\\textbf{Skew:}          &  0.033 & \\textbf{  Prob(JB):          } &    0.980  \\\\\n",
       "\\textbf{Kurtosis:}      &  2.982 & \\textbf{  Cond. No.          } & 3.53e+05  \\\\\n",
       "\\bottomrule\n",
       "\\end{tabular}\n",
       "%\\caption{OLS Regression Results}\n",
       "\\end{center}\n",
       "\n",
       "Notes: \\newline\n",
       " [1] Standard Errors assume that the covariance matrix of the errors is correctly specified. \\newline\n",
       " [2] The condition number is large, 3.53e+05. This might indicate that there are \\newline\n",
       " strong multicollinearity or other numerical problems."
      ],
      "text/plain": [
       "<class 'statsmodels.iolib.summary.Summary'>\n",
       "\"\"\"\n",
       "                            OLS Regression Results                            \n",
       "==============================================================================\n",
       "Dep. Variable:            Consumption   R-squared:                       0.994\n",
       "Model:                            OLS   Adj. R-squared:                  0.994\n",
       "Method:                 Least Squares   F-statistic:                 3.732e+04\n",
       "Date:                Mon, 29 May 2023   Prob (F-statistic):          1.00e-235\n",
       "Time:                        22:00:32   Log-Likelihood:                -2109.9\n",
       "No. Observations:                 209   AIC:                             4224.\n",
       "Df Residuals:                     207   BIC:                             4231.\n",
       "Df Model:                           1                                         \n",
       "Covariance Type:            nonrobust                                         \n",
       "==============================================================================\n",
       "                 coef    std err          t      P>|t|      [0.025      0.975]\n",
       "------------------------------------------------------------------------------\n",
       "Intercept   4333.5785    582.714      7.437      0.000    3184.763    5482.394\n",
       "Income         0.4560      0.002    193.186      0.000       0.451       0.461\n",
       "==============================================================================\n",
       "Omnibus:                        0.073   Durbin-Watson:                   0.079\n",
       "Prob(Omnibus):                  0.964   Jarque-Bera (JB):                0.041\n",
       "Skew:                           0.033   Prob(JB):                        0.980\n",
       "Kurtosis:                       2.982   Cond. No.                     3.53e+05\n",
       "==============================================================================\n",
       "\n",
       "Notes:\n",
       "[1] Standard Errors assume that the covariance matrix of the errors is correctly specified.\n",
       "[2] The condition number is large, 3.53e+05. This might indicate that there are\n",
       "strong multicollinearity or other numerical problems.\n",
       "\"\"\""
      ]
     },
     "execution_count": 6,
     "metadata": {},
     "output_type": "execute_result"
    }
   ],
   "source": [
    "UniFormula = \"Consumption ~ Income\"\n",
    "reg_ci = smf.ols(UniFormula, data=Con_In_dt).fit()\n",
    "reg_ci.summary()"
   ]
  },
  {
   "cell_type": "code",
   "execution_count": 8,
   "id": "acfefd69",
   "metadata": {},
   "outputs": [
    {
     "data": {
      "text/html": [
       "<table class=\"simpletable\">\n",
       "<caption>OLS Regression Results</caption>\n",
       "<tr>\n",
       "  <th>Dep. Variable:</th>       <td>Consumption</td>   <th>  R-squared:         </th> <td>   0.824</td>\n",
       "</tr>\n",
       "<tr>\n",
       "  <th>Model:</th>                   <td>OLS</td>       <th>  Adj. R-squared:    </th> <td>   0.823</td>\n",
       "</tr>\n",
       "<tr>\n",
       "  <th>Method:</th>             <td>Least Squares</td>  <th>  F-statistic:       </th> <td>   968.2</td>\n",
       "</tr>\n",
       "<tr>\n",
       "  <th>Date:</th>             <td>Sat, 08 Apr 2023</td> <th>  Prob (F-statistic):</th> <td>5.37e-80</td>\n",
       "</tr>\n",
       "<tr>\n",
       "  <th>Time:</th>                 <td>10:21:24</td>     <th>  Log-Likelihood:    </th> <td> -2471.9</td>\n",
       "</tr>\n",
       "<tr>\n",
       "  <th>No. Observations:</th>      <td>   209</td>      <th>  AIC:               </th> <td>   4948.</td>\n",
       "</tr>\n",
       "<tr>\n",
       "  <th>Df Residuals:</th>          <td>   207</td>      <th>  BIC:               </th> <td>   4954.</td>\n",
       "</tr>\n",
       "<tr>\n",
       "  <th>Df Model:</th>              <td>     1</td>      <th>                     </th>     <td> </td>   \n",
       "</tr>\n",
       "<tr>\n",
       "  <th>Covariance Type:</th>      <td>nonrobust</td>    <th>                     </th>     <td> </td>   \n",
       "</tr>\n",
       "</table>\n",
       "<table class=\"simpletable\">\n",
       "<tr>\n",
       "      <td></td>         <th>coef</th>     <th>std err</th>      <th>t</th>      <th>P>|t|</th>  <th>[0.025</th>    <th>0.975]</th>  \n",
       "</tr>\n",
       "<tr>\n",
       "  <th>Intercept</th> <td> 3.041e+04</td> <td> 2891.012</td> <td>   10.519</td> <td> 0.000</td> <td> 2.47e+04</td> <td> 3.61e+04</td>\n",
       "</tr>\n",
       "<tr>\n",
       "  <th>Money</th>     <td>    1.0648</td> <td>    0.034</td> <td>   31.117</td> <td> 0.000</td> <td>    0.997</td> <td>    1.132</td>\n",
       "</tr>\n",
       "</table>\n",
       "<table class=\"simpletable\">\n",
       "<tr>\n",
       "  <th>Omnibus:</th>       <td>29.887</td> <th>  Durbin-Watson:     </th> <td>   0.017</td>\n",
       "</tr>\n",
       "<tr>\n",
       "  <th>Prob(Omnibus):</th> <td> 0.000</td> <th>  Jarque-Bera (JB):  </th> <td>   8.667</td>\n",
       "</tr>\n",
       "<tr>\n",
       "  <th>Skew:</th>          <td> 0.146</td> <th>  Prob(JB):          </th> <td>  0.0131</td>\n",
       "</tr>\n",
       "<tr>\n",
       "  <th>Kurtosis:</th>      <td> 2.046</td> <th>  Cond. No.          </th> <td>1.06e+05</td>\n",
       "</tr>\n",
       "</table><br/><br/>Notes:<br/>[1] Standard Errors assume that the covariance matrix of the errors is correctly specified.<br/>[2] The condition number is large, 1.06e+05. This might indicate that there are<br/>strong multicollinearity or other numerical problems."
      ],
      "text/plain": [
       "<class 'statsmodels.iolib.summary.Summary'>\n",
       "\"\"\"\n",
       "                            OLS Regression Results                            \n",
       "==============================================================================\n",
       "Dep. Variable:            Consumption   R-squared:                       0.824\n",
       "Model:                            OLS   Adj. R-squared:                  0.823\n",
       "Method:                 Least Squares   F-statistic:                     968.2\n",
       "Date:                Sat, 08 Apr 2023   Prob (F-statistic):           5.37e-80\n",
       "Time:                        10:21:24   Log-Likelihood:                -2471.9\n",
       "No. Observations:                 209   AIC:                             4948.\n",
       "Df Residuals:                     207   BIC:                             4954.\n",
       "Df Model:                           1                                         \n",
       "Covariance Type:            nonrobust                                         \n",
       "==============================================================================\n",
       "                 coef    std err          t      P>|t|      [0.025      0.975]\n",
       "------------------------------------------------------------------------------\n",
       "Intercept   3.041e+04   2891.012     10.519      0.000    2.47e+04    3.61e+04\n",
       "Money          1.0648      0.034     31.117      0.000       0.997       1.132\n",
       "==============================================================================\n",
       "Omnibus:                       29.887   Durbin-Watson:                   0.017\n",
       "Prob(Omnibus):                  0.000   Jarque-Bera (JB):                8.667\n",
       "Skew:                           0.146   Prob(JB):                       0.0131\n",
       "Kurtosis:                       2.046   Cond. No.                     1.06e+05\n",
       "==============================================================================\n",
       "\n",
       "Notes:\n",
       "[1] Standard Errors assume that the covariance matrix of the errors is correctly specified.\n",
       "[2] The condition number is large, 1.06e+05. This might indicate that there are\n",
       "strong multicollinearity or other numerical problems.\n",
       "\"\"\""
      ]
     },
     "execution_count": 8,
     "metadata": {},
     "output_type": "execute_result"
    }
   ],
   "source": [
    "UniFormula = \"Consumption ~ Money \"\n",
    "reg_cm = smf.ols(UniFormula, data=Con_In_dt).fit()\n",
    "reg_cm.summary()"
   ]
  },
  {
   "attachments": {},
   "cell_type": "markdown",
   "id": "be096343",
   "metadata": {},
   "source": [
    "### Multivariate Regression"
   ]
  },
  {
   "cell_type": "code",
   "execution_count": 7,
   "id": "a5a9eb89",
   "metadata": {},
   "outputs": [
    {
     "data": {
      "text/html": [
       "<table class=\"simpletable\">\n",
       "<caption>OLS Regression Results</caption>\n",
       "<tr>\n",
       "  <th>Dep. Variable:</th>       <td>Consumption</td>   <th>  R-squared:         </th> <td>   0.998</td> \n",
       "</tr>\n",
       "<tr>\n",
       "  <th>Model:</th>                   <td>OLS</td>       <th>  Adj. R-squared:    </th> <td>   0.998</td> \n",
       "</tr>\n",
       "<tr>\n",
       "  <th>Method:</th>             <td>Least Squares</td>  <th>  F-statistic:       </th> <td>4.671e+04</td>\n",
       "</tr>\n",
       "<tr>\n",
       "  <th>Date:</th>             <td>Mon, 29 May 2023</td> <th>  Prob (F-statistic):</th> <td>1.89e-274</td>\n",
       "</tr>\n",
       "<tr>\n",
       "  <th>Time:</th>                 <td>22:01:05</td>     <th>  Log-Likelihood:    </th> <td> -2013.9</td> \n",
       "</tr>\n",
       "<tr>\n",
       "  <th>No. Observations:</th>      <td>   209</td>      <th>  AIC:               </th> <td>   4034.</td> \n",
       "</tr>\n",
       "<tr>\n",
       "  <th>Df Residuals:</th>          <td>   206</td>      <th>  BIC:               </th> <td>   4044.</td> \n",
       "</tr>\n",
       "<tr>\n",
       "  <th>Df Model:</th>              <td>     2</td>      <th>                     </th>     <td> </td>    \n",
       "</tr>\n",
       "<tr>\n",
       "  <th>Covariance Type:</th>      <td>nonrobust</td>    <th>                     </th>     <td> </td>    \n",
       "</tr>\n",
       "</table>\n",
       "<table class=\"simpletable\">\n",
       "<tr>\n",
       "      <td></td>         <th>coef</th>     <th>std err</th>      <th>t</th>      <th>P>|t|</th>  <th>[0.025</th>    <th>0.975]</th>  \n",
       "</tr>\n",
       "<tr>\n",
       "  <th>Intercept</th> <td> 1928.9332</td> <td>  393.366</td> <td>    4.904</td> <td> 0.000</td> <td> 1153.393</td> <td> 2704.473</td>\n",
       "</tr>\n",
       "<tr>\n",
       "  <th>Income</th>    <td>    0.5233</td> <td>    0.004</td> <td>  127.608</td> <td> 0.000</td> <td>    0.515</td> <td>    0.531</td>\n",
       "</tr>\n",
       "<tr>\n",
       "  <th>Money</th>     <td>   -0.1854</td> <td>    0.011</td> <td>  -17.618</td> <td> 0.000</td> <td>   -0.206</td> <td>   -0.165</td>\n",
       "</tr>\n",
       "</table>\n",
       "<table class=\"simpletable\">\n",
       "<tr>\n",
       "  <th>Omnibus:</th>       <td>78.028</td> <th>  Durbin-Watson:     </th> <td>   0.255</td> \n",
       "</tr>\n",
       "<tr>\n",
       "  <th>Prob(Omnibus):</th> <td> 0.000</td> <th>  Jarque-Bera (JB):  </th> <td> 459.106</td> \n",
       "</tr>\n",
       "<tr>\n",
       "  <th>Skew:</th>          <td> 1.298</td> <th>  Prob(JB):          </th> <td>2.02e-100</td>\n",
       "</tr>\n",
       "<tr>\n",
       "  <th>Kurtosis:</th>      <td> 9.781</td> <th>  Cond. No.          </th> <td>3.96e+05</td> \n",
       "</tr>\n",
       "</table><br/><br/>Notes:<br/>[1] Standard Errors assume that the covariance matrix of the errors is correctly specified.<br/>[2] The condition number is large, 3.96e+05. This might indicate that there are<br/>strong multicollinearity or other numerical problems."
      ],
      "text/latex": [
       "\\begin{center}\n",
       "\\begin{tabular}{lclc}\n",
       "\\toprule\n",
       "\\textbf{Dep. Variable:}    &   Consumption    & \\textbf{  R-squared:         } &     0.998   \\\\\n",
       "\\textbf{Model:}            &       OLS        & \\textbf{  Adj. R-squared:    } &     0.998   \\\\\n",
       "\\textbf{Method:}           &  Least Squares   & \\textbf{  F-statistic:       } & 4.671e+04   \\\\\n",
       "\\textbf{Date:}             & Mon, 29 May 2023 & \\textbf{  Prob (F-statistic):} & 1.89e-274   \\\\\n",
       "\\textbf{Time:}             &     22:01:05     & \\textbf{  Log-Likelihood:    } &   -2013.9   \\\\\n",
       "\\textbf{No. Observations:} &         209      & \\textbf{  AIC:               } &     4034.   \\\\\n",
       "\\textbf{Df Residuals:}     &         206      & \\textbf{  BIC:               } &     4044.   \\\\\n",
       "\\textbf{Df Model:}         &           2      & \\textbf{                     } &             \\\\\n",
       "\\textbf{Covariance Type:}  &    nonrobust     & \\textbf{                     } &             \\\\\n",
       "\\bottomrule\n",
       "\\end{tabular}\n",
       "\\begin{tabular}{lcccccc}\n",
       "                   & \\textbf{coef} & \\textbf{std err} & \\textbf{t} & \\textbf{P$> |$t$|$} & \\textbf{[0.025} & \\textbf{0.975]}  \\\\\n",
       "\\midrule\n",
       "\\textbf{Intercept} &    1928.9332  &      393.366     &     4.904  &         0.000        &     1153.393    &     2704.473     \\\\\n",
       "\\textbf{Income}    &       0.5233  &        0.004     &   127.608  &         0.000        &        0.515    &        0.531     \\\\\n",
       "\\textbf{Money}     &      -0.1854  &        0.011     &   -17.618  &         0.000        &       -0.206    &       -0.165     \\\\\n",
       "\\bottomrule\n",
       "\\end{tabular}\n",
       "\\begin{tabular}{lclc}\n",
       "\\textbf{Omnibus:}       & 78.028 & \\textbf{  Durbin-Watson:     } &     0.255  \\\\\n",
       "\\textbf{Prob(Omnibus):} &  0.000 & \\textbf{  Jarque-Bera (JB):  } &   459.106  \\\\\n",
       "\\textbf{Skew:}          &  1.298 & \\textbf{  Prob(JB):          } & 2.02e-100  \\\\\n",
       "\\textbf{Kurtosis:}      &  9.781 & \\textbf{  Cond. No.          } &  3.96e+05  \\\\\n",
       "\\bottomrule\n",
       "\\end{tabular}\n",
       "%\\caption{OLS Regression Results}\n",
       "\\end{center}\n",
       "\n",
       "Notes: \\newline\n",
       " [1] Standard Errors assume that the covariance matrix of the errors is correctly specified. \\newline\n",
       " [2] The condition number is large, 3.96e+05. This might indicate that there are \\newline\n",
       " strong multicollinearity or other numerical problems."
      ],
      "text/plain": [
       "<class 'statsmodels.iolib.summary.Summary'>\n",
       "\"\"\"\n",
       "                            OLS Regression Results                            \n",
       "==============================================================================\n",
       "Dep. Variable:            Consumption   R-squared:                       0.998\n",
       "Model:                            OLS   Adj. R-squared:                  0.998\n",
       "Method:                 Least Squares   F-statistic:                 4.671e+04\n",
       "Date:                Mon, 29 May 2023   Prob (F-statistic):          1.89e-274\n",
       "Time:                        22:01:05   Log-Likelihood:                -2013.9\n",
       "No. Observations:                 209   AIC:                             4034.\n",
       "Df Residuals:                     206   BIC:                             4044.\n",
       "Df Model:                           2                                         \n",
       "Covariance Type:            nonrobust                                         \n",
       "==============================================================================\n",
       "                 coef    std err          t      P>|t|      [0.025      0.975]\n",
       "------------------------------------------------------------------------------\n",
       "Intercept   1928.9332    393.366      4.904      0.000    1153.393    2704.473\n",
       "Income         0.5233      0.004    127.608      0.000       0.515       0.531\n",
       "Money         -0.1854      0.011    -17.618      0.000      -0.206      -0.165\n",
       "==============================================================================\n",
       "Omnibus:                       78.028   Durbin-Watson:                   0.255\n",
       "Prob(Omnibus):                  0.000   Jarque-Bera (JB):              459.106\n",
       "Skew:                           1.298   Prob(JB):                    2.02e-100\n",
       "Kurtosis:                       9.781   Cond. No.                     3.96e+05\n",
       "==============================================================================\n",
       "\n",
       "Notes:\n",
       "[1] Standard Errors assume that the covariance matrix of the errors is correctly specified.\n",
       "[2] The condition number is large, 3.96e+05. This might indicate that there are\n",
       "strong multicollinearity or other numerical problems.\n",
       "\"\"\""
      ]
     },
     "execution_count": 7,
     "metadata": {},
     "output_type": "execute_result"
    }
   ],
   "source": [
    "UniFormula = \"Consumption ~ Income + Money \"\n",
    "reg_cmi = smf.ols(UniFormula, data=Con_In_dt).fit()\n",
    "reg_cmi.summary()"
   ]
  },
  {
   "attachments": {},
   "cell_type": "markdown",
   "id": "82b6e22f",
   "metadata": {},
   "source": [
    "### Linear Regression with sklearn\n",
    "LinearRegression().fit(X, y)"
   ]
  },
  {
   "cell_type": "code",
   "execution_count": 8,
   "id": "099f26cd",
   "metadata": {},
   "outputs": [
    {
     "data": {
      "text/plain": [
       "date\n",
       "1970-12-31       787.5\n",
       "1971-03-31       820.8\n",
       "1971-06-30       856.4\n",
       "1971-09-30       873.9\n",
       "1971-12-31       913.0\n",
       "                ...   \n",
       "2021-12-31    534312.8\n",
       "2022-03-31    539189.3\n",
       "2022-06-30    546261.6\n",
       "2022-09-30    545986.1\n",
       "2022-12-31    548212.6\n",
       "Name: Income, Length: 209, dtype: float64"
      ]
     },
     "execution_count": 8,
     "metadata": {},
     "output_type": "execute_result"
    }
   ],
   "source": [
    "Con_In_dt['Income']"
   ]
  },
  {
   "cell_type": "code",
   "execution_count": 9,
   "id": "1e5ea82d",
   "metadata": {},
   "outputs": [
    {
     "data": {
      "text/html": [
       "<div>\n",
       "<style scoped>\n",
       "    .dataframe tbody tr th:only-of-type {\n",
       "        vertical-align: middle;\n",
       "    }\n",
       "\n",
       "    .dataframe tbody tr th {\n",
       "        vertical-align: top;\n",
       "    }\n",
       "\n",
       "    .dataframe thead th {\n",
       "        text-align: right;\n",
       "    }\n",
       "</style>\n",
       "<table border=\"1\" class=\"dataframe\">\n",
       "  <thead>\n",
       "    <tr style=\"text-align: right;\">\n",
       "      <th></th>\n",
       "      <th>Income</th>\n",
       "    </tr>\n",
       "    <tr>\n",
       "      <th>date</th>\n",
       "      <th></th>\n",
       "    </tr>\n",
       "  </thead>\n",
       "  <tbody>\n",
       "    <tr>\n",
       "      <th>1970-12-31</th>\n",
       "      <td>787.5</td>\n",
       "    </tr>\n",
       "    <tr>\n",
       "      <th>1971-03-31</th>\n",
       "      <td>820.8</td>\n",
       "    </tr>\n",
       "    <tr>\n",
       "      <th>1971-06-30</th>\n",
       "      <td>856.4</td>\n",
       "    </tr>\n",
       "    <tr>\n",
       "      <th>1971-09-30</th>\n",
       "      <td>873.9</td>\n",
       "    </tr>\n",
       "    <tr>\n",
       "      <th>1971-12-31</th>\n",
       "      <td>913.0</td>\n",
       "    </tr>\n",
       "    <tr>\n",
       "      <th>...</th>\n",
       "      <td>...</td>\n",
       "    </tr>\n",
       "    <tr>\n",
       "      <th>2021-12-31</th>\n",
       "      <td>534312.8</td>\n",
       "    </tr>\n",
       "    <tr>\n",
       "      <th>2022-03-31</th>\n",
       "      <td>539189.3</td>\n",
       "    </tr>\n",
       "    <tr>\n",
       "      <th>2022-06-30</th>\n",
       "      <td>546261.6</td>\n",
       "    </tr>\n",
       "    <tr>\n",
       "      <th>2022-09-30</th>\n",
       "      <td>545986.1</td>\n",
       "    </tr>\n",
       "    <tr>\n",
       "      <th>2022-12-31</th>\n",
       "      <td>548212.6</td>\n",
       "    </tr>\n",
       "  </tbody>\n",
       "</table>\n",
       "<p>209 rows × 1 columns</p>\n",
       "</div>"
      ],
      "text/plain": [
       "              Income\n",
       "date                \n",
       "1970-12-31     787.5\n",
       "1971-03-31     820.8\n",
       "1971-06-30     856.4\n",
       "1971-09-30     873.9\n",
       "1971-12-31     913.0\n",
       "...              ...\n",
       "2021-12-31  534312.8\n",
       "2022-03-31  539189.3\n",
       "2022-06-30  546261.6\n",
       "2022-09-30  545986.1\n",
       "2022-12-31  548212.6\n",
       "\n",
       "[209 rows x 1 columns]"
      ]
     },
     "execution_count": 9,
     "metadata": {},
     "output_type": "execute_result"
    }
   ],
   "source": [
    "Con_In_dt[['Income']]"
   ]
  },
  {
   "cell_type": "code",
   "execution_count": 10,
   "id": "1d535154",
   "metadata": {},
   "outputs": [],
   "source": [
    "def abline(slope, intercept):\n",
    "    \"\"\"Plot a line from slope and intercept\"\"\"\n",
    "    axes = plt.gca()\n",
    "    x_vals = np.array(axes.get_xlim())\n",
    "    y_vals = intercept + slope * x_vals\n",
    "    plt.plot(x_vals, y_vals, '--')"
   ]
  },
  {
   "attachments": {},
   "cell_type": "markdown",
   "id": "6349e3df",
   "metadata": {},
   "source": [
    "### scatter(x, y)"
   ]
  },
  {
   "cell_type": "code",
   "execution_count": 11,
   "id": "7662ab40",
   "metadata": {},
   "outputs": [
    {
     "data": {
      "image/png": "[encoded data removed]",
      "text/plain": [
       "<Figure size 640x480 with 1 Axes>"
      ]
     },
     "metadata": {},
     "output_type": "display_data"
    }
   ],
   "source": [
    "linear = LinearRegression()\n",
    "linear.fit(Con_In_dt[['Income']], Con_In_dt['Consumption'])\n",
    "\n",
    "linear_predict = linear.predict(Con_In_dt[['Income']])\n",
    "\n",
    "plt.scatter(linear_predict, Con_In_dt['Consumption'])\n",
    "\n",
    "abline(1,0)"
   ]
  },
  {
   "cell_type": "code",
   "execution_count": 12,
   "id": "c5cafc0f",
   "metadata": {},
   "outputs": [
    {
     "name": "stdout",
     "output_type": "stream",
     "text": [
      "4333.578511718486\n",
      "[0.45602612]\n",
      "0.9944840778907063\n"
     ]
    }
   ],
   "source": [
    "print(linear.intercept_)\n",
    "print(linear.coef_)\n",
    "print(linear.score(Con_In_dt[['Income']],Con_In_dt['Consumption']))"
   ]
  },
  {
   "cell_type": "code",
   "execution_count": 13,
   "id": "62a66bb8",
   "metadata": {},
   "outputs": [
    {
     "data": {
      "text/plain": [
       "<Axes: xlabel='Income', ylabel='Consumption'>"
      ]
     },
     "execution_count": 13,
     "metadata": {},
     "output_type": "execute_result"
    },
    {
     "data": {
      "image/png": "[encoded data removed]",
      "text/plain": [
       "<Figure size 640x480 with 1 Axes>"
      ]
     },
     "metadata": {},
     "output_type": "display_data"
    }
   ],
   "source": [
    "sns.regplot(x=\"Income\", y=\"Consumption\", data=Con_In_dt, line_kws={'color':\"limegreen\"})"
   ]
  },
  {
   "cell_type": "code",
   "execution_count": 14,
   "id": "47f6961c",
   "metadata": {},
   "outputs": [
    {
     "data": {
      "image/png": "[encoded data removed]",
      "text/plain": [
       "<Figure size 640x480 with 1 Axes>"
      ]
     },
     "metadata": {},
     "output_type": "display_data"
    }
   ],
   "source": [
    "linear = LinearRegression()\n",
    "linear.fit(Con_In_dt[['Money']], Con_In_dt['Consumption'])\n",
    "\n",
    "linear_predict = linear.predict(Con_In_dt[['Money']])\n",
    "\n",
    "plt.scatter(linear_predict, Con_In_dt['Consumption'])\n",
    "    \n",
    "abline(1,0)"
   ]
  },
  {
   "cell_type": "code",
   "execution_count": 15,
   "id": "cec43d27",
   "metadata": {},
   "outputs": [
    {
     "name": "stdout",
     "output_type": "stream",
     "text": [
      "30411.119352419642\n",
      "[1.06480124]\n",
      "0.8238670013693437\n"
     ]
    }
   ],
   "source": [
    "print(linear.intercept_)\n",
    "print(linear.coef_)\n",
    "print(linear.score(Con_In_dt[['Money']], Con_In_dt['Consumption']))"
   ]
  },
  {
   "cell_type": "code",
   "execution_count": 16,
   "id": "24d99268",
   "metadata": {},
   "outputs": [
    {
     "data": {
      "text/plain": [
       "<Axes: xlabel='Money', ylabel='Consumption'>"
      ]
     },
     "execution_count": 16,
     "metadata": {},
     "output_type": "execute_result"
    },
    {
     "data": {
      "image/png": "[encoded data removed]",
      "text/plain": [
       "<Figure size 640x480 with 1 Axes>"
      ]
     },
     "metadata": {},
     "output_type": "display_data"
    }
   ],
   "source": [
    "sns.regplot(x=\"Money\", y=\"Consumption\", data=Con_In_dt, line_kws={'color':\"limegreen\"})"
   ]
  },
  {
   "cell_type": "code",
   "execution_count": 17,
   "id": "8420ed19",
   "metadata": {},
   "outputs": [
    {
     "data": {
      "image/png": "[encoded data removed]",
      "text/plain": [
       "<Figure size 640x480 with 1 Axes>"
      ]
     },
     "metadata": {},
     "output_type": "display_data"
    }
   ],
   "source": [
    "linear = LinearRegression()\n",
    "linear.fit(Con_In_dt[['Income', 'Money']], Con_In_dt['Consumption'])\n",
    "\n",
    "linear_predict = linear.predict(Con_In_dt[['Income', 'Money']])\n",
    "\n",
    "plt.scatter(linear_predict, Con_In_dt['Consumption'])\n",
    "    \n",
    "abline(1,0)"
   ]
  },
  {
   "cell_type": "code",
   "execution_count": 18,
   "id": "4d6400e1",
   "metadata": {},
   "outputs": [
    {
     "name": "stdout",
     "output_type": "stream",
     "text": [
      "1928.9332402760047\n",
      "[ 0.52330872 -0.18535149]\n",
      "0.9977996535453327\n"
     ]
    }
   ],
   "source": [
    "print(linear.intercept_)\n",
    "print(linear.coef_)\n",
    "print(linear.score(Con_In_dt[['Income', 'Money']], Con_In_dt['Consumption']))"
   ]
  },
  {
   "cell_type": "code",
   "execution_count": 19,
   "id": "c727c627",
   "metadata": {},
   "outputs": [
    {
     "data": {
      "text/plain": [
       "date\n",
       "1970-12-31       787.5\n",
       "1971-03-31       820.8\n",
       "1971-06-30       856.4\n",
       "1971-09-30       873.9\n",
       "1971-12-31       913.0\n",
       "                ...   \n",
       "2021-12-31    534312.8\n",
       "2022-03-31    539189.3\n",
       "2022-06-30    546261.6\n",
       "2022-09-30    545986.1\n",
       "2022-12-31    548212.6\n",
       "Name: Income, Length: 209, dtype: float64"
      ]
     },
     "execution_count": 19,
     "metadata": {},
     "output_type": "execute_result"
    }
   ],
   "source": [
    "Con_In_dt['Income']"
   ]
  },
  {
   "attachments": {},
   "cell_type": "markdown",
   "id": "51be0a67",
   "metadata": {},
   "source": [
    "## Unit Root Test"
   ]
  },
  {
   "cell_type": "code",
   "execution_count": 20,
   "id": "71fb2061",
   "metadata": {},
   "outputs": [
    {
     "data": {
      "image/png": "[encoded data removed]",
      "text/plain": [
       "<Figure size 640x480 with 1 Axes>"
      ]
     },
     "metadata": {},
     "output_type": "display_data"
    }
   ],
   "source": [
    "acf = pd.DataFrame(sm.tsa.stattools.acf(Con_In_dt['Consumption']), columns=[\"ACF\"])\n",
    "fig = acf[1:].plot(kind=\"bar\", title=\"Autocorrelations\")"
   ]
  },
  {
   "cell_type": "code",
   "execution_count": 21,
   "id": "0722f8a8",
   "metadata": {},
   "outputs": [
    {
     "data": {
      "image/png": "[encoded data removed]",
      "text/plain": [
       "<Figure size 640x480 with 1 Axes>"
      ]
     },
     "metadata": {},
     "output_type": "display_data"
    }
   ],
   "source": [
    "acf = pd.DataFrame(sm.tsa.stattools.acf(Con_In_dt['Income']), columns=[\"ACF\"])\n",
    "fig = acf[1:].plot(kind=\"bar\", title=\"Autocorrelations\")"
   ]
  },
  {
   "cell_type": "code",
   "execution_count": 22,
   "id": "34af8cb3",
   "metadata": {},
   "outputs": [
    {
     "data": {
      "image/png": "[encoded data removed]",
      "text/plain": [
       "<Figure size 640x480 with 1 Axes>"
      ]
     },
     "metadata": {},
     "output_type": "display_data"
    }
   ],
   "source": [
    "acf = pd.DataFrame(sm.tsa.stattools.acf(Con_In_dt['Money']), columns=[\"ACF\"])\n",
    "fig = acf[1:].plot(kind=\"bar\", title=\"Autocorrelations\")"
   ]
  },
  {
   "cell_type": "code",
   "execution_count": 23,
   "id": "e0aac39f",
   "metadata": {},
   "outputs": [
    {
     "name": "stdout",
     "output_type": "stream",
     "text": [
      "   Augmented Dickey-Fuller Results   \n",
      "=====================================\n",
      "Test Statistic                 -2.160\n",
      "P-value                         0.513\n",
      "Lags                               10\n",
      "-------------------------------------\n",
      "\n",
      "Trend: Constant and Linear Time Trend\n",
      "Critical Values: -4.01 (1%), -3.43 (5%), -3.14 (10%)\n",
      "Null Hypothesis: The process contains a unit root.\n",
      "Alternative Hypothesis: The process is weakly stationary.\n"
     ]
    }
   ],
   "source": [
    "# trend c, ct, ctt 일때 확인 필요\n",
    "# Null Hypothesis : \n",
    "adf = ADF(Con_In_dt['Consumption'], trend = 'ct')\n",
    "print(adf.summary().as_text())"
   ]
  },
  {
   "cell_type": "code",
   "execution_count": 24,
   "id": "c6cb0a8d",
   "metadata": {},
   "outputs": [
    {
     "name": "stdout",
     "output_type": "stream",
     "text": [
      "   Augmented Dickey-Fuller Results   \n",
      "=====================================\n",
      "Test Statistic                 -2.014\n",
      "P-value                         0.594\n",
      "Lags                               15\n",
      "-------------------------------------\n",
      "\n",
      "Trend: Constant and Linear Time Trend\n",
      "Critical Values: -4.01 (1%), -3.43 (5%), -3.14 (10%)\n",
      "Null Hypothesis: The process contains a unit root.\n",
      "Alternative Hypothesis: The process is weakly stationary.\n"
     ]
    }
   ],
   "source": [
    "adf = ADF(Con_In_dt['Income'], trend = 'ct')\n",
    "print(adf.summary().as_text())"
   ]
  },
  {
   "cell_type": "code",
   "execution_count": 25,
   "id": "a0bf4d73",
   "metadata": {},
   "outputs": [
    {
     "name": "stdout",
     "output_type": "stream",
     "text": [
      "   Augmented Dickey-Fuller Results   \n",
      "=====================================\n",
      "Test Statistic                  4.854\n",
      "P-value                         1.000\n",
      "Lags                               12\n",
      "-------------------------------------\n",
      "\n",
      "Trend: Constant and Linear Time Trend\n",
      "Critical Values: -4.01 (1%), -3.43 (5%), -3.14 (10%)\n",
      "Null Hypothesis: The process contains a unit root.\n",
      "Alternative Hypothesis: The process is weakly stationary.\n"
     ]
    }
   ],
   "source": [
    "adf = ADF(Con_In_dt['Money'], trend = 'ct')\n",
    "print(adf.summary().as_text())"
   ]
  },
  {
   "attachments": {},
   "cell_type": "markdown",
   "id": "752e23cb",
   "metadata": {},
   "source": [
    "### Differencing"
   ]
  },
  {
   "cell_type": "code",
   "execution_count": 26,
   "id": "359e0ad6",
   "metadata": {},
   "outputs": [],
   "source": [
    "Con_In_Diff_dt = pd.DataFrame()\n",
    "\n",
    "Con_In_Diff_dt['Consumption'] = Con_In_dt['Consumption'].diff(1).dropna()\n",
    "Con_In_Diff_dt['Income'] = Con_In_dt['Income'].diff(1).dropna()\n",
    "Con_In_Diff_dt['Money'] = Con_In_dt['Money'].diff(1).dropna()"
   ]
  },
  {
   "cell_type": "code",
   "execution_count": 27,
   "id": "4ea39bfe",
   "metadata": {},
   "outputs": [
    {
     "data": {
      "text/html": [
       "<div>\n",
       "<style scoped>\n",
       "    .dataframe tbody tr th:only-of-type {\n",
       "        vertical-align: middle;\n",
       "    }\n",
       "\n",
       "    .dataframe tbody tr th {\n",
       "        vertical-align: top;\n",
       "    }\n",
       "\n",
       "    .dataframe thead th {\n",
       "        text-align: right;\n",
       "    }\n",
       "</style>\n",
       "<table border=\"1\" class=\"dataframe\">\n",
       "  <thead>\n",
       "    <tr style=\"text-align: right;\">\n",
       "      <th></th>\n",
       "      <th>Consumption</th>\n",
       "      <th>Income</th>\n",
       "      <th>Money</th>\n",
       "    </tr>\n",
       "  </thead>\n",
       "  <tbody>\n",
       "    <tr>\n",
       "      <th>Consumption</th>\n",
       "      <td>1.000000</td>\n",
       "      <td>0.553586</td>\n",
       "      <td>0.165653</td>\n",
       "    </tr>\n",
       "    <tr>\n",
       "      <th>Income</th>\n",
       "      <td>0.553586</td>\n",
       "      <td>1.000000</td>\n",
       "      <td>0.198783</td>\n",
       "    </tr>\n",
       "    <tr>\n",
       "      <th>Money</th>\n",
       "      <td>0.165653</td>\n",
       "      <td>0.198783</td>\n",
       "      <td>1.000000</td>\n",
       "    </tr>\n",
       "  </tbody>\n",
       "</table>\n",
       "</div>"
      ],
      "text/plain": [
       "             Consumption    Income     Money\n",
       "Consumption     1.000000  0.553586  0.165653\n",
       "Income          0.553586  1.000000  0.198783\n",
       "Money           0.165653  0.198783  1.000000"
      ]
     },
     "execution_count": 27,
     "metadata": {},
     "output_type": "execute_result"
    }
   ],
   "source": [
    "Con_In_Diff_dt.corr()"
   ]
  },
  {
   "cell_type": "code",
   "execution_count": 28,
   "id": "f57eb68f",
   "metadata": {},
   "outputs": [
    {
     "data": {
      "image/png": "[encoded data removed]",
      "text/plain": [
       "<Figure size 640x480 with 1 Axes>"
      ]
     },
     "metadata": {},
     "output_type": "display_data"
    }
   ],
   "source": [
    "acf = pd.DataFrame(sm.tsa.stattools.acf(Con_In_Diff_dt['Consumption']), columns=[\"ACF\"])\n",
    "fig = acf[1:].plot(kind=\"bar\", title=\"Autocorrelations\")"
   ]
  },
  {
   "cell_type": "code",
   "execution_count": 29,
   "id": "19bcfb4d",
   "metadata": {},
   "outputs": [
    {
     "data": {
      "image/png": "[encoded data removed]",
      "text/plain": [
       "<Figure size 640x480 with 1 Axes>"
      ]
     },
     "metadata": {},
     "output_type": "display_data"
    }
   ],
   "source": [
    "acf = pd.DataFrame(sm.tsa.stattools.acf(Con_In_Diff_dt['Income']), columns=[\"ACF\"])\n",
    "fig = acf[1:].plot(kind=\"bar\", title=\"Autocorrelations\")"
   ]
  },
  {
   "cell_type": "code",
   "execution_count": 30,
   "id": "16d49341",
   "metadata": {},
   "outputs": [
    {
     "data": {
      "image/png": "[encoded data removed]",
      "text/plain": [
       "<Figure size 640x480 with 1 Axes>"
      ]
     },
     "metadata": {},
     "output_type": "display_data"
    }
   ],
   "source": [
    "acf = pd.DataFrame(sm.tsa.stattools.acf(Con_In_Diff_dt['Money']), columns=[\"ACF\"])\n",
    "fig = acf[1:].plot(kind=\"bar\", title=\"Autocorrelations\")"
   ]
  },
  {
   "cell_type": "code",
   "execution_count": 31,
   "id": "5bfc8b0f",
   "metadata": {},
   "outputs": [
    {
     "name": "stdout",
     "output_type": "stream",
     "text": [
      "   Augmented Dickey-Fuller Results   \n",
      "=====================================\n",
      "Test Statistic                 -5.360\n",
      "P-value                         0.000\n",
      "Lags                                9\n",
      "-------------------------------------\n",
      "\n",
      "Trend: Constant and Linear Time Trend\n",
      "Critical Values: -4.01 (1%), -3.43 (5%), -3.14 (10%)\n",
      "Null Hypothesis: The process contains a unit root.\n",
      "Alternative Hypothesis: The process is weakly stationary.\n"
     ]
    }
   ],
   "source": [
    "adf = ADF(Con_In_Diff_dt['Consumption'], trend = 'ct')\n",
    "print(adf.summary().as_text())"
   ]
  },
  {
   "cell_type": "code",
   "execution_count": 32,
   "id": "f4502007",
   "metadata": {},
   "outputs": [
    {
     "name": "stdout",
     "output_type": "stream",
     "text": [
      "   Augmented Dickey-Fuller Results   \n",
      "=====================================\n",
      "Test Statistic                 -4.437\n",
      "P-value                         0.002\n",
      "Lags                               15\n",
      "-------------------------------------\n",
      "\n",
      "Trend: Constant and Linear Time Trend\n",
      "Critical Values: -4.01 (1%), -3.43 (5%), -3.14 (10%)\n",
      "Null Hypothesis: The process contains a unit root.\n",
      "Alternative Hypothesis: The process is weakly stationary.\n"
     ]
    }
   ],
   "source": [
    "adf = ADF(Con_In_Diff_dt['Income'], trend = 'ct')\n",
    "print(adf.summary().as_text())"
   ]
  },
  {
   "cell_type": "code",
   "execution_count": 33,
   "id": "2fb4e5f7",
   "metadata": {},
   "outputs": [
    {
     "name": "stdout",
     "output_type": "stream",
     "text": [
      "   Augmented Dickey-Fuller Results   \n",
      "=====================================\n",
      "Test Statistic                  0.360\n",
      "P-value                         0.996\n",
      "Lags                               13\n",
      "-------------------------------------\n",
      "\n",
      "Trend: Constant and Linear Time Trend\n",
      "Critical Values: -4.01 (1%), -3.43 (5%), -3.14 (10%)\n",
      "Null Hypothesis: The process contains a unit root.\n",
      "Alternative Hypothesis: The process is weakly stationary.\n"
     ]
    }
   ],
   "source": [
    "adf = ADF(Con_In_Diff_dt['Money'], trend = 'ct')\n",
    "print(adf.summary().as_text())"
   ]
  },
  {
   "cell_type": "code",
   "execution_count": 34,
   "id": "b3ee2b3f",
   "metadata": {},
   "outputs": [
    {
     "data": {
      "text/html": [
       "<div>\n",
       "<style scoped>\n",
       "    .dataframe tbody tr th:only-of-type {\n",
       "        vertical-align: middle;\n",
       "    }\n",
       "\n",
       "    .dataframe tbody tr th {\n",
       "        vertical-align: top;\n",
       "    }\n",
       "\n",
       "    .dataframe thead th {\n",
       "        text-align: right;\n",
       "    }\n",
       "</style>\n",
       "<table border=\"1\" class=\"dataframe\">\n",
       "  <thead>\n",
       "    <tr style=\"text-align: right;\">\n",
       "      <th></th>\n",
       "      <th>Consumption</th>\n",
       "      <th>Income</th>\n",
       "      <th>Money</th>\n",
       "    </tr>\n",
       "    <tr>\n",
       "      <th>date</th>\n",
       "      <th></th>\n",
       "      <th></th>\n",
       "      <th></th>\n",
       "    </tr>\n",
       "  </thead>\n",
       "  <tbody>\n",
       "    <tr>\n",
       "      <th>1971-03-31</th>\n",
       "      <td>32.6</td>\n",
       "      <td>33.3</td>\n",
       "      <td>-20.5</td>\n",
       "    </tr>\n",
       "    <tr>\n",
       "      <th>1971-06-30</th>\n",
       "      <td>39.8</td>\n",
       "      <td>35.6</td>\n",
       "      <td>11.2</td>\n",
       "    </tr>\n",
       "    <tr>\n",
       "      <th>1971-09-30</th>\n",
       "      <td>43.9</td>\n",
       "      <td>17.5</td>\n",
       "      <td>18.4</td>\n",
       "    </tr>\n",
       "    <tr>\n",
       "      <th>1971-12-31</th>\n",
       "      <td>6.6</td>\n",
       "      <td>39.1</td>\n",
       "      <td>-20.5</td>\n",
       "    </tr>\n",
       "    <tr>\n",
       "      <th>1972-03-31</th>\n",
       "      <td>42.2</td>\n",
       "      <td>55.5</td>\n",
       "      <td>-14.1</td>\n",
       "    </tr>\n",
       "    <tr>\n",
       "      <th>...</th>\n",
       "      <td>...</td>\n",
       "      <td>...</td>\n",
       "      <td>...</td>\n",
       "    </tr>\n",
       "    <tr>\n",
       "      <th>2021-12-31</th>\n",
       "      <td>6131.3</td>\n",
       "      <td>8566.2</td>\n",
       "      <td>-2274.6</td>\n",
       "    </tr>\n",
       "    <tr>\n",
       "      <th>2022-03-31</th>\n",
       "      <td>524.6</td>\n",
       "      <td>4876.5</td>\n",
       "      <td>16415.3</td>\n",
       "    </tr>\n",
       "    <tr>\n",
       "      <th>2022-06-30</th>\n",
       "      <td>11046.9</td>\n",
       "      <td>7072.3</td>\n",
       "      <td>18269.0</td>\n",
       "    </tr>\n",
       "    <tr>\n",
       "      <th>2022-09-30</th>\n",
       "      <td>7073.0</td>\n",
       "      <td>-275.5</td>\n",
       "      <td>-3814.4</td>\n",
       "    </tr>\n",
       "    <tr>\n",
       "      <th>2022-12-31</th>\n",
       "      <td>38.2</td>\n",
       "      <td>2226.5</td>\n",
       "      <td>-3691.9</td>\n",
       "    </tr>\n",
       "  </tbody>\n",
       "</table>\n",
       "<p>208 rows × 3 columns</p>\n",
       "</div>"
      ],
      "text/plain": [
       "            Consumption  Income    Money\n",
       "date                                    \n",
       "1971-03-31         32.6    33.3    -20.5\n",
       "1971-06-30         39.8    35.6     11.2\n",
       "1971-09-30         43.9    17.5     18.4\n",
       "1971-12-31          6.6    39.1    -20.5\n",
       "1972-03-31         42.2    55.5    -14.1\n",
       "...                 ...     ...      ...\n",
       "2021-12-31       6131.3  8566.2  -2274.6\n",
       "2022-03-31        524.6  4876.5  16415.3\n",
       "2022-06-30      11046.9  7072.3  18269.0\n",
       "2022-09-30       7073.0  -275.5  -3814.4\n",
       "2022-12-31         38.2  2226.5  -3691.9\n",
       "\n",
       "[208 rows x 3 columns]"
      ]
     },
     "execution_count": 34,
     "metadata": {},
     "output_type": "execute_result"
    }
   ],
   "source": [
    "Con_In_Diff_dt"
   ]
  },
  {
   "cell_type": "code",
   "execution_count": 35,
   "id": "c991d8fd",
   "metadata": {},
   "outputs": [
    {
     "data": {
      "text/html": [
       "<table class=\"simpletable\">\n",
       "<caption>OLS Regression Results</caption>\n",
       "<tr>\n",
       "  <th>Dep. Variable:</th>       <td>Consumption</td>   <th>  R-squared:         </th> <td>   0.306</td>\n",
       "</tr>\n",
       "<tr>\n",
       "  <th>Model:</th>                   <td>OLS</td>       <th>  Adj. R-squared:    </th> <td>   0.303</td>\n",
       "</tr>\n",
       "<tr>\n",
       "  <th>Method:</th>             <td>Least Squares</td>  <th>  F-statistic:       </th> <td>   91.03</td>\n",
       "</tr>\n",
       "<tr>\n",
       "  <th>Date:</th>             <td>Mon, 29 May 2023</td> <th>  Prob (F-statistic):</th> <td>4.24e-18</td>\n",
       "</tr>\n",
       "<tr>\n",
       "  <th>Time:</th>                 <td>22:02:31</td>     <th>  Log-Likelihood:    </th> <td> -1826.4</td>\n",
       "</tr>\n",
       "<tr>\n",
       "  <th>No. Observations:</th>      <td>   208</td>      <th>  AIC:               </th> <td>   3657.</td>\n",
       "</tr>\n",
       "<tr>\n",
       "  <th>Df Residuals:</th>          <td>   206</td>      <th>  BIC:               </th> <td>   3663.</td>\n",
       "</tr>\n",
       "<tr>\n",
       "  <th>Df Model:</th>              <td>     1</td>      <th>                     </th>     <td> </td>   \n",
       "</tr>\n",
       "<tr>\n",
       "  <th>Covariance Type:</th>      <td>nonrobust</td>    <th>                     </th>     <td> </td>   \n",
       "</tr>\n",
       "</table>\n",
       "<table class=\"simpletable\">\n",
       "<tr>\n",
       "      <td></td>         <th>coef</th>     <th>std err</th>      <th>t</th>      <th>P>|t|</th>  <th>[0.025</th>    <th>0.975]</th>  \n",
       "</tr>\n",
       "<tr>\n",
       "  <th>Intercept</th> <td>  420.0138</td> <td>  138.432</td> <td>    3.034</td> <td> 0.003</td> <td>  147.089</td> <td>  692.938</td>\n",
       "</tr>\n",
       "<tr>\n",
       "  <th>Income</th>    <td>    0.3061</td> <td>    0.032</td> <td>    9.541</td> <td> 0.000</td> <td>    0.243</td> <td>    0.369</td>\n",
       "</tr>\n",
       "</table>\n",
       "<table class=\"simpletable\">\n",
       "<tr>\n",
       "  <th>Omnibus:</th>       <td>69.244</td> <th>  Durbin-Watson:     </th> <td>   2.105</td>\n",
       "</tr>\n",
       "<tr>\n",
       "  <th>Prob(Omnibus):</th> <td> 0.000</td> <th>  Jarque-Bera (JB):  </th> <td>2486.156</td>\n",
       "</tr>\n",
       "<tr>\n",
       "  <th>Skew:</th>          <td>-0.395</td> <th>  Prob(JB):          </th> <td>    0.00</td>\n",
       "</tr>\n",
       "<tr>\n",
       "  <th>Kurtosis:</th>      <td>19.919</td> <th>  Cond. No.          </th> <td>5.44e+03</td>\n",
       "</tr>\n",
       "</table><br/><br/>Notes:<br/>[1] Standard Errors assume that the covariance matrix of the errors is correctly specified.<br/>[2] The condition number is large, 5.44e+03. This might indicate that there are<br/>strong multicollinearity or other numerical problems."
      ],
      "text/latex": [
       "\\begin{center}\n",
       "\\begin{tabular}{lclc}\n",
       "\\toprule\n",
       "\\textbf{Dep. Variable:}    &   Consumption    & \\textbf{  R-squared:         } &     0.306   \\\\\n",
       "\\textbf{Model:}            &       OLS        & \\textbf{  Adj. R-squared:    } &     0.303   \\\\\n",
       "\\textbf{Method:}           &  Least Squares   & \\textbf{  F-statistic:       } &     91.03   \\\\\n",
       "\\textbf{Date:}             & Mon, 29 May 2023 & \\textbf{  Prob (F-statistic):} &  4.24e-18   \\\\\n",
       "\\textbf{Time:}             &     22:02:31     & \\textbf{  Log-Likelihood:    } &   -1826.4   \\\\\n",
       "\\textbf{No. Observations:} &         208      & \\textbf{  AIC:               } &     3657.   \\\\\n",
       "\\textbf{Df Residuals:}     &         206      & \\textbf{  BIC:               } &     3663.   \\\\\n",
       "\\textbf{Df Model:}         &           1      & \\textbf{                     } &             \\\\\n",
       "\\textbf{Covariance Type:}  &    nonrobust     & \\textbf{                     } &             \\\\\n",
       "\\bottomrule\n",
       "\\end{tabular}\n",
       "\\begin{tabular}{lcccccc}\n",
       "                   & \\textbf{coef} & \\textbf{std err} & \\textbf{t} & \\textbf{P$> |$t$|$} & \\textbf{[0.025} & \\textbf{0.975]}  \\\\\n",
       "\\midrule\n",
       "\\textbf{Intercept} &     420.0138  &      138.432     &     3.034  &         0.003        &      147.089    &      692.938     \\\\\n",
       "\\textbf{Income}    &       0.3061  &        0.032     &     9.541  &         0.000        &        0.243    &        0.369     \\\\\n",
       "\\bottomrule\n",
       "\\end{tabular}\n",
       "\\begin{tabular}{lclc}\n",
       "\\textbf{Omnibus:}       & 69.244 & \\textbf{  Durbin-Watson:     } &    2.105  \\\\\n",
       "\\textbf{Prob(Omnibus):} &  0.000 & \\textbf{  Jarque-Bera (JB):  } & 2486.156  \\\\\n",
       "\\textbf{Skew:}          & -0.395 & \\textbf{  Prob(JB):          } &     0.00  \\\\\n",
       "\\textbf{Kurtosis:}      & 19.919 & \\textbf{  Cond. No.          } & 5.44e+03  \\\\\n",
       "\\bottomrule\n",
       "\\end{tabular}\n",
       "%\\caption{OLS Regression Results}\n",
       "\\end{center}\n",
       "\n",
       "Notes: \\newline\n",
       " [1] Standard Errors assume that the covariance matrix of the errors is correctly specified. \\newline\n",
       " [2] The condition number is large, 5.44e+03. This might indicate that there are \\newline\n",
       " strong multicollinearity or other numerical problems."
      ],
      "text/plain": [
       "<class 'statsmodels.iolib.summary.Summary'>\n",
       "\"\"\"\n",
       "                            OLS Regression Results                            \n",
       "==============================================================================\n",
       "Dep. Variable:            Consumption   R-squared:                       0.306\n",
       "Model:                            OLS   Adj. R-squared:                  0.303\n",
       "Method:                 Least Squares   F-statistic:                     91.03\n",
       "Date:                Mon, 29 May 2023   Prob (F-statistic):           4.24e-18\n",
       "Time:                        22:02:31   Log-Likelihood:                -1826.4\n",
       "No. Observations:                 208   AIC:                             3657.\n",
       "Df Residuals:                     206   BIC:                             3663.\n",
       "Df Model:                           1                                         \n",
       "Covariance Type:            nonrobust                                         \n",
       "==============================================================================\n",
       "                 coef    std err          t      P>|t|      [0.025      0.975]\n",
       "------------------------------------------------------------------------------\n",
       "Intercept    420.0138    138.432      3.034      0.003     147.089     692.938\n",
       "Income         0.3061      0.032      9.541      0.000       0.243       0.369\n",
       "==============================================================================\n",
       "Omnibus:                       69.244   Durbin-Watson:                   2.105\n",
       "Prob(Omnibus):                  0.000   Jarque-Bera (JB):             2486.156\n",
       "Skew:                          -0.395   Prob(JB):                         0.00\n",
       "Kurtosis:                      19.919   Cond. No.                     5.44e+03\n",
       "==============================================================================\n",
       "\n",
       "Notes:\n",
       "[1] Standard Errors assume that the covariance matrix of the errors is correctly specified.\n",
       "[2] The condition number is large, 5.44e+03. This might indicate that there are\n",
       "strong multicollinearity or other numerical problems.\n",
       "\"\"\""
      ]
     },
     "execution_count": 35,
     "metadata": {},
     "output_type": "execute_result"
    }
   ],
   "source": [
    "UniFormula = \"Consumption ~ Income\"\n",
    "reg_ci = smf.ols(UniFormula, data=Con_In_Diff_dt).fit()\n",
    "reg_ci.summary()"
   ]
  },
  {
   "cell_type": "code",
   "execution_count": 36,
   "id": "eeb3b800",
   "metadata": {},
   "outputs": [
    {
     "data": {
      "text/html": [
       "<table class=\"simpletable\">\n",
       "<caption>OLS Regression Results</caption>\n",
       "<tr>\n",
       "  <th>Dep. Variable:</th>       <td>Consumption</td>   <th>  R-squared:         </th> <td>   0.027</td>\n",
       "</tr>\n",
       "<tr>\n",
       "  <th>Model:</th>                   <td>OLS</td>       <th>  Adj. R-squared:    </th> <td>   0.023</td>\n",
       "</tr>\n",
       "<tr>\n",
       "  <th>Method:</th>             <td>Least Squares</td>  <th>  F-statistic:       </th> <td>   5.812</td>\n",
       "</tr>\n",
       "<tr>\n",
       "  <th>Date:</th>             <td>Mon, 29 May 2023</td> <th>  Prob (F-statistic):</th>  <td>0.0168</td> \n",
       "</tr>\n",
       "<tr>\n",
       "  <th>Time:</th>                 <td>22:02:32</td>     <th>  Log-Likelihood:    </th> <td> -1861.5</td>\n",
       "</tr>\n",
       "<tr>\n",
       "  <th>No. Observations:</th>      <td>   208</td>      <th>  AIC:               </th> <td>   3727.</td>\n",
       "</tr>\n",
       "<tr>\n",
       "  <th>Df Residuals:</th>          <td>   206</td>      <th>  BIC:               </th> <td>   3734.</td>\n",
       "</tr>\n",
       "<tr>\n",
       "  <th>Df Model:</th>              <td>     1</td>      <th>                     </th>     <td> </td>   \n",
       "</tr>\n",
       "<tr>\n",
       "  <th>Covariance Type:</th>      <td>nonrobust</td>    <th>                     </th>     <td> </td>   \n",
       "</tr>\n",
       "</table>\n",
       "<table class=\"simpletable\">\n",
       "<tr>\n",
       "      <td></td>         <th>coef</th>     <th>std err</th>      <th>t</th>      <th>P>|t|</th>  <th>[0.025</th>    <th>0.975]</th>  \n",
       "</tr>\n",
       "<tr>\n",
       "  <th>Intercept</th> <td> 1121.1458</td> <td>  136.941</td> <td>    8.187</td> <td> 0.000</td> <td>  851.160</td> <td> 1391.132</td>\n",
       "</tr>\n",
       "<tr>\n",
       "  <th>Money</th>     <td>    0.0789</td> <td>    0.033</td> <td>    2.411</td> <td> 0.017</td> <td>    0.014</td> <td>    0.143</td>\n",
       "</tr>\n",
       "</table>\n",
       "<table class=\"simpletable\">\n",
       "<tr>\n",
       "  <th>Omnibus:</th>       <td>100.157</td> <th>  Durbin-Watson:     </th> <td>   1.642</td>\n",
       "</tr>\n",
       "<tr>\n",
       "  <th>Prob(Omnibus):</th> <td> 0.000</td>  <th>  Jarque-Bera (JB):  </th> <td>2921.953</td>\n",
       "</tr>\n",
       "<tr>\n",
       "  <th>Skew:</th>          <td>-1.174</td>  <th>  Prob(JB):          </th> <td>    0.00</td>\n",
       "</tr>\n",
       "<tr>\n",
       "  <th>Kurtosis:</th>      <td>21.211</td>  <th>  Cond. No.          </th> <td>4.41e+03</td>\n",
       "</tr>\n",
       "</table><br/><br/>Notes:<br/>[1] Standard Errors assume that the covariance matrix of the errors is correctly specified.<br/>[2] The condition number is large, 4.41e+03. This might indicate that there are<br/>strong multicollinearity or other numerical problems."
      ],
      "text/latex": [
       "\\begin{center}\n",
       "\\begin{tabular}{lclc}\n",
       "\\toprule\n",
       "\\textbf{Dep. Variable:}    &   Consumption    & \\textbf{  R-squared:         } &     0.027   \\\\\n",
       "\\textbf{Model:}            &       OLS        & \\textbf{  Adj. R-squared:    } &     0.023   \\\\\n",
       "\\textbf{Method:}           &  Least Squares   & \\textbf{  F-statistic:       } &     5.812   \\\\\n",
       "\\textbf{Date:}             & Mon, 29 May 2023 & \\textbf{  Prob (F-statistic):} &   0.0168    \\\\\n",
       "\\textbf{Time:}             &     22:02:32     & \\textbf{  Log-Likelihood:    } &   -1861.5   \\\\\n",
       "\\textbf{No. Observations:} &         208      & \\textbf{  AIC:               } &     3727.   \\\\\n",
       "\\textbf{Df Residuals:}     &         206      & \\textbf{  BIC:               } &     3734.   \\\\\n",
       "\\textbf{Df Model:}         &           1      & \\textbf{                     } &             \\\\\n",
       "\\textbf{Covariance Type:}  &    nonrobust     & \\textbf{                     } &             \\\\\n",
       "\\bottomrule\n",
       "\\end{tabular}\n",
       "\\begin{tabular}{lcccccc}\n",
       "                   & \\textbf{coef} & \\textbf{std err} & \\textbf{t} & \\textbf{P$> |$t$|$} & \\textbf{[0.025} & \\textbf{0.975]}  \\\\\n",
       "\\midrule\n",
       "\\textbf{Intercept} &    1121.1458  &      136.941     &     8.187  &         0.000        &      851.160    &     1391.132     \\\\\n",
       "\\textbf{Money}     &       0.0789  &        0.033     &     2.411  &         0.017        &        0.014    &        0.143     \\\\\n",
       "\\bottomrule\n",
       "\\end{tabular}\n",
       "\\begin{tabular}{lclc}\n",
       "\\textbf{Omnibus:}       & 100.157 & \\textbf{  Durbin-Watson:     } &    1.642  \\\\\n",
       "\\textbf{Prob(Omnibus):} &   0.000 & \\textbf{  Jarque-Bera (JB):  } & 2921.953  \\\\\n",
       "\\textbf{Skew:}          &  -1.174 & \\textbf{  Prob(JB):          } &     0.00  \\\\\n",
       "\\textbf{Kurtosis:}      &  21.211 & \\textbf{  Cond. No.          } & 4.41e+03  \\\\\n",
       "\\bottomrule\n",
       "\\end{tabular}\n",
       "%\\caption{OLS Regression Results}\n",
       "\\end{center}\n",
       "\n",
       "Notes: \\newline\n",
       " [1] Standard Errors assume that the covariance matrix of the errors is correctly specified. \\newline\n",
       " [2] The condition number is large, 4.41e+03. This might indicate that there are \\newline\n",
       " strong multicollinearity or other numerical problems."
      ],
      "text/plain": [
       "<class 'statsmodels.iolib.summary.Summary'>\n",
       "\"\"\"\n",
       "                            OLS Regression Results                            \n",
       "==============================================================================\n",
       "Dep. Variable:            Consumption   R-squared:                       0.027\n",
       "Model:                            OLS   Adj. R-squared:                  0.023\n",
       "Method:                 Least Squares   F-statistic:                     5.812\n",
       "Date:                Mon, 29 May 2023   Prob (F-statistic):             0.0168\n",
       "Time:                        22:02:32   Log-Likelihood:                -1861.5\n",
       "No. Observations:                 208   AIC:                             3727.\n",
       "Df Residuals:                     206   BIC:                             3734.\n",
       "Df Model:                           1                                         \n",
       "Covariance Type:            nonrobust                                         \n",
       "==============================================================================\n",
       "                 coef    std err          t      P>|t|      [0.025      0.975]\n",
       "------------------------------------------------------------------------------\n",
       "Intercept   1121.1458    136.941      8.187      0.000     851.160    1391.132\n",
       "Money          0.0789      0.033      2.411      0.017       0.014       0.143\n",
       "==============================================================================\n",
       "Omnibus:                      100.157   Durbin-Watson:                   1.642\n",
       "Prob(Omnibus):                  0.000   Jarque-Bera (JB):             2921.953\n",
       "Skew:                          -1.174   Prob(JB):                         0.00\n",
       "Kurtosis:                      21.211   Cond. No.                     4.41e+03\n",
       "==============================================================================\n",
       "\n",
       "Notes:\n",
       "[1] Standard Errors assume that the covariance matrix of the errors is correctly specified.\n",
       "[2] The condition number is large, 4.41e+03. This might indicate that there are\n",
       "strong multicollinearity or other numerical problems.\n",
       "\"\"\""
      ]
     },
     "execution_count": 36,
     "metadata": {},
     "output_type": "execute_result"
    }
   ],
   "source": [
    "UniFormula = \"Consumption ~ Money \"\n",
    "reg_cm = smf.ols(UniFormula, data=Con_In_Diff_dt).fit()\n",
    "reg_cm.summary()"
   ]
  },
  {
   "cell_type": "code",
   "execution_count": 37,
   "id": "bce9fb0c",
   "metadata": {},
   "outputs": [
    {
     "data": {
      "text/html": [
       "<table class=\"simpletable\">\n",
       "<caption>OLS Regression Results</caption>\n",
       "<tr>\n",
       "  <th>Dep. Variable:</th>       <td>Consumption</td>   <th>  R-squared:         </th> <td>   0.310</td>\n",
       "</tr>\n",
       "<tr>\n",
       "  <th>Model:</th>                   <td>OLS</td>       <th>  Adj. R-squared:    </th> <td>   0.303</td>\n",
       "</tr>\n",
       "<tr>\n",
       "  <th>Method:</th>             <td>Least Squares</td>  <th>  F-statistic:       </th> <td>   45.98</td>\n",
       "</tr>\n",
       "<tr>\n",
       "  <th>Date:</th>             <td>Mon, 29 May 2023</td> <th>  Prob (F-statistic):</th> <td>3.18e-17</td>\n",
       "</tr>\n",
       "<tr>\n",
       "  <th>Time:</th>                 <td>22:02:32</td>     <th>  Log-Likelihood:    </th> <td> -1825.9</td>\n",
       "</tr>\n",
       "<tr>\n",
       "  <th>No. Observations:</th>      <td>   208</td>      <th>  AIC:               </th> <td>   3658.</td>\n",
       "</tr>\n",
       "<tr>\n",
       "  <th>Df Residuals:</th>          <td>   205</td>      <th>  BIC:               </th> <td>   3668.</td>\n",
       "</tr>\n",
       "<tr>\n",
       "  <th>Df Model:</th>              <td>     2</td>      <th>                     </th>     <td> </td>   \n",
       "</tr>\n",
       "<tr>\n",
       "  <th>Covariance Type:</th>      <td>nonrobust</td>    <th>                     </th>     <td> </td>   \n",
       "</tr>\n",
       "</table>\n",
       "<table class=\"simpletable\">\n",
       "<tr>\n",
       "      <td></td>         <th>coef</th>     <th>std err</th>      <th>t</th>      <th>P>|t|</th>  <th>[0.025</th>    <th>0.975]</th>  \n",
       "</tr>\n",
       "<tr>\n",
       "  <th>Intercept</th> <td>  400.2331</td> <td>  139.916</td> <td>    2.861</td> <td> 0.005</td> <td>  124.373</td> <td>  676.093</td>\n",
       "</tr>\n",
       "<tr>\n",
       "  <th>Income</th>    <td>    0.2998</td> <td>    0.033</td> <td>    9.155</td> <td> 0.000</td> <td>    0.235</td> <td>    0.364</td>\n",
       "</tr>\n",
       "<tr>\n",
       "  <th>Money</th>     <td>    0.0276</td> <td>    0.028</td> <td>    0.978</td> <td> 0.329</td> <td>   -0.028</td> <td>    0.083</td>\n",
       "</tr>\n",
       "</table>\n",
       "<table class=\"simpletable\">\n",
       "<tr>\n",
       "  <th>Omnibus:</th>       <td>74.787</td> <th>  Durbin-Watson:     </th> <td>   2.103</td>\n",
       "</tr>\n",
       "<tr>\n",
       "  <th>Prob(Omnibus):</th> <td> 0.000</td> <th>  Jarque-Bera (JB):  </th> <td>2406.998</td>\n",
       "</tr>\n",
       "<tr>\n",
       "  <th>Skew:</th>          <td>-0.596</td> <th>  Prob(JB):          </th> <td>    0.00</td>\n",
       "</tr>\n",
       "<tr>\n",
       "  <th>Kurtosis:</th>      <td>19.623</td> <th>  Cond. No.          </th> <td>6.28e+03</td>\n",
       "</tr>\n",
       "</table><br/><br/>Notes:<br/>[1] Standard Errors assume that the covariance matrix of the errors is correctly specified.<br/>[2] The condition number is large, 6.28e+03. This might indicate that there are<br/>strong multicollinearity or other numerical problems."
      ],
      "text/latex": [
       "\\begin{center}\n",
       "\\begin{tabular}{lclc}\n",
       "\\toprule\n",
       "\\textbf{Dep. Variable:}    &   Consumption    & \\textbf{  R-squared:         } &     0.310   \\\\\n",
       "\\textbf{Model:}            &       OLS        & \\textbf{  Adj. R-squared:    } &     0.303   \\\\\n",
       "\\textbf{Method:}           &  Least Squares   & \\textbf{  F-statistic:       } &     45.98   \\\\\n",
       "\\textbf{Date:}             & Mon, 29 May 2023 & \\textbf{  Prob (F-statistic):} &  3.18e-17   \\\\\n",
       "\\textbf{Time:}             &     22:02:32     & \\textbf{  Log-Likelihood:    } &   -1825.9   \\\\\n",
       "\\textbf{No. Observations:} &         208      & \\textbf{  AIC:               } &     3658.   \\\\\n",
       "\\textbf{Df Residuals:}     &         205      & \\textbf{  BIC:               } &     3668.   \\\\\n",
       "\\textbf{Df Model:}         &           2      & \\textbf{                     } &             \\\\\n",
       "\\textbf{Covariance Type:}  &    nonrobust     & \\textbf{                     } &             \\\\\n",
       "\\bottomrule\n",
       "\\end{tabular}\n",
       "\\begin{tabular}{lcccccc}\n",
       "                   & \\textbf{coef} & \\textbf{std err} & \\textbf{t} & \\textbf{P$> |$t$|$} & \\textbf{[0.025} & \\textbf{0.975]}  \\\\\n",
       "\\midrule\n",
       "\\textbf{Intercept} &     400.2331  &      139.916     &     2.861  &         0.005        &      124.373    &      676.093     \\\\\n",
       "\\textbf{Income}    &       0.2998  &        0.033     &     9.155  &         0.000        &        0.235    &        0.364     \\\\\n",
       "\\textbf{Money}     &       0.0276  &        0.028     &     0.978  &         0.329        &       -0.028    &        0.083     \\\\\n",
       "\\bottomrule\n",
       "\\end{tabular}\n",
       "\\begin{tabular}{lclc}\n",
       "\\textbf{Omnibus:}       & 74.787 & \\textbf{  Durbin-Watson:     } &    2.103  \\\\\n",
       "\\textbf{Prob(Omnibus):} &  0.000 & \\textbf{  Jarque-Bera (JB):  } & 2406.998  \\\\\n",
       "\\textbf{Skew:}          & -0.596 & \\textbf{  Prob(JB):          } &     0.00  \\\\\n",
       "\\textbf{Kurtosis:}      & 19.623 & \\textbf{  Cond. No.          } & 6.28e+03  \\\\\n",
       "\\bottomrule\n",
       "\\end{tabular}\n",
       "%\\caption{OLS Regression Results}\n",
       "\\end{center}\n",
       "\n",
       "Notes: \\newline\n",
       " [1] Standard Errors assume that the covariance matrix of the errors is correctly specified. \\newline\n",
       " [2] The condition number is large, 6.28e+03. This might indicate that there are \\newline\n",
       " strong multicollinearity or other numerical problems."
      ],
      "text/plain": [
       "<class 'statsmodels.iolib.summary.Summary'>\n",
       "\"\"\"\n",
       "                            OLS Regression Results                            \n",
       "==============================================================================\n",
       "Dep. Variable:            Consumption   R-squared:                       0.310\n",
       "Model:                            OLS   Adj. R-squared:                  0.303\n",
       "Method:                 Least Squares   F-statistic:                     45.98\n",
       "Date:                Mon, 29 May 2023   Prob (F-statistic):           3.18e-17\n",
       "Time:                        22:02:32   Log-Likelihood:                -1825.9\n",
       "No. Observations:                 208   AIC:                             3658.\n",
       "Df Residuals:                     205   BIC:                             3668.\n",
       "Df Model:                           2                                         \n",
       "Covariance Type:            nonrobust                                         \n",
       "==============================================================================\n",
       "                 coef    std err          t      P>|t|      [0.025      0.975]\n",
       "------------------------------------------------------------------------------\n",
       "Intercept    400.2331    139.916      2.861      0.005     124.373     676.093\n",
       "Income         0.2998      0.033      9.155      0.000       0.235       0.364\n",
       "Money          0.0276      0.028      0.978      0.329      -0.028       0.083\n",
       "==============================================================================\n",
       "Omnibus:                       74.787   Durbin-Watson:                   2.103\n",
       "Prob(Omnibus):                  0.000   Jarque-Bera (JB):             2406.998\n",
       "Skew:                          -0.596   Prob(JB):                         0.00\n",
       "Kurtosis:                      19.623   Cond. No.                     6.28e+03\n",
       "==============================================================================\n",
       "\n",
       "Notes:\n",
       "[1] Standard Errors assume that the covariance matrix of the errors is correctly specified.\n",
       "[2] The condition number is large, 6.28e+03. This might indicate that there are\n",
       "strong multicollinearity or other numerical problems.\n",
       "\"\"\""
      ]
     },
     "execution_count": 37,
     "metadata": {},
     "output_type": "execute_result"
    }
   ],
   "source": [
    "UniFormula = \"Consumption ~ Income + Money \"\n",
    "reg_cmi = smf.ols(UniFormula, data=Con_In_Diff_dt).fit()\n",
    "reg_cmi.summary()"
   ]
  },
  {
   "attachments": {},
   "cell_type": "markdown",
   "id": "3d41f597",
   "metadata": {},
   "source": [
    "### Dynamic Regression"
   ]
  },
  {
   "cell_type": "code",
   "execution_count": 38,
   "id": "c5ae7623",
   "metadata": {},
   "outputs": [
    {
     "data": {
      "text/html": [
       "<table class=\"simpletable\">\n",
       "<caption>Dynamic OLS Cointegrating Vector Summary</caption>\n",
       "<tr>\n",
       "  <th>Trend:</th>      <td>Constant</td>  <th>  No. Observations:  </th>    <td>196</td>   \n",
       "</tr>\n",
       "<tr>\n",
       "  <th>Leads:</th>         <td>12</td>     <th>  R²:                </th>  <td>0.9972</td>  \n",
       "</tr>\n",
       "<tr>\n",
       "  <th>Lags:</th>           <td>0</td>     <th>  Adjusted. R²:      </th>  <td>0.9970</td>  \n",
       "</tr>\n",
       "<tr>\n",
       "  <th>Cov Type:</th>  <td>unadjusted</td> <th>  Residual Variance: </th> <td>1.446e+07</td>\n",
       "</tr>\n",
       "<tr>\n",
       "  <th>Kernel:</th>     <td>Bartlett</td>  <th>  Long-run Variance: </th> <td>1.396e+08</td>\n",
       "</tr>\n",
       "<tr>\n",
       "  <th>Bandwidth:</th>   <td>12.327</td>   <th>                     </th>     <td></td>     \n",
       "</tr>\n",
       "</table>\n",
       "<table class=\"simpletable\">\n",
       "<caption>Cointegrating Vector</caption>\n",
       "<tr>\n",
       "     <td></td>    <th>Parameter</th> <th>Std. Err.</th> <th>T-stat</th>  <th>P-value</th> <th>Lower CI</th> <th>Upper CI</th>\n",
       "</tr>\n",
       "<tr>\n",
       "  <th>Income</th>  <td>0.4345</td>    <td>0.0095</td>   <td>45.559</td>  <td>0.0000</td>   <td>0.4158</td>   <td>0.4532</td> \n",
       "</tr>\n",
       "<tr>\n",
       "  <th>const</th>   <td>-519.83</td>   <td>1589.1</td>   <td>-0.3271</td> <td>0.7436</td>   <td>-3634.4</td>  <td>2594.8</td> \n",
       "</tr>\n",
       "</table>"
      ],
      "text/latex": [
       "\\begin{center}\n",
       "\\begin{tabular}{lclc}\n",
       "\\toprule\n",
       "\\textbf{Trend:}     &      Constant      & \\textbf{  No. Observations:  } &       196        \\\\\n",
       "\\textbf{Leads:}     &         12         & \\textbf{  R²:                } &      0.9972      \\\\\n",
       "\\textbf{Lags:}      &         0          & \\textbf{  Adjusted. R²:      } &      0.9970      \\\\\n",
       "\\textbf{Cov Type:}  &     unadjusted     & \\textbf{  Residual Variance: } &    1.446e+07     \\\\\n",
       "\\textbf{Kernel:}    &      Bartlett      & \\textbf{  Long-run Variance: } &    1.396e+08     \\\\\n",
       "\\textbf{Bandwidth:} &       12.327       & \\textbf{                     } &                  \\\\\n",
       "\\bottomrule\n",
       "\\end{tabular}\n",
       "\\begin{tabular}{lcccccc}\n",
       "                & \\textbf{Parameter} & \\textbf{Std. Err.} & \\textbf{T-stat} & \\textbf{P-value} & \\textbf{Lower CI} & \\textbf{Upper CI}  \\\\\n",
       "\\midrule\n",
       "\\textbf{Income} &       0.4345       &       0.0095       &      45.559     &      0.0000      &       0.4158      &       0.4532       \\\\\n",
       "\\textbf{const}  &      -519.83       &       1589.1       &     -0.3271     &      0.7436      &      -3634.4      &       2594.8       \\\\\n",
       "\\bottomrule\n",
       "\\end{tabular}\n",
       "%\\caption{Dynamic OLS Cointegrating Vector Summary}\n",
       "\\end{center}"
      ],
      "text/plain": [
       "<class 'statsmodels.iolib.summary.Summary'>\n",
       "\"\"\"\n",
       "                   Dynamic OLS Cointegrating Vector Summary                   \n",
       "==============================================================================\n",
       "Trend:                       Constant   No. Observations:                  196\n",
       "Leads:                             12   R²:                             0.9972\n",
       "Lags:                               0   Adjusted. R²:                   0.9970\n",
       "Cov Type:                  unadjusted   Residual Variance:           1.446e+07\n",
       "Kernel:                      Bartlett   Long-run Variance:           1.396e+08\n",
       "Bandwidth:                     12.327                                         \n",
       "                             Cointegrating Vector                             \n",
       "==============================================================================\n",
       "            Parameter  Std. Err.     T-stat    P-value    Lower CI    Upper CI\n",
       "------------------------------------------------------------------------------\n",
       "Income         0.4345     0.0095     45.559     0.0000      0.4158      0.4532\n",
       "const         -519.83     1589.1    -0.3271     0.7436     -3634.4      2594.8\n",
       "==============================================================================\n",
       "\"\"\""
      ]
     },
     "execution_count": 38,
     "metadata": {},
     "output_type": "execute_result"
    }
   ],
   "source": [
    "dlm_res = DynamicOLS(Con_In_dt['Consumption'], Con_In_dt['Income']).fit()\n",
    "dlm_res.summary()"
   ]
  },
  {
   "cell_type": "code",
   "execution_count": 39,
   "id": "5129809a",
   "metadata": {},
   "outputs": [
    {
     "data": {
      "text/html": [
       "<table class=\"simpletable\">\n",
       "<caption>Dynamic OLS Cointegrating Vector Summary</caption>\n",
       "<tr>\n",
       "  <th>Trend:</th>      <td>Constant</td>  <th>  No. Observations:  </th>    <td>192</td>   \n",
       "</tr>\n",
       "<tr>\n",
       "  <th>Leads:</th>          <td>8</td>     <th>  R²:                </th>  <td>0.9971</td>  \n",
       "</tr>\n",
       "<tr>\n",
       "  <th>Lags:</th>           <td>8</td>     <th>  Adjusted. R²:      </th>  <td>0.9968</td>  \n",
       "</tr>\n",
       "<tr>\n",
       "  <th>Cov Type:</th>  <td>unadjusted</td> <th>  Residual Variance: </th> <td>1.569e+07</td>\n",
       "</tr>\n",
       "<tr>\n",
       "  <th>Kernel:</th>     <td>Bartlett</td>  <th>  Long-run Variance: </th> <td>1.417e+08</td>\n",
       "</tr>\n",
       "<tr>\n",
       "  <th>Bandwidth:</th>   <td>12.132</td>   <th>                     </th>     <td></td>     \n",
       "</tr>\n",
       "</table>\n",
       "<table class=\"simpletable\">\n",
       "<caption>Cointegrating Vector</caption>\n",
       "<tr>\n",
       "     <td></td>    <th>Parameter</th> <th>Std. Err.</th> <th>T-stat</th>  <th>P-value</th> <th>Lower CI</th> <th>Upper CI</th>\n",
       "</tr>\n",
       "<tr>\n",
       "  <th>Income</th>  <td>0.4187</td>    <td>0.0108</td>   <td>38.654</td>  <td>0.0000</td>   <td>0.3975</td>   <td>0.4399</td> \n",
       "</tr>\n",
       "<tr>\n",
       "  <th>const</th>   <td>-842.72</td>   <td>1706.0</td>   <td>-0.4940</td> <td>0.6213</td>   <td>-4186.3</td>  <td>2500.9</td> \n",
       "</tr>\n",
       "</table>"
      ],
      "text/latex": [
       "\\begin{center}\n",
       "\\begin{tabular}{lclc}\n",
       "\\toprule\n",
       "\\textbf{Trend:}     &      Constant      & \\textbf{  No. Observations:  } &       192        \\\\\n",
       "\\textbf{Leads:}     &         8          & \\textbf{  R²:                } &      0.9971      \\\\\n",
       "\\textbf{Lags:}      &         8          & \\textbf{  Adjusted. R²:      } &      0.9968      \\\\\n",
       "\\textbf{Cov Type:}  &     unadjusted     & \\textbf{  Residual Variance: } &    1.569e+07     \\\\\n",
       "\\textbf{Kernel:}    &      Bartlett      & \\textbf{  Long-run Variance: } &    1.417e+08     \\\\\n",
       "\\textbf{Bandwidth:} &       12.132       & \\textbf{                     } &                  \\\\\n",
       "\\bottomrule\n",
       "\\end{tabular}\n",
       "\\begin{tabular}{lcccccc}\n",
       "                & \\textbf{Parameter} & \\textbf{Std. Err.} & \\textbf{T-stat} & \\textbf{P-value} & \\textbf{Lower CI} & \\textbf{Upper CI}  \\\\\n",
       "\\midrule\n",
       "\\textbf{Income} &       0.4187       &       0.0108       &      38.654     &      0.0000      &       0.3975      &       0.4399       \\\\\n",
       "\\textbf{const}  &      -842.72       &       1706.0       &     -0.4940     &      0.6213      &      -4186.3      &       2500.9       \\\\\n",
       "\\bottomrule\n",
       "\\end{tabular}\n",
       "%\\caption{Dynamic OLS Cointegrating Vector Summary}\n",
       "\\end{center}"
      ],
      "text/plain": [
       "<class 'statsmodels.iolib.summary.Summary'>\n",
       "\"\"\"\n",
       "                   Dynamic OLS Cointegrating Vector Summary                   \n",
       "==============================================================================\n",
       "Trend:                       Constant   No. Observations:                  192\n",
       "Leads:                              8   R²:                             0.9971\n",
       "Lags:                               8   Adjusted. R²:                   0.9968\n",
       "Cov Type:                  unadjusted   Residual Variance:           1.569e+07\n",
       "Kernel:                      Bartlett   Long-run Variance:           1.417e+08\n",
       "Bandwidth:                     12.132                                         \n",
       "                             Cointegrating Vector                             \n",
       "==============================================================================\n",
       "            Parameter  Std. Err.     T-stat    P-value    Lower CI    Upper CI\n",
       "------------------------------------------------------------------------------\n",
       "Income         0.4187     0.0108     38.654     0.0000      0.3975      0.4399\n",
       "const         -842.72     1706.0    -0.4940     0.6213     -4186.3      2500.9\n",
       "==============================================================================\n",
       "\"\"\""
      ]
     },
     "execution_count": 39,
     "metadata": {},
     "output_type": "execute_result"
    }
   ],
   "source": [
    "# ppt 174p 확인\n",
    "# lags:\n",
    "# leads :\n",
    "dlm_res = DynamicOLS(Con_In_dt['Consumption'], Con_In_dt['Income'], lags=8, leads=8).fit()\n",
    "dlm_res.summary()"
   ]
  },
  {
   "cell_type": "code",
   "execution_count": 40,
   "id": "cc49b9ee",
   "metadata": {},
   "outputs": [
    {
     "data": {
      "text/html": [
       "<table class=\"simpletable\">\n",
       "<caption>Dynamic OLS Cointegrating Vector Summary</caption>\n",
       "<tr>\n",
       "  <th>Trend:</th>     <td>Const and Linear Trend</td> <th>  No. Observations:  </th>    <td>208</td>   \n",
       "</tr>\n",
       "<tr>\n",
       "  <th>Leads:</th>                <td>0</td>           <th>  R²:                </th>  <td>0.9963</td>  \n",
       "</tr>\n",
       "<tr>\n",
       "  <th>Lags:</th>                 <td>0</td>           <th>  Adjusted. R²:      </th>  <td>0.9963</td>  \n",
       "</tr>\n",
       "<tr>\n",
       "  <th>Cov Type:</th>        <td>unadjusted</td>       <th>  Residual Variance: </th> <td>2.285e+07</td>\n",
       "</tr>\n",
       "<tr>\n",
       "  <th>Kernel:</th>           <td>Bartlett</td>        <th>  Long-run Variance: </th> <td>2.42e+08</td> \n",
       "</tr>\n",
       "<tr>\n",
       "  <th>Bandwidth:</th>         <td>12.731</td>         <th>                     </th>     <td></td>     \n",
       "</tr>\n",
       "</table>\n",
       "<table class=\"simpletable\">\n",
       "<caption>Cointegrating Vector</caption>\n",
       "<tr>\n",
       "     <td></td>    <th>Parameter</th> <th>Std. Err.</th> <th>T-stat</th>  <th>P-value</th>  <th>Lower CI</th>  <th>Upper CI</th>\n",
       "</tr>\n",
       "<tr>\n",
       "  <th>Income</th>  <td>0.3900</td>    <td>0.0218</td>   <td>17.909</td>  <td>0.0000</td>    <td>0.3473</td>    <td>0.4327</td> \n",
       "</tr>\n",
       "<tr>\n",
       "  <th>const</th>   <td>-4613.7</td>   <td>3240.3</td>   <td>-1.4238</td> <td>0.1545</td>  <td>-1.096e+04</td>  <td>1737.2</td> \n",
       "</tr>\n",
       "<tr>\n",
       "  <th>trend</th>   <td>198.45</td>    <td>63.759</td>   <td>3.1126</td>  <td>0.0019</td>    <td>73.489</td>    <td>323.42</td> \n",
       "</tr>\n",
       "</table>"
      ],
      "text/latex": [
       "\\begin{center}\n",
       "\\begin{tabular}{lclc}\n",
       "\\toprule\n",
       "\\textbf{Trend:}     & Const and Linear Trend & \\textbf{  No. Observations:  } &       208        \\\\\n",
       "\\textbf{Leads:}     &           0            & \\textbf{  R²:                } &      0.9963      \\\\\n",
       "\\textbf{Lags:}      &           0            & \\textbf{  Adjusted. R²:      } &      0.9963      \\\\\n",
       "\\textbf{Cov Type:}  &       unadjusted       & \\textbf{  Residual Variance: } &    2.285e+07     \\\\\n",
       "\\textbf{Kernel:}    &        Bartlett        & \\textbf{  Long-run Variance: } &     2.42e+08     \\\\\n",
       "\\textbf{Bandwidth:} &         12.731         & \\textbf{                     } &                  \\\\\n",
       "\\bottomrule\n",
       "\\end{tabular}\n",
       "\\begin{tabular}{lcccccc}\n",
       "                & \\textbf{Parameter} & \\textbf{Std. Err.} & \\textbf{T-stat} & \\textbf{P-value} & \\textbf{Lower CI} & \\textbf{Upper CI}  \\\\\n",
       "\\midrule\n",
       "\\textbf{Income} &       0.3900       &       0.0218       &      17.909     &      0.0000      &       0.3473      &       0.4327       \\\\\n",
       "\\textbf{const}  &      -4613.7       &       3240.3       &     -1.4238     &      0.1545      &     -1.096e+04    &       1737.2       \\\\\n",
       "\\textbf{trend}  &       198.45       &       63.759       &      3.1126     &      0.0019      &       73.489      &       323.42       \\\\\n",
       "\\bottomrule\n",
       "\\end{tabular}\n",
       "%\\caption{Dynamic OLS Cointegrating Vector Summary}\n",
       "\\end{center}"
      ],
      "text/plain": [
       "<class 'statsmodels.iolib.summary.Summary'>\n",
       "\"\"\"\n",
       "                     Dynamic OLS Cointegrating Vector Summary                     \n",
       "==================================================================================\n",
       "Trend:             Const and Linear Trend   No. Observations:                  208\n",
       "Leads:                                  0   R²:                             0.9963\n",
       "Lags:                                   0   Adjusted. R²:                   0.9963\n",
       "Cov Type:                      unadjusted   Residual Variance:           2.285e+07\n",
       "Kernel:                          Bartlett   Long-run Variance:            2.42e+08\n",
       "Bandwidth:                         12.731                                         \n",
       "                             Cointegrating Vector                             \n",
       "==============================================================================\n",
       "            Parameter  Std. Err.     T-stat    P-value    Lower CI    Upper CI\n",
       "------------------------------------------------------------------------------\n",
       "Income         0.3900     0.0218     17.909     0.0000      0.3473      0.4327\n",
       "const         -4613.7     3240.3    -1.4238     0.1545  -1.096e+04      1737.2\n",
       "trend          198.45     63.759     3.1126     0.0019      73.489      323.42\n",
       "==============================================================================\n",
       "\"\"\""
      ]
     },
     "execution_count": 40,
     "metadata": {},
     "output_type": "execute_result"
    }
   ],
   "source": [
    "dlm_res = DynamicOLS(Con_In_dt['Consumption'], Con_In_dt['Income'], trend = 'ct').fit()\n",
    "dlm_res.summary()"
   ]
  },
  {
   "cell_type": "code",
   "execution_count": 41,
   "id": "2f25c9c1",
   "metadata": {},
   "outputs": [
    {
     "data": {
      "text/html": [
       "<table class=\"simpletable\">\n",
       "<caption>Dynamic OLS Cointegrating Vector Summary</caption>\n",
       "<tr>\n",
       "  <th>Trend:</th>      <td>Constant</td>  <th>  No. Observations:  </th>    <td>208</td>   \n",
       "</tr>\n",
       "<tr>\n",
       "  <th>Leads:</th>          <td>0</td>     <th>  R²:                </th>  <td>0.8246</td>  \n",
       "</tr>\n",
       "<tr>\n",
       "  <th>Lags:</th>           <td>0</td>     <th>  Adjusted. R²:      </th>  <td>0.8229</td>  \n",
       "</tr>\n",
       "<tr>\n",
       "  <th>Cov Type:</th>  <td>unadjusted</td> <th>  Residual Variance: </th> <td>1.093e+09</td>\n",
       "</tr>\n",
       "<tr>\n",
       "  <th>Kernel:</th>     <td>Bartlett</td>  <th>  Long-run Variance: </th> <td>1.373e+10</td>\n",
       "</tr>\n",
       "<tr>\n",
       "  <th>Bandwidth:</th>   <td>13.041</td>   <th>                     </th>     <td></td>     \n",
       "</tr>\n",
       "</table>\n",
       "<table class=\"simpletable\">\n",
       "<caption>Cointegrating Vector</caption>\n",
       "<tr>\n",
       "    <td></td>    <th>Parameter</th> <th>Std. Err.</th> <th>T-stat</th> <th>P-value</th> <th>Lower CI</th>  <th>Upper CI</th> \n",
       "</tr>\n",
       "<tr>\n",
       "  <th>Money</th>  <td>1.0821</td>    <td>0.1360</td>   <td>7.9548</td> <td>0.0000</td>   <td>0.8155</td>    <td>1.3488</td>  \n",
       "</tr>\n",
       "<tr>\n",
       "  <th>const</th> <td>3.059e+04</td> <td>1.021e+04</td> <td>2.9948</td> <td>0.0027</td>  <td>1.057e+04</td> <td>5.061e+04</td>\n",
       "</tr>\n",
       "</table>"
      ],
      "text/latex": [
       "\\begin{center}\n",
       "\\begin{tabular}{lclc}\n",
       "\\toprule\n",
       "\\textbf{Trend:}     &      Constant      & \\textbf{  No. Observations:  } &       208        \\\\\n",
       "\\textbf{Leads:}     &         0          & \\textbf{  R²:                } &      0.8246      \\\\\n",
       "\\textbf{Lags:}      &         0          & \\textbf{  Adjusted. R²:      } &      0.8229      \\\\\n",
       "\\textbf{Cov Type:}  &     unadjusted     & \\textbf{  Residual Variance: } &    1.093e+09     \\\\\n",
       "\\textbf{Kernel:}    &      Bartlett      & \\textbf{  Long-run Variance: } &    1.373e+10     \\\\\n",
       "\\textbf{Bandwidth:} &       13.041       & \\textbf{                     } &                  \\\\\n",
       "\\bottomrule\n",
       "\\end{tabular}\n",
       "\\begin{tabular}{lcccccc}\n",
       "               & \\textbf{Parameter} & \\textbf{Std. Err.} & \\textbf{T-stat} & \\textbf{P-value} & \\textbf{Lower CI} & \\textbf{Upper CI}  \\\\\n",
       "\\midrule\n",
       "\\textbf{Money} &       1.0821       &       0.1360       &      7.9548     &      0.0000      &       0.8155      &       1.3488       \\\\\n",
       "\\textbf{const} &     3.059e+04      &     1.021e+04      &      2.9948     &      0.0027      &     1.057e+04     &     5.061e+04      \\\\\n",
       "\\bottomrule\n",
       "\\end{tabular}\n",
       "%\\caption{Dynamic OLS Cointegrating Vector Summary}\n",
       "\\end{center}"
      ],
      "text/plain": [
       "<class 'statsmodels.iolib.summary.Summary'>\n",
       "\"\"\"\n",
       "                   Dynamic OLS Cointegrating Vector Summary                   \n",
       "==============================================================================\n",
       "Trend:                       Constant   No. Observations:                  208\n",
       "Leads:                              0   R²:                             0.8246\n",
       "Lags:                               0   Adjusted. R²:                   0.8229\n",
       "Cov Type:                  unadjusted   Residual Variance:           1.093e+09\n",
       "Kernel:                      Bartlett   Long-run Variance:           1.373e+10\n",
       "Bandwidth:                     13.041                                         \n",
       "                             Cointegrating Vector                             \n",
       "==============================================================================\n",
       "            Parameter  Std. Err.     T-stat    P-value    Lower CI    Upper CI\n",
       "------------------------------------------------------------------------------\n",
       "Money          1.0821     0.1360     7.9548     0.0000      0.8155      1.3488\n",
       "const       3.059e+04  1.021e+04     2.9948     0.0027   1.057e+04   5.061e+04\n",
       "==============================================================================\n",
       "\"\"\""
      ]
     },
     "execution_count": 41,
     "metadata": {},
     "output_type": "execute_result"
    }
   ],
   "source": [
    "dlm_res = DynamicOLS(Con_In_dt['Consumption'], Con_In_dt['Money']).fit()\n",
    "dlm_res.summary()"
   ]
  },
  {
   "cell_type": "code",
   "execution_count": 45,
   "id": "960825a0",
   "metadata": {},
   "outputs": [
    {
     "data": {
      "text/html": [
       "<table class=\"simpletable\">\n",
       "<caption>Dynamic OLS Cointegrating Vector Summary</caption>\n",
       "<tr>\n",
       "  <th>Trend:</th>     <td>Const and Linear Trend</td> <th>  No. Observations:  </th>    <td>207</td>   \n",
       "</tr>\n",
       "<tr>\n",
       "  <th>Leads:</th>                <td>1</td>           <th>  R²:                </th>  <td>0.9984</td>  \n",
       "</tr>\n",
       "<tr>\n",
       "  <th>Lags:</th>                 <td>0</td>           <th>  Adjusted. R²:      </th>  <td>0.9983</td>  \n",
       "</tr>\n",
       "<tr>\n",
       "  <th>Cov Type:</th>        <td>unadjusted</td>       <th>  Residual Variance: </th> <td>9.786e+06</td>\n",
       "</tr>\n",
       "<tr>\n",
       "  <th>Kernel:</th>           <td>Bartlett</td>        <th>  Long-run Variance: </th> <td>6.512e+07</td>\n",
       "</tr>\n",
       "<tr>\n",
       "  <th>Bandwidth:</th>         <td>11.634</td>         <th>                     </th>     <td></td>     \n",
       "</tr>\n",
       "</table>\n",
       "<table class=\"simpletable\">\n",
       "<caption>Cointegrating Vector</caption>\n",
       "<tr>\n",
       "     <td></td>    <th>Parameter</th> <th>Std. Err.</th> <th>T-stat</th>  <th>P-value</th> <th>Lower CI</th> <th>Upper CI</th>\n",
       "</tr>\n",
       "<tr>\n",
       "  <th>Income</th>  <td>0.4920</td>    <td>0.0199</td>   <td>24.730</td>  <td>0.0000</td>   <td>0.4530</td>   <td>0.5310</td> \n",
       "</tr>\n",
       "<tr>\n",
       "  <th>Money</th>   <td>-0.1648</td>   <td>0.0290</td>   <td>-5.6819</td> <td>0.0000</td>   <td>-0.2216</td>  <td>-0.1079</td>\n",
       "</tr>\n",
       "<tr>\n",
       "  <th>const</th>   <td>-1318.7</td>   <td>1767.1</td>   <td>-0.7463</td> <td>0.4555</td>   <td>-4782.2</td>  <td>2144.7</td> \n",
       "</tr>\n",
       "<tr>\n",
       "  <th>trend</th>   <td>78.276</td>    <td>38.894</td>   <td>2.0125</td>  <td>0.0442</td>   <td>2.0444</td>   <td>154.51</td> \n",
       "</tr>\n",
       "</table>"
      ],
      "text/plain": [
       "<class 'statsmodels.iolib.summary.Summary'>\n",
       "\"\"\"\n",
       "                     Dynamic OLS Cointegrating Vector Summary                     \n",
       "==================================================================================\n",
       "Trend:             Const and Linear Trend   No. Observations:                  207\n",
       "Leads:                                  1   R²:                             0.9984\n",
       "Lags:                                   0   Adjusted. R²:                   0.9983\n",
       "Cov Type:                      unadjusted   Residual Variance:           9.786e+06\n",
       "Kernel:                          Bartlett   Long-run Variance:           6.512e+07\n",
       "Bandwidth:                         11.634                                         \n",
       "                             Cointegrating Vector                             \n",
       "==============================================================================\n",
       "            Parameter  Std. Err.     T-stat    P-value    Lower CI    Upper CI\n",
       "------------------------------------------------------------------------------\n",
       "Income         0.4920     0.0199     24.730     0.0000      0.4530      0.5310\n",
       "Money         -0.1648     0.0290    -5.6819     0.0000     -0.2216     -0.1079\n",
       "const         -1318.7     1767.1    -0.7463     0.4555     -4782.2      2144.7\n",
       "trend          78.276     38.894     2.0125     0.0442      2.0444      154.51\n",
       "==============================================================================\n",
       "\"\"\""
      ]
     },
     "execution_count": 45,
     "metadata": {},
     "output_type": "execute_result"
    }
   ],
   "source": [
    "dlm_res = DynamicOLS(Con_In_dt['Consumption'], Con_In_dt[['Income','Money']], trend = 'ct').fit()\n",
    "dlm_res.summary()"
   ]
  },
  {
   "attachments": {},
   "cell_type": "markdown",
   "id": "d8110c8b",
   "metadata": {},
   "source": [
    "### Transformation (Standardization)"
   ]
  },
  {
   "cell_type": "code",
   "execution_count": 46,
   "id": "83189103",
   "metadata": {},
   "outputs": [],
   "source": [
    "Con_In_dtn = pd.DataFrame()\n",
    "Con_In_dtn['Consumption'] = Con_In_dt['Consumption']\n",
    "rescale_col = ['Income', 'Money']"
   ]
  },
  {
   "cell_type": "code",
   "execution_count": 47,
   "id": "b7f2838a",
   "metadata": {},
   "outputs": [
    {
     "name": "stdout",
     "output_type": "stream",
     "text": [
      "Income\n",
      "Money\n"
     ]
    }
   ],
   "source": [
    "for VarName in rescale_col:\n",
    "    Con_In_dtn[VarName] = (Con_In_dt[VarName] - Con_In_dt[VarName].mean()) / Con_In_dt[VarName].std()\n",
    "    print(VarName)"
   ]
  },
  {
   "cell_type": "code",
   "execution_count": 48,
   "id": "48e6a7e5",
   "metadata": {},
   "outputs": [
    {
     "data": {
      "text/html": [
       "<div>\n",
       "<style scoped>\n",
       "    .dataframe tbody tr th:only-of-type {\n",
       "        vertical-align: middle;\n",
       "    }\n",
       "\n",
       "    .dataframe tbody tr th {\n",
       "        vertical-align: top;\n",
       "    }\n",
       "\n",
       "    .dataframe thead th {\n",
       "        text-align: right;\n",
       "    }\n",
       "</style>\n",
       "<table border=\"1\" class=\"dataframe\">\n",
       "  <thead>\n",
       "    <tr style=\"text-align: right;\">\n",
       "      <th></th>\n",
       "      <th>Consumption</th>\n",
       "      <th>Income</th>\n",
       "      <th>Money</th>\n",
       "    </tr>\n",
       "    <tr>\n",
       "      <th>date</th>\n",
       "      <th></th>\n",
       "      <th></th>\n",
       "      <th></th>\n",
       "    </tr>\n",
       "  </thead>\n",
       "  <tbody>\n",
       "    <tr>\n",
       "      <th>1970-12-31</th>\n",
       "      <td>551.1</td>\n",
       "      <td>-1.015034</td>\n",
       "      <td>-0.752706</td>\n",
       "    </tr>\n",
       "    <tr>\n",
       "      <th>1971-03-31</th>\n",
       "      <td>583.7</td>\n",
       "      <td>-1.014841</td>\n",
       "      <td>-0.753010</td>\n",
       "    </tr>\n",
       "    <tr>\n",
       "      <th>1971-06-30</th>\n",
       "      <td>623.5</td>\n",
       "      <td>-1.014636</td>\n",
       "      <td>-0.752844</td>\n",
       "    </tr>\n",
       "    <tr>\n",
       "      <th>1971-09-30</th>\n",
       "      <td>667.4</td>\n",
       "      <td>-1.014535</td>\n",
       "      <td>-0.752571</td>\n",
       "    </tr>\n",
       "    <tr>\n",
       "      <th>1971-12-31</th>\n",
       "      <td>674.0</td>\n",
       "      <td>-1.014309</td>\n",
       "      <td>-0.752875</td>\n",
       "    </tr>\n",
       "    <tr>\n",
       "      <th>...</th>\n",
       "      <td>...</td>\n",
       "      <td>...</td>\n",
       "      <td>...</td>\n",
       "    </tr>\n",
       "    <tr>\n",
       "      <th>2021-12-31</th>\n",
       "      <td>236806.5</td>\n",
       "      <td>2.067953</td>\n",
       "      <td>2.930853</td>\n",
       "    </tr>\n",
       "    <tr>\n",
       "      <th>2022-03-31</th>\n",
       "      <td>237331.1</td>\n",
       "      <td>2.096132</td>\n",
       "      <td>3.174193</td>\n",
       "    </tr>\n",
       "    <tr>\n",
       "      <th>2022-06-30</th>\n",
       "      <td>248378.0</td>\n",
       "      <td>2.136999</td>\n",
       "      <td>3.445013</td>\n",
       "    </tr>\n",
       "    <tr>\n",
       "      <th>2022-09-30</th>\n",
       "      <td>255451.0</td>\n",
       "      <td>2.135407</td>\n",
       "      <td>3.388468</td>\n",
       "    </tr>\n",
       "    <tr>\n",
       "      <th>2022-12-31</th>\n",
       "      <td>255489.2</td>\n",
       "      <td>2.148273</td>\n",
       "      <td>3.333740</td>\n",
       "    </tr>\n",
       "  </tbody>\n",
       "</table>\n",
       "<p>209 rows × 3 columns</p>\n",
       "</div>"
      ],
      "text/plain": [
       "            Consumption    Income     Money\n",
       "date                                       \n",
       "1970-12-31        551.1 -1.015034 -0.752706\n",
       "1971-03-31        583.7 -1.014841 -0.753010\n",
       "1971-06-30        623.5 -1.014636 -0.752844\n",
       "1971-09-30        667.4 -1.014535 -0.752571\n",
       "1971-12-31        674.0 -1.014309 -0.752875\n",
       "...                 ...       ...       ...\n",
       "2021-12-31     236806.5  2.067953  2.930853\n",
       "2022-03-31     237331.1  2.096132  3.174193\n",
       "2022-06-30     248378.0  2.136999  3.445013\n",
       "2022-09-30     255451.0  2.135407  3.388468\n",
       "2022-12-31     255489.2  2.148273  3.333740\n",
       "\n",
       "[209 rows x 3 columns]"
      ]
     },
     "execution_count": 48,
     "metadata": {},
     "output_type": "execute_result"
    }
   ],
   "source": [
    "Con_In_dtn"
   ]
  },
  {
   "cell_type": "code",
   "execution_count": 49,
   "id": "0199b5e0",
   "metadata": {},
   "outputs": [
    {
     "name": "stdout",
     "output_type": "stream",
     "text": [
      "        Consumption     Income      Money\n",
      "count    209.000000 209.000000 209.000000\n",
      "mean   84796.594258   0.000000   0.000000\n",
      "std    79136.018235   1.000000   1.000000\n",
      "min      551.100000  -1.015034  -0.753084\n",
      "25%    10148.000000  -0.917855  -0.704406\n",
      "50%    65078.000000  -0.287819  -0.415012\n",
      "75%   153071.800000   0.764167   0.305885\n",
      "max   255489.200000   2.148273   3.445013\n"
     ]
    }
   ],
   "source": [
    "with pd.option_context('display.float_format', '{:0.6f}'.format):\n",
    "\n",
    "   print(Con_In_dtn.describe())"
   ]
  },
  {
   "cell_type": "code",
   "execution_count": 50,
   "id": "d92cd37a",
   "metadata": {},
   "outputs": [
    {
     "data": {
      "text/html": [
       "<div>\n",
       "<style scoped>\n",
       "    .dataframe tbody tr th:only-of-type {\n",
       "        vertical-align: middle;\n",
       "    }\n",
       "\n",
       "    .dataframe tbody tr th {\n",
       "        vertical-align: top;\n",
       "    }\n",
       "\n",
       "    .dataframe thead th {\n",
       "        text-align: right;\n",
       "    }\n",
       "</style>\n",
       "<table border=\"1\" class=\"dataframe\">\n",
       "  <thead>\n",
       "    <tr style=\"text-align: right;\">\n",
       "      <th></th>\n",
       "      <th>Consumption</th>\n",
       "      <th>Income</th>\n",
       "      <th>Money</th>\n",
       "    </tr>\n",
       "  </thead>\n",
       "  <tbody>\n",
       "    <tr>\n",
       "      <th>Consumption</th>\n",
       "      <td>1.000000</td>\n",
       "      <td>0.997238</td>\n",
       "      <td>0.907671</td>\n",
       "    </tr>\n",
       "    <tr>\n",
       "      <th>Income</th>\n",
       "      <td>0.997238</td>\n",
       "      <td>1.000000</td>\n",
       "      <td>0.931228</td>\n",
       "    </tr>\n",
       "    <tr>\n",
       "      <th>Money</th>\n",
       "      <td>0.907671</td>\n",
       "      <td>0.931228</td>\n",
       "      <td>1.000000</td>\n",
       "    </tr>\n",
       "  </tbody>\n",
       "</table>\n",
       "</div>"
      ],
      "text/plain": [
       "             Consumption    Income     Money\n",
       "Consumption     1.000000  0.997238  0.907671\n",
       "Income          0.997238  1.000000  0.931228\n",
       "Money           0.907671  0.931228  1.000000"
      ]
     },
     "execution_count": 50,
     "metadata": {},
     "output_type": "execute_result"
    }
   ],
   "source": [
    "Con_In_dtn.corr()"
   ]
  },
  {
   "cell_type": "code",
   "execution_count": 51,
   "id": "043aa163",
   "metadata": {},
   "outputs": [
    {
     "data": {
      "text/html": [
       "<table class=\"simpletable\">\n",
       "<caption>OLS Regression Results</caption>\n",
       "<tr>\n",
       "  <th>Dep. Variable:</th>       <td>Consumption</td>   <th>  R-squared:         </th> <td>   0.994</td> \n",
       "</tr>\n",
       "<tr>\n",
       "  <th>Model:</th>                   <td>OLS</td>       <th>  Adj. R-squared:    </th> <td>   0.994</td> \n",
       "</tr>\n",
       "<tr>\n",
       "  <th>Method:</th>             <td>Least Squares</td>  <th>  F-statistic:       </th> <td>3.732e+04</td>\n",
       "</tr>\n",
       "<tr>\n",
       "  <th>Date:</th>             <td>Sat, 08 Apr 2023</td> <th>  Prob (F-statistic):</th> <td>1.00e-235</td>\n",
       "</tr>\n",
       "<tr>\n",
       "  <th>Time:</th>                 <td>10:37:58</td>     <th>  Log-Likelihood:    </th> <td> -2109.9</td> \n",
       "</tr>\n",
       "<tr>\n",
       "  <th>No. Observations:</th>      <td>   209</td>      <th>  AIC:               </th> <td>   4224.</td> \n",
       "</tr>\n",
       "<tr>\n",
       "  <th>Df Residuals:</th>          <td>   207</td>      <th>  BIC:               </th> <td>   4231.</td> \n",
       "</tr>\n",
       "<tr>\n",
       "  <th>Df Model:</th>              <td>     1</td>      <th>                     </th>     <td> </td>    \n",
       "</tr>\n",
       "<tr>\n",
       "  <th>Covariance Type:</th>      <td>nonrobust</td>    <th>                     </th>     <td> </td>    \n",
       "</tr>\n",
       "</table>\n",
       "<table class=\"simpletable\">\n",
       "<tr>\n",
       "      <td></td>         <th>coef</th>     <th>std err</th>      <th>t</th>      <th>P>|t|</th>  <th>[0.025</th>    <th>0.975]</th>  \n",
       "</tr>\n",
       "<tr>\n",
       "  <th>Intercept</th> <td>  8.48e+04</td> <td>  407.527</td> <td>  208.076</td> <td> 0.000</td> <td>  8.4e+04</td> <td> 8.56e+04</td>\n",
       "</tr>\n",
       "<tr>\n",
       "  <th>Income</th>    <td> 7.892e+04</td> <td>  408.506</td> <td>  193.186</td> <td> 0.000</td> <td> 7.81e+04</td> <td> 7.97e+04</td>\n",
       "</tr>\n",
       "</table>\n",
       "<table class=\"simpletable\">\n",
       "<tr>\n",
       "  <th>Omnibus:</th>       <td> 0.073</td> <th>  Durbin-Watson:     </th> <td>   0.079</td>\n",
       "</tr>\n",
       "<tr>\n",
       "  <th>Prob(Omnibus):</th> <td> 0.964</td> <th>  Jarque-Bera (JB):  </th> <td>   0.041</td>\n",
       "</tr>\n",
       "<tr>\n",
       "  <th>Skew:</th>          <td> 0.033</td> <th>  Prob(JB):          </th> <td>   0.980</td>\n",
       "</tr>\n",
       "<tr>\n",
       "  <th>Kurtosis:</th>      <td> 2.982</td> <th>  Cond. No.          </th> <td>    1.00</td>\n",
       "</tr>\n",
       "</table><br/><br/>Notes:<br/>[1] Standard Errors assume that the covariance matrix of the errors is correctly specified."
      ],
      "text/plain": [
       "<class 'statsmodels.iolib.summary.Summary'>\n",
       "\"\"\"\n",
       "                            OLS Regression Results                            \n",
       "==============================================================================\n",
       "Dep. Variable:            Consumption   R-squared:                       0.994\n",
       "Model:                            OLS   Adj. R-squared:                  0.994\n",
       "Method:                 Least Squares   F-statistic:                 3.732e+04\n",
       "Date:                Sat, 08 Apr 2023   Prob (F-statistic):          1.00e-235\n",
       "Time:                        10:37:58   Log-Likelihood:                -2109.9\n",
       "No. Observations:                 209   AIC:                             4224.\n",
       "Df Residuals:                     207   BIC:                             4231.\n",
       "Df Model:                           1                                         \n",
       "Covariance Type:            nonrobust                                         \n",
       "==============================================================================\n",
       "                 coef    std err          t      P>|t|      [0.025      0.975]\n",
       "------------------------------------------------------------------------------\n",
       "Intercept    8.48e+04    407.527    208.076      0.000     8.4e+04    8.56e+04\n",
       "Income      7.892e+04    408.506    193.186      0.000    7.81e+04    7.97e+04\n",
       "==============================================================================\n",
       "Omnibus:                        0.073   Durbin-Watson:                   0.079\n",
       "Prob(Omnibus):                  0.964   Jarque-Bera (JB):                0.041\n",
       "Skew:                           0.033   Prob(JB):                        0.980\n",
       "Kurtosis:                       2.982   Cond. No.                         1.00\n",
       "==============================================================================\n",
       "\n",
       "Notes:\n",
       "[1] Standard Errors assume that the covariance matrix of the errors is correctly specified.\n",
       "\"\"\""
      ]
     },
     "execution_count": 51,
     "metadata": {},
     "output_type": "execute_result"
    }
   ],
   "source": [
    "UniFormula = \"Consumption ~ Income\"\n",
    "reg_ci = smf.ols(UniFormula, data=Con_In_dtn).fit()\n",
    "reg_ci.summary()"
   ]
  },
  {
   "cell_type": "code",
   "execution_count": 52,
   "id": "ed53d096",
   "metadata": {},
   "outputs": [
    {
     "data": {
      "image/png": "[encoded data removed]",
      "text/plain": [
       "<Figure size 640x480 with 1 Axes>"
      ]
     },
     "metadata": {},
     "output_type": "display_data"
    }
   ],
   "source": [
    "linear = LinearRegression()\n",
    "linear.fit(Con_In_dtn[['Income']], Con_In_dtn['Consumption'])\n",
    "\n",
    "linear_predict = linear.predict(Con_In_dtn[['Income']])\n",
    "\n",
    "plt.scatter(linear_predict, Con_In_dtn['Consumption'])\n",
    "    \n",
    "abline(1,0)"
   ]
  },
  {
   "cell_type": "code",
   "execution_count": 53,
   "id": "43b2196b",
   "metadata": {},
   "outputs": [
    {
     "name": "stdout",
     "output_type": "stream",
     "text": [
      "84796.5942583732\n",
      "[78917.46237775]\n",
      "0.9944840778907063\n"
     ]
    }
   ],
   "source": [
    "print(linear.intercept_)\n",
    "print(linear.coef_)\n",
    "print(linear.score(Con_In_dtn[['Income']], Con_In_dt['Consumption']))"
   ]
  },
  {
   "attachments": {},
   "cell_type": "markdown",
   "id": "06bf45f0",
   "metadata": {},
   "source": [
    "### y ~ beta[(x - m) / sigma ]"
   ]
  },
  {
   "cell_type": "code",
   "execution_count": 54,
   "id": "88c38380",
   "metadata": {},
   "outputs": [
    {
     "data": {
      "text/plain": [
       "173054.69876866133"
      ]
     },
     "execution_count": 54,
     "metadata": {},
     "output_type": "execute_result"
    }
   ],
   "source": [
    "Con_In_dt['Income'].std()"
   ]
  },
  {
   "cell_type": "code",
   "execution_count": 55,
   "id": "a250eebe",
   "metadata": {},
   "outputs": [
    {
     "data": {
      "text/plain": [
       "array([0.45602612])"
      ]
     },
     "execution_count": 55,
     "metadata": {},
     "output_type": "execute_result"
    }
   ],
   "source": [
    "linear.coef_ / Con_In_dt['Income'].std()"
   ]
  },
  {
   "cell_type": "code",
   "execution_count": 56,
   "id": "bc0db5db",
   "metadata": {},
   "outputs": [
    {
     "data": {
      "text/html": [
       "<table class=\"simpletable\">\n",
       "<caption>OLS Regression Results</caption>\n",
       "<tr>\n",
       "  <th>Dep. Variable:</th>       <td>Consumption</td>   <th>  R-squared:         </th> <td>   0.824</td>\n",
       "</tr>\n",
       "<tr>\n",
       "  <th>Model:</th>                   <td>OLS</td>       <th>  Adj. R-squared:    </th> <td>   0.823</td>\n",
       "</tr>\n",
       "<tr>\n",
       "  <th>Method:</th>             <td>Least Squares</td>  <th>  F-statistic:       </th> <td>   968.2</td>\n",
       "</tr>\n",
       "<tr>\n",
       "  <th>Date:</th>             <td>Sat, 08 Apr 2023</td> <th>  Prob (F-statistic):</th> <td>5.37e-80</td>\n",
       "</tr>\n",
       "<tr>\n",
       "  <th>Time:</th>                 <td>10:38:37</td>     <th>  Log-Likelihood:    </th> <td> -2471.9</td>\n",
       "</tr>\n",
       "<tr>\n",
       "  <th>No. Observations:</th>      <td>   209</td>      <th>  AIC:               </th> <td>   4948.</td>\n",
       "</tr>\n",
       "<tr>\n",
       "  <th>Df Residuals:</th>          <td>   207</td>      <th>  BIC:               </th> <td>   4954.</td>\n",
       "</tr>\n",
       "<tr>\n",
       "  <th>Df Model:</th>              <td>     1</td>      <th>                     </th>     <td> </td>   \n",
       "</tr>\n",
       "<tr>\n",
       "  <th>Covariance Type:</th>      <td>nonrobust</td>    <th>                     </th>     <td> </td>   \n",
       "</tr>\n",
       "</table>\n",
       "<table class=\"simpletable\">\n",
       "<tr>\n",
       "      <td></td>         <th>coef</th>     <th>std err</th>      <th>t</th>      <th>P>|t|</th>  <th>[0.025</th>    <th>0.975]</th>  \n",
       "</tr>\n",
       "<tr>\n",
       "  <th>Intercept</th> <td>  8.48e+04</td> <td> 2302.862</td> <td>   36.822</td> <td> 0.000</td> <td> 8.03e+04</td> <td> 8.93e+04</td>\n",
       "</tr>\n",
       "<tr>\n",
       "  <th>Money</th>     <td> 7.183e+04</td> <td> 2308.391</td> <td>   31.117</td> <td> 0.000</td> <td> 6.73e+04</td> <td> 7.64e+04</td>\n",
       "</tr>\n",
       "</table>\n",
       "<table class=\"simpletable\">\n",
       "<tr>\n",
       "  <th>Omnibus:</th>       <td>29.887</td> <th>  Durbin-Watson:     </th> <td>   0.017</td>\n",
       "</tr>\n",
       "<tr>\n",
       "  <th>Prob(Omnibus):</th> <td> 0.000</td> <th>  Jarque-Bera (JB):  </th> <td>   8.667</td>\n",
       "</tr>\n",
       "<tr>\n",
       "  <th>Skew:</th>          <td> 0.146</td> <th>  Prob(JB):          </th> <td>  0.0131</td>\n",
       "</tr>\n",
       "<tr>\n",
       "  <th>Kurtosis:</th>      <td> 2.046</td> <th>  Cond. No.          </th> <td>    1.00</td>\n",
       "</tr>\n",
       "</table><br/><br/>Notes:<br/>[1] Standard Errors assume that the covariance matrix of the errors is correctly specified."
      ],
      "text/plain": [
       "<class 'statsmodels.iolib.summary.Summary'>\n",
       "\"\"\"\n",
       "                            OLS Regression Results                            \n",
       "==============================================================================\n",
       "Dep. Variable:            Consumption   R-squared:                       0.824\n",
       "Model:                            OLS   Adj. R-squared:                  0.823\n",
       "Method:                 Least Squares   F-statistic:                     968.2\n",
       "Date:                Sat, 08 Apr 2023   Prob (F-statistic):           5.37e-80\n",
       "Time:                        10:38:37   Log-Likelihood:                -2471.9\n",
       "No. Observations:                 209   AIC:                             4948.\n",
       "Df Residuals:                     207   BIC:                             4954.\n",
       "Df Model:                           1                                         \n",
       "Covariance Type:            nonrobust                                         \n",
       "==============================================================================\n",
       "                 coef    std err          t      P>|t|      [0.025      0.975]\n",
       "------------------------------------------------------------------------------\n",
       "Intercept    8.48e+04   2302.862     36.822      0.000    8.03e+04    8.93e+04\n",
       "Money       7.183e+04   2308.391     31.117      0.000    6.73e+04    7.64e+04\n",
       "==============================================================================\n",
       "Omnibus:                       29.887   Durbin-Watson:                   0.017\n",
       "Prob(Omnibus):                  0.000   Jarque-Bera (JB):                8.667\n",
       "Skew:                           0.146   Prob(JB):                       0.0131\n",
       "Kurtosis:                       2.046   Cond. No.                         1.00\n",
       "==============================================================================\n",
       "\n",
       "Notes:\n",
       "[1] Standard Errors assume that the covariance matrix of the errors is correctly specified.\n",
       "\"\"\""
      ]
     },
     "execution_count": 56,
     "metadata": {},
     "output_type": "execute_result"
    }
   ],
   "source": [
    "UniFormula = \"Consumption ~ Money\"\n",
    "reg_ci = smf.ols(UniFormula, data=Con_In_dtn).fit()\n",
    "reg_ci.summary()"
   ]
  },
  {
   "cell_type": "code",
   "execution_count": 57,
   "id": "37bc5f87",
   "metadata": {},
   "outputs": [
    {
     "data": {
      "image/png": "[encoded data removed]",
      "text/plain": [
       "<Figure size 640x480 with 1 Axes>"
      ]
     },
     "metadata": {},
     "output_type": "display_data"
    }
   ],
   "source": [
    "linear = LinearRegression()\n",
    "linear.fit(Con_In_dtn[['Money']], Con_In_dtn['Consumption'])\n",
    "\n",
    "linear_predict = linear.predict(Con_In_dtn[['Money']])\n",
    "\n",
    "plt.scatter(linear_predict, Con_In_dtn['Consumption'])\n",
    "    \n",
    "abline(1,0)"
   ]
  },
  {
   "cell_type": "code",
   "execution_count": 58,
   "id": "d9f077db",
   "metadata": {},
   "outputs": [
    {
     "name": "stdout",
     "output_type": "stream",
     "text": [
      "84796.5942583732\n",
      "[71829.48437571]\n",
      "0.8238670013693437\n"
     ]
    }
   ],
   "source": [
    "print(linear.intercept_)\n",
    "print(linear.coef_)\n",
    "print(linear.score(Con_In_dtn[['Money']], Con_In_dtn['Consumption']))"
   ]
  },
  {
   "cell_type": "code",
   "execution_count": 59,
   "id": "8e5e7761",
   "metadata": {},
   "outputs": [
    {
     "data": {
      "text/plain": [
       "array([1.06480124])"
      ]
     },
     "execution_count": 59,
     "metadata": {},
     "output_type": "execute_result"
    }
   ],
   "source": [
    "linear.coef_ / Con_In_dt['Money'].std()"
   ]
  },
  {
   "cell_type": "code",
   "execution_count": 60,
   "id": "4a2997c7",
   "metadata": {},
   "outputs": [
    {
     "data": {
      "text/html": [
       "<table class=\"simpletable\">\n",
       "<caption>OLS Regression Results</caption>\n",
       "<tr>\n",
       "  <th>Dep. Variable:</th>       <td>Consumption</td>   <th>  R-squared:         </th> <td>   0.998</td> \n",
       "</tr>\n",
       "<tr>\n",
       "  <th>Model:</th>                   <td>OLS</td>       <th>  Adj. R-squared:    </th> <td>   0.998</td> \n",
       "</tr>\n",
       "<tr>\n",
       "  <th>Method:</th>             <td>Least Squares</td>  <th>  F-statistic:       </th> <td>4.671e+04</td>\n",
       "</tr>\n",
       "<tr>\n",
       "  <th>Date:</th>             <td>Sat, 08 Apr 2023</td> <th>  Prob (F-statistic):</th> <td>1.89e-274</td>\n",
       "</tr>\n",
       "<tr>\n",
       "  <th>Time:</th>                 <td>10:38:53</td>     <th>  Log-Likelihood:    </th> <td> -2013.9</td> \n",
       "</tr>\n",
       "<tr>\n",
       "  <th>No. Observations:</th>      <td>   209</td>      <th>  AIC:               </th> <td>   4034.</td> \n",
       "</tr>\n",
       "<tr>\n",
       "  <th>Df Residuals:</th>          <td>   206</td>      <th>  BIC:               </th> <td>   4044.</td> \n",
       "</tr>\n",
       "<tr>\n",
       "  <th>Df Model:</th>              <td>     2</td>      <th>                     </th>     <td> </td>    \n",
       "</tr>\n",
       "<tr>\n",
       "  <th>Covariance Type:</th>      <td>nonrobust</td>    <th>                     </th>     <td> </td>    \n",
       "</tr>\n",
       "</table>\n",
       "<table class=\"simpletable\">\n",
       "<tr>\n",
       "      <td></td>         <th>coef</th>     <th>std err</th>      <th>t</th>      <th>P>|t|</th>  <th>[0.025</th>    <th>0.975]</th>  \n",
       "</tr>\n",
       "<tr>\n",
       "  <th>Intercept</th> <td>  8.48e+04</td> <td>  258.015</td> <td>  328.650</td> <td> 0.000</td> <td> 8.43e+04</td> <td> 8.53e+04</td>\n",
       "</tr>\n",
       "<tr>\n",
       "  <th>Income</th>    <td> 9.056e+04</td> <td>  709.680</td> <td>  127.608</td> <td> 0.000</td> <td> 8.92e+04</td> <td>  9.2e+04</td>\n",
       "</tr>\n",
       "<tr>\n",
       "  <th>Money</th>     <td> -1.25e+04</td> <td>  709.680</td> <td>  -17.618</td> <td> 0.000</td> <td>-1.39e+04</td> <td>-1.11e+04</td>\n",
       "</tr>\n",
       "</table>\n",
       "<table class=\"simpletable\">\n",
       "<tr>\n",
       "  <th>Omnibus:</th>       <td>78.028</td> <th>  Durbin-Watson:     </th> <td>   0.255</td> \n",
       "</tr>\n",
       "<tr>\n",
       "  <th>Prob(Omnibus):</th> <td> 0.000</td> <th>  Jarque-Bera (JB):  </th> <td> 459.106</td> \n",
       "</tr>\n",
       "<tr>\n",
       "  <th>Skew:</th>          <td> 1.298</td> <th>  Prob(JB):          </th> <td>2.02e-100</td>\n",
       "</tr>\n",
       "<tr>\n",
       "  <th>Kurtosis:</th>      <td> 9.781</td> <th>  Cond. No.          </th> <td>    5.30</td> \n",
       "</tr>\n",
       "</table><br/><br/>Notes:<br/>[1] Standard Errors assume that the covariance matrix of the errors is correctly specified."
      ],
      "text/plain": [
       "<class 'statsmodels.iolib.summary.Summary'>\n",
       "\"\"\"\n",
       "                            OLS Regression Results                            \n",
       "==============================================================================\n",
       "Dep. Variable:            Consumption   R-squared:                       0.998\n",
       "Model:                            OLS   Adj. R-squared:                  0.998\n",
       "Method:                 Least Squares   F-statistic:                 4.671e+04\n",
       "Date:                Sat, 08 Apr 2023   Prob (F-statistic):          1.89e-274\n",
       "Time:                        10:38:53   Log-Likelihood:                -2013.9\n",
       "No. Observations:                 209   AIC:                             4034.\n",
       "Df Residuals:                     206   BIC:                             4044.\n",
       "Df Model:                           2                                         \n",
       "Covariance Type:            nonrobust                                         \n",
       "==============================================================================\n",
       "                 coef    std err          t      P>|t|      [0.025      0.975]\n",
       "------------------------------------------------------------------------------\n",
       "Intercept    8.48e+04    258.015    328.650      0.000    8.43e+04    8.53e+04\n",
       "Income      9.056e+04    709.680    127.608      0.000    8.92e+04     9.2e+04\n",
       "Money       -1.25e+04    709.680    -17.618      0.000   -1.39e+04   -1.11e+04\n",
       "==============================================================================\n",
       "Omnibus:                       78.028   Durbin-Watson:                   0.255\n",
       "Prob(Omnibus):                  0.000   Jarque-Bera (JB):              459.106\n",
       "Skew:                           1.298   Prob(JB):                    2.02e-100\n",
       "Kurtosis:                       9.781   Cond. No.                         5.30\n",
       "==============================================================================\n",
       "\n",
       "Notes:\n",
       "[1] Standard Errors assume that the covariance matrix of the errors is correctly specified.\n",
       "\"\"\""
      ]
     },
     "execution_count": 60,
     "metadata": {},
     "output_type": "execute_result"
    }
   ],
   "source": [
    "UniFormula = \"Consumption ~ Income + Money\"\n",
    "reg_ci = smf.ols(UniFormula, data=Con_In_dtn).fit()\n",
    "reg_ci.summary()"
   ]
  },
  {
   "cell_type": "code",
   "execution_count": 61,
   "id": "a2eb6d74",
   "metadata": {},
   "outputs": [
    {
     "data": {
      "image/png": "[encoded data removed]",
      "text/plain": [
       "<Figure size 640x480 with 1 Axes>"
      ]
     },
     "metadata": {},
     "output_type": "display_data"
    }
   ],
   "source": [
    "linear = LinearRegression()\n",
    "linear.fit(Con_In_dtn[['Income', 'Money']], Con_In_dt['Consumption'])\n",
    "\n",
    "linear_predict = linear.predict(Con_In_dtn[['Income', 'Money']])\n",
    "\n",
    "plt.scatter(Con_In_dt['Consumption'], linear_predict)\n",
    "    \n",
    "abline(1,0)"
   ]
  },
  {
   "cell_type": "code",
   "execution_count": 62,
   "id": "0f55cc45",
   "metadata": {},
   "outputs": [
    {
     "name": "stdout",
     "output_type": "stream",
     "text": [
      "84796.5942583732\n",
      "[ 90561.03309692 -12503.46203004]\n",
      "0.9977996535453327\n"
     ]
    }
   ],
   "source": [
    "print(linear.intercept_)\n",
    "print(linear.coef_)\n",
    "print(linear.score(Con_In_dtn[['Income', 'Money']], Con_In_dt['Consumption']))"
   ]
  },
  {
   "cell_type": "code",
   "execution_count": 63,
   "id": "6a889602",
   "metadata": {},
   "outputs": [
    {
     "name": "stdout",
     "output_type": "stream",
     "text": [
      "0.5233087211228111\n",
      "-0.1853514895536334\n"
     ]
    }
   ],
   "source": [
    "print(linear.coef_[0] / Con_In_dt['Income'].std())\n",
    "print(linear.coef_[1] / Con_In_dt['Money'].std())"
   ]
  },
  {
   "attachments": {},
   "cell_type": "markdown",
   "id": "4987775f",
   "metadata": {},
   "source": [
    "### LASSO"
   ]
  },
  {
   "cell_type": "code",
   "execution_count": 64,
   "id": "d6f65cde",
   "metadata": {},
   "outputs": [
    {
     "data": {
      "text/plain": [
       "array([ 90543.42974053, -12486.06448851])"
      ]
     },
     "execution_count": 64,
     "metadata": {},
     "output_type": "execute_result"
    }
   ],
   "source": [
    "regLasso = Lasso(alpha=1)\n",
    "regLasso.fit(Con_In_dtn[['Income', 'Money']], Con_In_dtn['Consumption'])\n",
    "\n",
    "regLasso.coef_"
   ]
  },
  {
   "cell_type": "code",
   "execution_count": 65,
   "id": "1253822f",
   "metadata": {},
   "outputs": [
    {
     "data": {
      "text/plain": [
       "array([77410.25083929,    -0.        ])"
      ]
     },
     "execution_count": 65,
     "metadata": {},
     "output_type": "execute_result"
    }
   ],
   "source": [
    "regLasso = Lasso(alpha=1500)\n",
    "regLasso.fit(Con_In_dtn[['Income', 'Money']], Con_In_dtn['Consumption'])\n",
    "\n",
    "regLasso.coef_"
   ]
  },
  {
   "cell_type": "code",
   "execution_count": 66,
   "id": "61f1dd78",
   "metadata": {},
   "outputs": [
    {
     "data": {
      "text/plain": [
       "array([1.00000000e+00, 1.61414141e+01, 3.12828283e+01, 4.64242424e+01,\n",
       "       6.15656566e+01, 7.67070707e+01, 9.18484848e+01, 1.06989899e+02,\n",
       "       1.22131313e+02, 1.37272727e+02, 1.52414141e+02, 1.67555556e+02,\n",
       "       1.82696970e+02, 1.97838384e+02, 2.12979798e+02, 2.28121212e+02,\n",
       "       2.43262626e+02, 2.58404040e+02, 2.73545455e+02, 2.88686869e+02,\n",
       "       3.03828283e+02, 3.18969697e+02, 3.34111111e+02, 3.49252525e+02,\n",
       "       3.64393939e+02, 3.79535354e+02, 3.94676768e+02, 4.09818182e+02,\n",
       "       4.24959596e+02, 4.40101010e+02, 4.55242424e+02, 4.70383838e+02,\n",
       "       4.85525253e+02, 5.00666667e+02, 5.15808081e+02, 5.30949495e+02,\n",
       "       5.46090909e+02, 5.61232323e+02, 5.76373737e+02, 5.91515152e+02,\n",
       "       6.06656566e+02, 6.21797980e+02, 6.36939394e+02, 6.52080808e+02,\n",
       "       6.67222222e+02, 6.82363636e+02, 6.97505051e+02, 7.12646465e+02,\n",
       "       7.27787879e+02, 7.42929293e+02, 7.58070707e+02, 7.73212121e+02,\n",
       "       7.88353535e+02, 8.03494949e+02, 8.18636364e+02, 8.33777778e+02,\n",
       "       8.48919192e+02, 8.64060606e+02, 8.79202020e+02, 8.94343434e+02,\n",
       "       9.09484848e+02, 9.24626263e+02, 9.39767677e+02, 9.54909091e+02,\n",
       "       9.70050505e+02, 9.85191919e+02, 1.00033333e+03, 1.01547475e+03,\n",
       "       1.03061616e+03, 1.04575758e+03, 1.06089899e+03, 1.07604040e+03,\n",
       "       1.09118182e+03, 1.10632323e+03, 1.12146465e+03, 1.13660606e+03,\n",
       "       1.15174747e+03, 1.16688889e+03, 1.18203030e+03, 1.19717172e+03,\n",
       "       1.21231313e+03, 1.22745455e+03, 1.24259596e+03, 1.25773737e+03,\n",
       "       1.27287879e+03, 1.28802020e+03, 1.30316162e+03, 1.31830303e+03,\n",
       "       1.33344444e+03, 1.34858586e+03, 1.36372727e+03, 1.37886869e+03,\n",
       "       1.39401010e+03, 1.40915152e+03, 1.42429293e+03, 1.43943434e+03,\n",
       "       1.45457576e+03, 1.46971717e+03, 1.48485859e+03, 1.50000000e+03])"
      ]
     },
     "execution_count": 66,
     "metadata": {},
     "output_type": "execute_result"
    }
   ],
   "source": [
    "np.linspace(1,1500,100)"
   ]
  },
  {
   "cell_type": "code",
   "execution_count": 67,
   "id": "2cbfc835",
   "metadata": {},
   "outputs": [
    {
     "data": {
      "text/html": [
       "<div>\n",
       "<style scoped>\n",
       "    .dataframe tbody tr th:only-of-type {\n",
       "        vertical-align: middle;\n",
       "    }\n",
       "\n",
       "    .dataframe tbody tr th {\n",
       "        vertical-align: top;\n",
       "    }\n",
       "\n",
       "    .dataframe thead th {\n",
       "        text-align: right;\n",
       "    }\n",
       "</style>\n",
       "<table border=\"1\" class=\"dataframe\">\n",
       "  <thead>\n",
       "    <tr style=\"text-align: right;\">\n",
       "      <th></th>\n",
       "      <th>Income</th>\n",
       "      <th>Money</th>\n",
       "    </tr>\n",
       "    <tr>\n",
       "      <th>date</th>\n",
       "      <th></th>\n",
       "      <th></th>\n",
       "    </tr>\n",
       "  </thead>\n",
       "  <tbody>\n",
       "    <tr>\n",
       "      <th>1970-12-31</th>\n",
       "      <td>-1.015034</td>\n",
       "      <td>-0.752706</td>\n",
       "    </tr>\n",
       "    <tr>\n",
       "      <th>1971-03-31</th>\n",
       "      <td>-1.014841</td>\n",
       "      <td>-0.753010</td>\n",
       "    </tr>\n",
       "    <tr>\n",
       "      <th>1971-06-30</th>\n",
       "      <td>-1.014636</td>\n",
       "      <td>-0.752844</td>\n",
       "    </tr>\n",
       "    <tr>\n",
       "      <th>1971-09-30</th>\n",
       "      <td>-1.014535</td>\n",
       "      <td>-0.752571</td>\n",
       "    </tr>\n",
       "    <tr>\n",
       "      <th>1971-12-31</th>\n",
       "      <td>-1.014309</td>\n",
       "      <td>-0.752875</td>\n",
       "    </tr>\n",
       "    <tr>\n",
       "      <th>...</th>\n",
       "      <td>...</td>\n",
       "      <td>...</td>\n",
       "    </tr>\n",
       "    <tr>\n",
       "      <th>2021-12-31</th>\n",
       "      <td>2.067953</td>\n",
       "      <td>2.930853</td>\n",
       "    </tr>\n",
       "    <tr>\n",
       "      <th>2022-03-31</th>\n",
       "      <td>2.096132</td>\n",
       "      <td>3.174193</td>\n",
       "    </tr>\n",
       "    <tr>\n",
       "      <th>2022-06-30</th>\n",
       "      <td>2.136999</td>\n",
       "      <td>3.445013</td>\n",
       "    </tr>\n",
       "    <tr>\n",
       "      <th>2022-09-30</th>\n",
       "      <td>2.135407</td>\n",
       "      <td>3.388468</td>\n",
       "    </tr>\n",
       "    <tr>\n",
       "      <th>2022-12-31</th>\n",
       "      <td>2.148273</td>\n",
       "      <td>3.333740</td>\n",
       "    </tr>\n",
       "  </tbody>\n",
       "</table>\n",
       "<p>209 rows × 2 columns</p>\n",
       "</div>"
      ],
      "text/plain": [
       "              Income     Money\n",
       "date                          \n",
       "1970-12-31 -1.015034 -0.752706\n",
       "1971-03-31 -1.014841 -0.753010\n",
       "1971-06-30 -1.014636 -0.752844\n",
       "1971-09-30 -1.014535 -0.752571\n",
       "1971-12-31 -1.014309 -0.752875\n",
       "...              ...       ...\n",
       "2021-12-31  2.067953  2.930853\n",
       "2022-03-31  2.096132  3.174193\n",
       "2022-06-30  2.136999  3.445013\n",
       "2022-09-30  2.135407  3.388468\n",
       "2022-12-31  2.148273  3.333740\n",
       "\n",
       "[209 rows x 2 columns]"
      ]
     },
     "execution_count": 67,
     "metadata": {},
     "output_type": "execute_result"
    }
   ],
   "source": [
    "Con_In_dtn[['Income', 'Money']]"
   ]
  },
  {
   "cell_type": "code",
   "execution_count": 68,
   "id": "d7732260",
   "metadata": {},
   "outputs": [
    {
     "data": {
      "image/png": "[encoded data removed]",
      "text/plain": [
       "<Figure size 640x480 with 1 Axes>"
      ]
     },
     "metadata": {},
     "output_type": "display_data"
    }
   ],
   "source": [
    "alphas = np.linspace(1,1500,100)\n",
    "lasso = Lasso(max_iter=10000)\n",
    "coefs = []\n",
    "\n",
    "for a in alphas:\n",
    "    lasso.set_params(alpha=a)\n",
    "    lasso.fit(Con_In_dtn[['Income', 'Money']], Con_In_dtn['Consumption'])\n",
    "    coefs.append(lasso.coef_)\n",
    "\n",
    "ax = plt.gca()\n",
    "\n",
    "ax.plot(alphas, coefs)\n",
    "plt.axis('tight')\n",
    "plt.xlabel('alpha')\n",
    "plt.ylabel('Standardized Coefficients')\n",
    "plt.title('LASSO coefficients as a function of alpha');"
   ]
  },
  {
   "cell_type": "code",
   "execution_count": 69,
   "id": "c8247068",
   "metadata": {},
   "outputs": [
    {
     "data": {
      "text/plain": [
       "[array([ 90543.42974053, -12486.06448851]),\n",
       " array([ 90281.12302141, -12226.58298523]),\n",
       " array([ 90046.41985818, -11992.80667899]),\n",
       " array([ 89826.25077608, -11772.5649123 ]),\n",
       " array([ 89606.08169398, -11552.32314561]),\n",
       " array([ 89385.91261187, -11332.08137892]),\n",
       " array([ 89165.74352977, -11111.83961224]),\n",
       " array([ 88945.57444767, -10891.59784555]),\n",
       " array([ 88725.40536556, -10671.35607886]),\n",
       " array([ 88505.23628346, -10451.11431217]),\n",
       " array([ 88277.5479087 , -10223.87037156]),\n",
       " array([ 88057.54069571, -10003.77934188]),\n",
       " array([87837.53348273, -9783.68831221]),\n",
       " array([87617.52626974, -9563.59728253]),\n",
       " array([87397.51905675, -9343.50625285]),\n",
       " array([87177.51184377, -9123.41522318]),\n",
       " array([86957.50463078, -8903.3241935 ]),\n",
       " array([86730.13312062, -8676.37532599]),\n",
       " array([86510.31256803, -8456.45811966]),\n",
       " array([86290.49201544, -8236.54091332]),\n",
       " array([86070.67146285, -8016.62370698]),\n",
       " array([85850.85091026, -7796.70650065]),\n",
       " array([85623.61441484, -7569.88336261]),\n",
       " array([85404.00911087, -7350.16660176]),\n",
       " array([85184.4038069 , -7130.44984091]),\n",
       " array([84964.79850292, -6910.73308005]),\n",
       " array([84745.19319895, -6691.0163192 ]),\n",
       " array([84518.27723008, -6464.49166438]),\n",
       " array([84298.92014141, -6245.00604851]),\n",
       " array([84079.56305275, -6025.52043263]),\n",
       " array([83860.20596409, -5806.03481676]),\n",
       " array([83640.84887542, -5586.54920089]),\n",
       " array([83414.49260249, -5360.54575046]),\n",
       " array([83195.42174488, -5141.32668089]),\n",
       " array([82976.35088727, -4922.10761132]),\n",
       " array([82750.19908346, -4696.2945682 ]),\n",
       " array([82531.458295  , -4477.38286818]),\n",
       " array([82312.71750655, -4258.47116816]),\n",
       " array([82086.95314413, -4033.01892121]),\n",
       " array([81868.59297701, -3814.46166634]),\n",
       " array([81650.23280989, -3595.90441147]),\n",
       " array([81425.09011168, -3371.03107548]),\n",
       " array([81207.16886046, -3152.88255127]),\n",
       " array([80982.43856787, -2928.39325883]),\n",
       " array([80765.0234553 , -2710.71606498]),\n",
       " array([80540.92376754, -2486.81400925]),\n",
       " array([80324.09231196, -2269.68033299]),\n",
       " array([80100.89859168, -2046.62193931]),\n",
       " array([79878.1796273 , -1824.00565151]),\n",
       " array([79656.12699982, -1602.00987511]),\n",
       " array([79434.97983763, -1380.85729311]),\n",
       " array([79215.03488699, -1160.82424386]),\n",
       " array([78996.65855196,  -942.25193298]),\n",
       " array([78773.99969196,  -719.69161605]),\n",
       " array([78555.39965178,  -500.91098473]),\n",
       " array([78332.04939385,  -277.70681885]),\n",
       " array([ 7.81120098e+04, -5.75856445e+01]),\n",
       " array([78049.24763416,    -0.        ]),\n",
       " array([78034.03342476,    -0.        ]),\n",
       " array([78018.81921535,    -0.        ]),\n",
       " array([78003.60500595,    -0.        ]),\n",
       " array([77988.39079655,    -0.        ]),\n",
       " array([77973.17658715,    -0.        ]),\n",
       " array([77957.96237775,    -0.        ]),\n",
       " array([77942.74816835,    -0.        ]),\n",
       " array([77927.53395894,    -0.        ]),\n",
       " array([77912.31974954,    -0.        ]),\n",
       " array([77897.10554014,    -0.        ]),\n",
       " array([77881.89133074,    -0.        ]),\n",
       " array([77866.67712134,    -0.        ]),\n",
       " array([77851.46291194,    -0.        ]),\n",
       " array([77836.24870253,    -0.        ]),\n",
       " array([77821.03449313,    -0.        ]),\n",
       " array([77805.82028373,    -0.        ]),\n",
       " array([77790.60607433,    -0.        ]),\n",
       " array([77775.39186493,    -0.        ]),\n",
       " array([77760.17765552,    -0.        ]),\n",
       " array([77744.96344612,    -0.        ]),\n",
       " array([77729.74923672,    -0.        ]),\n",
       " array([77714.53502732,    -0.        ]),\n",
       " array([77699.32081792,    -0.        ]),\n",
       " array([77684.10660852,    -0.        ]),\n",
       " array([77668.89239911,    -0.        ]),\n",
       " array([77653.67818971,    -0.        ]),\n",
       " array([77638.46398031,    -0.        ]),\n",
       " array([77623.24977091,    -0.        ]),\n",
       " array([77608.03556151,    -0.        ]),\n",
       " array([77592.82135211,    -0.        ]),\n",
       " array([77577.6071427,    -0.       ]),\n",
       " array([77562.3929333,    -0.       ]),\n",
       " array([77547.1787239,    -0.       ]),\n",
       " array([77531.9645145,    -0.       ]),\n",
       " array([77516.7503051,    -0.       ]),\n",
       " array([77501.5360957,    -0.       ]),\n",
       " array([77486.32188629,    -0.        ]),\n",
       " array([77471.10767689,    -0.        ]),\n",
       " array([77455.89346749,    -0.        ]),\n",
       " array([77440.67925809,    -0.        ]),\n",
       " array([77425.46504869,    -0.        ]),\n",
       " array([77410.25083929,    -0.        ])]"
      ]
     },
     "execution_count": 69,
     "metadata": {},
     "output_type": "execute_result"
    }
   ],
   "source": [
    "coefs"
   ]
  },
  {
   "cell_type": "code",
   "execution_count": 70,
   "id": "6beac1fc",
   "metadata": {},
   "outputs": [
    {
     "data": {
      "text/plain": [
       "array([77912.65468544,    -0.        ])"
      ]
     },
     "execution_count": 70,
     "metadata": {},
     "output_type": "execute_result"
    }
   ],
   "source": [
    "regLasso = Lasso(alpha=1000)\n",
    "regLasso.fit(Con_In_dtn[['Income', 'Money']], Con_In_dt['Consumption'])\n",
    "\n",
    "regLasso.coef_"
   ]
  },
  {
   "cell_type": "code",
   "execution_count": 71,
   "id": "2f9cf232",
   "metadata": {},
   "outputs": [
    {
     "data": {
      "text/plain": [
       "0.45021981627665947"
      ]
     },
     "execution_count": 71,
     "metadata": {},
     "output_type": "execute_result"
    }
   ],
   "source": [
    "regLasso.coef_[0] / Con_In_dt['Income'].std()"
   ]
  },
  {
   "attachments": {},
   "cell_type": "markdown",
   "id": "e18304b1",
   "metadata": {},
   "source": [
    "### Ridge"
   ]
  },
  {
   "cell_type": "code",
   "execution_count": 72,
   "id": "569f9c8e",
   "metadata": {},
   "outputs": [
    {
     "data": {
      "text/plain": [
       "array([87097.01229646, -9233.27899578])"
      ]
     },
     "execution_count": 72,
     "metadata": {},
     "output_type": "execute_result"
    }
   ],
   "source": [
    "regRidge = Ridge(alpha=1)\n",
    "regRidge.fit(Con_In_dtn[['Income', 'Money']], Con_In_dtn['Consumption'])\n",
    "\n",
    "regRidge.coef_"
   ]
  },
  {
   "cell_type": "code",
   "execution_count": 73,
   "id": "f34b69a0",
   "metadata": {},
   "outputs": [
    {
     "data": {
      "text/plain": [
       "array([11911.55382809, 10458.04629056])"
      ]
     },
     "execution_count": 73,
     "metadata": {},
     "output_type": "execute_result"
    }
   ],
   "source": [
    "regRidge = Ridge(alpha=1000)\n",
    "regRidge.fit(Con_In_dtn[['Income', 'Money']], Con_In_dtn['Consumption'])\n",
    "\n",
    "regRidge.coef_"
   ]
  },
  {
   "cell_type": "code",
   "execution_count": 74,
   "id": "4ee98933",
   "metadata": {
    "scrolled": true
   },
   "outputs": [
    {
     "data": {
      "image/png": "[encoded data removed]",
      "text/plain": [
       "<Figure size 640x480 with 1 Axes>"
      ]
     },
     "metadata": {},
     "output_type": "display_data"
    }
   ],
   "source": [
    "alphas = np.linspace(1,1500,100)\n",
    "ridge = Ridge(max_iter=10000)\n",
    "coefs = []\n",
    "\n",
    "for a in alphas:\n",
    "    ridge.set_params(alpha=a)\n",
    "    ridge.fit(Con_In_dtn[['Income', 'Money']], Con_In_dtn['Consumption'])\n",
    "    coefs.append(ridge.coef_)\n",
    "\n",
    "ax = plt.gca()\n",
    "\n",
    "ax.plot(alphas, coefs)\n",
    "plt.axis('tight')\n",
    "plt.xlabel('alpha')\n",
    "plt.ylabel('Standardized Coefficients')\n",
    "plt.title('Ridge coefficients as a function of alpha');"
   ]
  },
  {
   "cell_type": "code",
   "execution_count": 75,
   "id": "1158b2c4",
   "metadata": {},
   "outputs": [
    {
     "data": {
      "text/plain": [
       "array([37698.39890319, 24800.41366854])"
      ]
     },
     "execution_count": 75,
     "metadata": {},
     "output_type": "execute_result"
    }
   ],
   "source": [
    "regRidge = Ridge(alpha=100)\n",
    "regRidge.fit(Con_In_dtn[['Income', 'Money']], Con_In_dtn['Consumption'])\n",
    "\n",
    "regRidge.coef_"
   ]
  },
  {
   "cell_type": "code",
   "execution_count": 76,
   "id": "76e860e8",
   "metadata": {},
   "outputs": [
    {
     "name": "stdout",
     "output_type": "stream",
     "text": [
      "0.21784094376763008\n",
      "0.3676416662814203\n"
     ]
    }
   ],
   "source": [
    "print(regRidge.coef_[0] / Con_In_dt['Income'].std())\n",
    "print(regRidge.coef_[1] / Con_In_dt['Money'].std())"
   ]
  },
  {
   "attachments": {},
   "cell_type": "markdown",
   "id": "bb449d4b",
   "metadata": {},
   "source": [
    "### Cross Validation LASSO "
   ]
  },
  {
   "cell_type": "code",
   "execution_count": 77,
   "id": "9ad38658",
   "metadata": {},
   "outputs": [
    {
     "name": "stdout",
     "output_type": "stream",
     "text": [
      "Path: 000 out of 100\n",
      "Path: 001 out of 100\n",
      "Path: 002 out of 100\n",
      "Path: 003 out of 100\n",
      "Path: 004 out of 100\n",
      "Path: 005 out of 100\n",
      "Path: 006 out of 100\n",
      "Path: 007 out of 100\n",
      "Path: 008 out of 100\n",
      "Path: 009 out of 100\n",
      "Path: 010 out of 100\n",
      "Path: 011 out of 100\n",
      "Path: 012 out of 100\n",
      "Path: 013 out of 100\n",
      "Path: 014 out of 100\n",
      "Path: 015 out of 100\n",
      "Path: 016 out of 100\n",
      "Path: 017 out of 100\n",
      "Path: 018 out of 100\n",
      "Path: 019 out of 100\n",
      "Path: 020 out of 100\n",
      "Path: 021 out of 100\n",
      "Path: 022 out of 100\n",
      "Path: 023 out of 100\n",
      "Path: 024 out of 100\n",
      "Path: 025 out of 100\n",
      "Path: 026 out of 100\n",
      "Path: 027 out of 100\n",
      "Path: 028 out of 100\n",
      "Path: 029 out of 100\n",
      "Path: 030 out of 100\n",
      "Path: 031 out of 100\n",
      "Path: 032 out of 100\n",
      "Path: 033 out of 100\n",
      "Path: 034 out of 100\n",
      "Path: 035 out of 100\n",
      "Path: 036 out of 100\n",
      "Path: 037 out of 100\n",
      "Path: 038 out of 100\n",
      "Path: 039 out of 100\n",
      "Path: 040 out of 100\n",
      "Path: 041 out of 100\n",
      "Path: 042 out of 100\n",
      "Path: 043 out of 100\n",
      "Path: 044 out of 100\n",
      "Path: 045 out of 100\n",
      "Path: 046 out of 100\n",
      "Path: 047 out of 100\n",
      "Path: 048 out of 100\n",
      "Path: 049 out of 100\n",
      "Path: 050 out of 100\n",
      "Path: 051 out of 100\n",
      "Path: 052 out of 100\n",
      "Path: 053 out of 100\n",
      "Path: 054 out of 100\n",
      "Path: 055 out of 100\n",
      "Path: 056 out of 100\n",
      "Path: 057 out of 100\n",
      "Path: 058 out of 100\n",
      "Path: 059 out of 100\n",
      "Path: 060 out of 100\n",
      "Path: 061 out of 100\n",
      "Path: 062 out of 100\n",
      "Path: 063 out of 100\n",
      "Path: 064 out of 100\n",
      "Path: 065 out of 100\n",
      "Path: 066 out of 100\n",
      "Path: 067 out of 100\n",
      "Path: 068 out of 100\n",
      "Path: 069 out of 100\n",
      "Path: 070 out of 100\n",
      "Path: 071 out of 100\n",
      "Path: 072 out of 100\n",
      "Path: 073 out of 100\n",
      "Path: 074 out of 100\n",
      "Path: 075 out of 100\n",
      "Path: 076 out of 100\n",
      "Path: 077 out of 100\n",
      "Path: 078 out of 100\n",
      "Path: 079 out of 100\n",
      "Path: 080 out of 100\n",
      "Path: 081 out of 100\n",
      "Path: 082 out of 100\n",
      "Path: 083 out of 100\n",
      "Path: 084 out of 100\n",
      "Path: 085 out of 100\n",
      "Path: 086 out of 100\n",
      "Path: 087 out of 100\n",
      "Path: 088 out of 100\n",
      "Path: 089 out of 100\n",
      "Path: 090 out of 100\n",
      "Path: 091 out of 100\n",
      "Path: 092 out of 100\n",
      "Path: 093 out of 100\n",
      "Path: 094 out of 100\n",
      "Path: 095 out of 100\n",
      "Path: 096 out of 100\n",
      "Path: 097 out of 100\n",
      "Path: 098 out of 100\n",
      "Path: 099 out of 100\n",
      "Path: 000 out of 100\n",
      "Path: 001 out of 100\n",
      "Path: 002 out of 100\n",
      "Path: 003 out of 100\n",
      "Path: 004 out of 100\n",
      "Path: 005 out of 100\n",
      "Path: 006 out of 100\n",
      "Path: 007 out of 100\n",
      "Path: 008 out of 100\n",
      "Path: 009 out of 100\n",
      "Path: 010 out of 100\n",
      "Path: 011 out of 100\n",
      "Path: 012 out of 100\n",
      "Path: 013 out of 100\n",
      "Path: 014 out of 100\n",
      "Path: 015 out of 100\n",
      "Path: 016 out of 100\n",
      "Path: 017 out of 100\n",
      "Path: 018 out of 100\n",
      "Path: 019 out of 100\n",
      "Path: 020 out of 100\n",
      "Path: 021 out of 100\n",
      "Path: 022 out of 100\n",
      "Path: 023 out of 100\n",
      "Path: 024 out of 100\n",
      "Path: 025 out of 100\n",
      "Path: 026 out of 100\n",
      "Path: 027 out of 100\n",
      "Path: 028 out of 100\n",
      "Path: 029 out of 100\n",
      "Path: 030 out of 100\n",
      "Path: 031 out of 100\n",
      "Path: 032 out of 100\n",
      "Path: 033 out of 100\n",
      "Path: 034 out of 100\n",
      "Path: 035 out of 100\n",
      "Path: 036 out of 100\n",
      "Path: 037 out of 100\n",
      "Path: 038 out of 100\n",
      "Path: 039 out of 100\n",
      "Path: 040 out of 100\n",
      "Path: 041 out of 100\n",
      "Path: 042 out of 100\n",
      "Path: 043 out of 100\n",
      "Path: 044 out of 100\n",
      "Path: 045 out of 100\n",
      "Path: 046 out of 100\n",
      "Path: 047 out of 100\n",
      "Path: 048 out of 100\n",
      "Path: 049 out of 100\n",
      "Path: 050 out of 100\n",
      "Path: 051 out of 100\n",
      "Path: 052 out of 100\n",
      "Path: 053 out of 100\n",
      "Path: 054 out of 100\n",
      "Path: 055 out of 100\n",
      "Path: 056 out of 100\n",
      "Path: 057 out of 100\n",
      "Path: 058 out of 100\n",
      "Path: 059 out of 100\n",
      "Path: 060 out of 100\n",
      "Path: 061 out of 100\n",
      "Path: 062 out of 100\n",
      "Path: 063 out of 100\n",
      "Path: 064 out of 100\n",
      "Path: 065 out of 100\n",
      "Path: 066 out of 100\n",
      "Path: 067 out of 100\n",
      "Path: 068 out of 100\n",
      "Path: 069 out of 100\n",
      "Path: 070 out of 100\n",
      "Path: 071 out of 100\n",
      "Path: 072 out of 100\n",
      "Path: 073 out of 100\n",
      "Path: 074 out of 100\n",
      "Path: 075 out of 100\n",
      "Path: 076 out of 100\n",
      "Path: 077 out of 100\n",
      "Path: 078 out of 100\n",
      "Path: 079 out of 100\n",
      "Path: 080 out of 100\n",
      "Path: 081 out of 100\n",
      "Path: 082 out of 100\n",
      "Path: 083 out of 100\n",
      "Path: 084 out of 100\n",
      "Path: 085 out of 100\n",
      "Path: 086 out of 100\n",
      "Path: 087 out of 100\n",
      "Path: 088 out of 100\n",
      "Path: 089 out of 100\n",
      "Path: 090 out of 100\n",
      "Path: 091 out of 100\n",
      "Path: 092 out of 100\n",
      "Path: 093 out of 100\n",
      "Path: 094 out of 100\n",
      "Path: 095 out of 100\n",
      "Path: 096 out of 100\n",
      "Path: 097 out of 100\n",
      "Path: 098 out of 100\n",
      "Path: 099 out of 100\n",
      "Path: 000 out of 100\n",
      "Path: 001 out of 100\n",
      "Path: 002 out of 100\n",
      "Path: 003 out of 100\n",
      "Path: 004 out of 100\n",
      "Path: 005 out of 100\n",
      "Path: 006 out of 100\n",
      "Path: 007 out of 100\n",
      "Path: 008 out of 100\n",
      "Path: 009 out of 100\n",
      "Path: 010 out of 100\n",
      "Path: 011 out of 100\n",
      "Path: 012 out of 100\n",
      "Path: 013 out of 100\n",
      "Path: 014 out of 100\n",
      "Path: 015 out of 100\n",
      "Path: 016 out of 100\n",
      "Path: 017 out of 100\n",
      "Path: 018 out of 100\n",
      "Path: 019 out of 100\n",
      "Path: 020 out of 100\n",
      "Path: 021 out of 100\n",
      "Path: 022 out of 100\n",
      "Path: 023 out of 100\n",
      "Path: 024 out of 100\n",
      "Path: 025 out of 100\n",
      "Path: 026 out of 100\n",
      "Path: 027 out of 100\n",
      "Path: 028 out of 100\n",
      "Path: 029 out of 100\n",
      "Path: 030 out of 100\n",
      "Path: 031 out of 100\n",
      "Path: 032 out of 100\n",
      "Path: 033 out of 100\n",
      "Path: 034 out of 100\n",
      "Path: 035 out of 100\n",
      "Path: 036 out of 100\n",
      "Path: 037 out of 100\n",
      "Path: 038 out of 100\n",
      "Path: 039 out of 100\n",
      "Path: 040 out of 100\n",
      "Path: 041 out of 100\n",
      "Path: 042 out of 100\n",
      "Path: 043 out of 100\n",
      "Path: 044 out of 100\n",
      "Path: 045 out of 100\n",
      "Path: 046 out of 100\n",
      "Path: 047 out of 100\n",
      "Path: 048 out of 100\n",
      "Path: 049 out of 100\n",
      "Path: 050 out of 100\n",
      "Path: 051 out of 100\n",
      "Path: 052 out of 100\n",
      "Path: 053 out of 100\n",
      "Path: 054 out of 100\n",
      "Path: 055 out of 100\n",
      "Path: 056 out of 100\n",
      "Path: 057 out of 100\n",
      "Path: 058 out of 100\n",
      "Path: 059 out of 100\n",
      "Path: 060 out of 100\n",
      "Path: 061 out of 100\n",
      "Path: 062 out of 100\n",
      "Path: 063 out of 100\n",
      "Path: 064 out of 100\n",
      "Path: 065 out of 100\n",
      "Path: 066 out of 100\n",
      "Path: 067 out of 100\n",
      "Path: 068 out of 100\n",
      "Path: 069 out of 100\n",
      "Path: 070 out of 100\n",
      "Path: 071 out of 100\n",
      "Path: 072 out of 100\n",
      "Path: 073 out of 100\n",
      "Path: 074 out of 100\n",
      "Path: 075 out of 100\n",
      "Path: 076 out of 100\n",
      "Path: 077 out of 100\n",
      "Path: 078 out of 100\n",
      "Path: 079 out of 100\n",
      "Path: 080 out of 100\n",
      "Path: 081 out of 100\n",
      "Path: 082 out of 100\n",
      "Path: 083 out of 100\n",
      "Path: 084 out of 100\n",
      "Path: 085 out of 100\n",
      "Path: 086 out of 100\n",
      "Path: 087 out of 100\n",
      "Path: 088 out of 100\n",
      "Path: 089 out of 100\n",
      "Path: 090 out of 100\n",
      "Path: 091 out of 100\n",
      "Path: 092 out of 100\n",
      "Path: 093 out of 100\n",
      "Path: 094 out of 100\n",
      "Path: 095 out of 100\n",
      "Path: 096 out of 100\n",
      "Path: 097 out of 100\n",
      "Path: 098 out of 100\n",
      "Path: 099 out of 100\n",
      "Path: 000 out of 100\n",
      "Path: 001 out of 100\n",
      "Path: 002 out of 100\n",
      "Path: 003 out of 100\n",
      "Path: 004 out of 100\n",
      "Path: 005 out of 100\n",
      "Path: 006 out of 100\n",
      "Path: 007 out of 100\n",
      "Path: 008 out of 100\n",
      "Path: 009 out of 100\n",
      "Path: 010 out of 100\n",
      "Path: 011 out of 100\n",
      "Path: 012 out of 100\n",
      "Path: 013 out of 100\n",
      "Path: 014 out of 100\n",
      "Path: 015 out of 100\n",
      "Path: 016 out of 100\n",
      "Path: 017 out of 100\n",
      "Path: 018 out of 100\n",
      "Path: 019 out of 100\n",
      "Path: 020 out of 100\n",
      "Path: 021 out of 100\n",
      "Path: 022 out of 100\n",
      "Path: 023 out of 100\n",
      "Path: 024 out of 100\n",
      "Path: 025 out of 100\n",
      "Path: 026 out of 100\n",
      "Path: 027 out of 100\n",
      "Path: 028 out of 100\n",
      "Path: 029 out of 100\n",
      "Path: 030 out of 100\n",
      "Path: 031 out of 100\n",
      "Path: 032 out of 100\n",
      "Path: 033 out of 100\n",
      "Path: 034 out of 100\n",
      "Path: 035 out of 100\n",
      "Path: 036 out of 100\n",
      "Path: 037 out of 100\n",
      "Path: 038 out of 100\n",
      "Path: 039 out of 100\n",
      "Path: 040 out of 100\n",
      "Path: 041 out of 100\n",
      "Path: 042 out of 100\n",
      "Path: 043 out of 100\n",
      "Path: 044 out of 100\n",
      "Path: 045 out of 100\n",
      "Path: 046 out of 100\n",
      "Path: 047 out of 100\n",
      "Path: 048 out of 100\n",
      "Path: 049 out of 100\n",
      "Path: 050 out of 100\n",
      "Path: 051 out of 100\n",
      "Path: 052 out of 100\n",
      "Path: 053 out of 100\n",
      "Path: 054 out of 100\n",
      "Path: 055 out of 100\n",
      "Path: 056 out of 100\n",
      "Path: 057 out of 100\n",
      "Path: 058 out of 100\n",
      "Path: 059 out of 100\n",
      "Path: 060 out of 100\n",
      "Path: 061 out of 100\n",
      "Path: 062 out of 100\n",
      "Path: 063 out of 100\n",
      "Path: 064 out of 100\n",
      "Path: 065 out of 100\n",
      "Path: 066 out of 100\n",
      "Path: 067 out of 100\n",
      "Path: 068 out of 100\n",
      "Path: 069 out of 100\n",
      "Path: 070 out of 100\n",
      "Path: 071 out of 100\n",
      "Path: 072 out of 100\n",
      "Path: 073 out of 100\n",
      "Path: 074 out of 100\n",
      "Path: 075 out of 100\n",
      "Path: 076 out of 100\n",
      "Path: 077 out of 100\n",
      "Path: 078 out of 100\n",
      "Path: 079 out of 100\n",
      "Path: 080 out of 100\n",
      "Path: 081 out of 100\n",
      "Path: 082 out of 100\n",
      "Path: 083 out of 100\n",
      "Path: 084 out of 100\n",
      "Path: 085 out of 100\n",
      "Path: 086 out of 100\n",
      "Path: 087 out of 100\n",
      "Path: 088 out of 100\n",
      "Path: 089 out of 100\n",
      "Path: 090 out of 100\n",
      "Path: 091 out of 100\n",
      "Path: 092 out of 100\n",
      "Path: 093 out of 100\n",
      "Path: 094 out of 100\n",
      "Path: 095 out of 100\n",
      "Path: 096 out of 100\n",
      "Path: 097 out of 100\n",
      "Path: 098 out of 100\n",
      "Path: 099 out of 100\n",
      "Path: 000 out of 100\n",
      "Path: 001 out of 100\n",
      "Path: 002 out of 100\n",
      "Path: 003 out of 100\n",
      "Path: 004 out of 100\n",
      "Path: 005 out of 100\n",
      "Path: 006 out of 100\n",
      "Path: 007 out of 100\n",
      "Path: 008 out of 100\n",
      "Path: 009 out of 100\n",
      "Path: 010 out of 100\n",
      "Path: 011 out of 100\n",
      "Path: 012 out of 100\n",
      "Path: 013 out of 100\n",
      "Path: 014 out of 100\n",
      "Path: 015 out of 100\n",
      "Path: 016 out of 100\n",
      "Path: 017 out of 100\n",
      "Path: 018 out of 100\n",
      "Path: 019 out of 100\n",
      "Path: 020 out of 100\n",
      "Path: 021 out of 100\n",
      "Path: 022 out of 100\n",
      "Path: 023 out of 100\n",
      "Path: 024 out of 100\n",
      "Path: 025 out of 100\n",
      "Path: 026 out of 100\n",
      "Path: 027 out of 100\n",
      "Path: 028 out of 100\n",
      "Path: 029 out of 100\n",
      "Path: 030 out of 100\n",
      "Path: 031 out of 100\n",
      "Path: 032 out of 100\n",
      "Path: 033 out of 100\n",
      "Path: 034 out of 100\n",
      "Path: 035 out of 100\n",
      "Path: 036 out of 100\n",
      "Path: 037 out of 100\n",
      "Path: 038 out of 100\n",
      "Path: 039 out of 100\n",
      "Path: 040 out of 100\n",
      "Path: 041 out of 100\n",
      "Path: 042 out of 100\n",
      "Path: 043 out of 100\n",
      "Path: 044 out of 100\n",
      "Path: 045 out of 100\n",
      "Path: 046 out of 100\n",
      "Path: 047 out of 100\n",
      "Path: 048 out of 100\n",
      "Path: 049 out of 100\n",
      "Path: 050 out of 100\n",
      "Path: 051 out of 100\n",
      "Path: 052 out of 100\n",
      "Path: 053 out of 100\n",
      "Path: 054 out of 100\n",
      "Path: 055 out of 100\n",
      "Path: 056 out of 100\n",
      "Path: 057 out of 100\n",
      "Path: 058 out of 100\n",
      "Path: 059 out of 100\n",
      "Path: 060 out of 100\n",
      "Path: 061 out of 100\n",
      "Path: 062 out of 100\n",
      "Path: 063 out of 100\n",
      "Path: 064 out of 100\n",
      "Path: 065 out of 100\n",
      "Path: 066 out of 100\n",
      "Path: 067 out of 100\n",
      "Path: 068 out of 100\n",
      "Path: 069 out of 100\n",
      "Path: 070 out of 100\n",
      "Path: 071 out of 100\n",
      "Path: 072 out of 100\n",
      "Path: 073 out of 100\n",
      "Path: 074 out of 100\n",
      "Path: 075 out of 100\n",
      "Path: 076 out of 100\n",
      "Path: 077 out of 100\n",
      "Path: 078 out of 100\n",
      "Path: 079 out of 100\n",
      "Path: 080 out of 100\n",
      "Path: 081 out of 100\n",
      "Path: 082 out of 100\n",
      "Path: 083 out of 100\n",
      "Path: 084 out of 100\n",
      "Path: 085 out of 100\n",
      "Path: 086 out of 100\n",
      "Path: 087 out of 100\n",
      "Path: 088 out of 100\n",
      "Path: 089 out of 100\n",
      "Path: 090 out of 100\n",
      "Path: 091 out of 100\n",
      "Path: 092 out of 100\n",
      "Path: 093 out of 100\n",
      "Path: 094 out of 100\n",
      "Path: 095 out of 100\n",
      "Path: 096 out of 100\n",
      "Path: 097 out of 100\n",
      "Path: 098 out of 100\n",
      "Path: 099 out of 100\n"
     ]
    },
    {
     "name": "stderr",
     "output_type": "stream",
     "text": [
      "[Parallel(n_jobs=1)]: Using backend SequentialBackend with 1 concurrent workers.\n",
      "[Parallel(n_jobs=1)]: Done   1 out of   1 | elapsed:    0.0s remaining:    0.0s\n",
      "[Parallel(n_jobs=1)]: Done   5 out of   5 | elapsed:    0.0s finished\n"
     ]
    },
    {
     "data": {
      "text/html": [
       "<style>#sk-container-id-1 {color: black;background-color: white;}#sk-container-id-1 pre{padding: 0;}#sk-container-id-1 div.sk-toggleable {background-color: white;}#sk-container-id-1 label.sk-toggleable__label {cursor: pointer;display: block;width: 100%;margin-bottom: 0;padding: 0.3em;box-sizing: border-box;text-align: center;}#sk-container-id-1 label.sk-toggleable__label-arrow:before {content: \"▸\";float: left;margin-right: 0.25em;color: #696969;}#sk-container-id-1 label.sk-toggleable__label-arrow:hover:before {color: black;}#sk-container-id-1 div.sk-estimator:hover label.sk-toggleable__label-arrow:before {color: black;}#sk-container-id-1 div.sk-toggleable__content {max-height: 0;max-width: 0;overflow: hidden;text-align: left;background-color: #f0f8ff;}#sk-container-id-1 div.sk-toggleable__content pre {margin: 0.2em;color: black;border-radius: 0.25em;background-color: #f0f8ff;}#sk-container-id-1 input.sk-toggleable__control:checked~div.sk-toggleable__content {max-height: 200px;max-width: 100%;overflow: auto;}#sk-container-id-1 input.sk-toggleable__control:checked~label.sk-toggleable__label-arrow:before {content: \"▾\";}#sk-container-id-1 div.sk-estimator input.sk-toggleable__control:checked~label.sk-toggleable__label {background-color: #d4ebff;}#sk-container-id-1 div.sk-label input.sk-toggleable__control:checked~label.sk-toggleable__label {background-color: #d4ebff;}#sk-container-id-1 input.sk-hidden--visually {border: 0;clip: rect(1px 1px 1px 1px);clip: rect(1px, 1px, 1px, 1px);height: 1px;margin: -1px;overflow: hidden;padding: 0;position: absolute;width: 1px;}#sk-container-id-1 div.sk-estimator {font-family: monospace;background-color: #f0f8ff;border: 1px dotted black;border-radius: 0.25em;box-sizing: border-box;margin-bottom: 0.5em;}#sk-container-id-1 div.sk-estimator:hover {background-color: #d4ebff;}#sk-container-id-1 div.sk-parallel-item::after {content: \"\";width: 100%;border-bottom: 1px solid gray;flex-grow: 1;}#sk-container-id-1 div.sk-label:hover label.sk-toggleable__label {background-color: #d4ebff;}#sk-container-id-1 div.sk-serial::before {content: \"\";position: absolute;border-left: 1px solid gray;box-sizing: border-box;top: 0;bottom: 0;left: 50%;z-index: 0;}#sk-container-id-1 div.sk-serial {display: flex;flex-direction: column;align-items: center;background-color: white;padding-right: 0.2em;padding-left: 0.2em;position: relative;}#sk-container-id-1 div.sk-item {position: relative;z-index: 1;}#sk-container-id-1 div.sk-parallel {display: flex;align-items: stretch;justify-content: center;background-color: white;position: relative;}#sk-container-id-1 div.sk-item::before, #sk-container-id-1 div.sk-parallel-item::before {content: \"\";position: absolute;border-left: 1px solid gray;box-sizing: border-box;top: 0;bottom: 0;left: 50%;z-index: -1;}#sk-container-id-1 div.sk-parallel-item {display: flex;flex-direction: column;z-index: 1;position: relative;background-color: white;}#sk-container-id-1 div.sk-parallel-item:first-child::after {align-self: flex-end;width: 50%;}#sk-container-id-1 div.sk-parallel-item:last-child::after {align-self: flex-start;width: 50%;}#sk-container-id-1 div.sk-parallel-item:only-child::after {width: 0;}#sk-container-id-1 div.sk-dashed-wrapped {border: 1px dashed gray;margin: 0 0.4em 0.5em 0.4em;box-sizing: border-box;padding-bottom: 0.4em;background-color: white;}#sk-container-id-1 div.sk-label label {font-family: monospace;font-weight: bold;display: inline-block;line-height: 1.2em;}#sk-container-id-1 div.sk-label-container {text-align: center;}#sk-container-id-1 div.sk-container {/* jupyter's `normalize.less` sets `[hidden] { display: none; }` but bootstrap.min.css set `[hidden] { display: none !important; }` so we also need the `!important` here to be able to override the default hidden behavior on the sphinx rendered scikit-learn.org. See: https://github.com/scikit-learn/scikit-learn/issues/21755 */display: inline-block !important;position: relative;}#sk-container-id-1 div.sk-text-repr-fallback {display: none;}</style><div id=\"sk-container-id-1\" class=\"sk-top-container\"><div class=\"sk-text-repr-fallback\"><pre>LassoCV(alphas=array([1.00000000e+00, 1.61414141e+01, 3.12828283e+01, 4.64242424e+01,\n",
       "       6.15656566e+01, 7.67070707e+01, 9.18484848e+01, 1.06989899e+02,\n",
       "       1.22131313e+02, 1.37272727e+02, 1.52414141e+02, 1.67555556e+02,\n",
       "       1.82696970e+02, 1.97838384e+02, 2.12979798e+02, 2.28121212e+02,\n",
       "       2.43262626e+02, 2.58404040e+02, 2.73545455e+02, 2.88686869e+02,\n",
       "       3.03828283e+02, 3.18969697e+0...\n",
       "       1.15174747e+03, 1.16688889e+03, 1.18203030e+03, 1.19717172e+03,\n",
       "       1.21231313e+03, 1.22745455e+03, 1.24259596e+03, 1.25773737e+03,\n",
       "       1.27287879e+03, 1.28802020e+03, 1.30316162e+03, 1.31830303e+03,\n",
       "       1.33344444e+03, 1.34858586e+03, 1.36372727e+03, 1.37886869e+03,\n",
       "       1.39401010e+03, 1.40915152e+03, 1.42429293e+03, 1.43943434e+03,\n",
       "       1.45457576e+03, 1.46971717e+03, 1.48485859e+03, 1.50000000e+03]),\n",
       "        cv=5, max_iter=10000, random_state=0, verbose=2)</pre><b>In a Jupyter environment, please rerun this cell to show the HTML representation or trust the notebook. <br />On GitHub, the HTML representation is unable to render, please try loading this page with nbviewer.org.</b></div><div class=\"sk-container\" hidden><div class=\"sk-item\"><div class=\"sk-estimator sk-toggleable\"><input class=\"sk-toggleable__control sk-hidden--visually\" id=\"sk-estimator-id-1\" type=\"checkbox\" checked><label for=\"sk-estimator-id-1\" class=\"sk-toggleable__label sk-toggleable__label-arrow\">LassoCV</label><div class=\"sk-toggleable__content\"><pre>LassoCV(alphas=array([1.00000000e+00, 1.61414141e+01, 3.12828283e+01, 4.64242424e+01,\n",
       "       6.15656566e+01, 7.67070707e+01, 9.18484848e+01, 1.06989899e+02,\n",
       "       1.22131313e+02, 1.37272727e+02, 1.52414141e+02, 1.67555556e+02,\n",
       "       1.82696970e+02, 1.97838384e+02, 2.12979798e+02, 2.28121212e+02,\n",
       "       2.43262626e+02, 2.58404040e+02, 2.73545455e+02, 2.88686869e+02,\n",
       "       3.03828283e+02, 3.18969697e+0...\n",
       "       1.15174747e+03, 1.16688889e+03, 1.18203030e+03, 1.19717172e+03,\n",
       "       1.21231313e+03, 1.22745455e+03, 1.24259596e+03, 1.25773737e+03,\n",
       "       1.27287879e+03, 1.28802020e+03, 1.30316162e+03, 1.31830303e+03,\n",
       "       1.33344444e+03, 1.34858586e+03, 1.36372727e+03, 1.37886869e+03,\n",
       "       1.39401010e+03, 1.40915152e+03, 1.42429293e+03, 1.43943434e+03,\n",
       "       1.45457576e+03, 1.46971717e+03, 1.48485859e+03, 1.50000000e+03]),\n",
       "        cv=5, max_iter=10000, random_state=0, verbose=2)</pre></div></div></div></div></div>"
      ],
      "text/plain": [
       "LassoCV(alphas=array([1.00000000e+00, 1.61414141e+01, 3.12828283e+01, 4.64242424e+01,\n",
       "       6.15656566e+01, 7.67070707e+01, 9.18484848e+01, 1.06989899e+02,\n",
       "       1.22131313e+02, 1.37272727e+02, 1.52414141e+02, 1.67555556e+02,\n",
       "       1.82696970e+02, 1.97838384e+02, 2.12979798e+02, 2.28121212e+02,\n",
       "       2.43262626e+02, 2.58404040e+02, 2.73545455e+02, 2.88686869e+02,\n",
       "       3.03828283e+02, 3.18969697e+0...\n",
       "       1.15174747e+03, 1.16688889e+03, 1.18203030e+03, 1.19717172e+03,\n",
       "       1.21231313e+03, 1.22745455e+03, 1.24259596e+03, 1.25773737e+03,\n",
       "       1.27287879e+03, 1.28802020e+03, 1.30316162e+03, 1.31830303e+03,\n",
       "       1.33344444e+03, 1.34858586e+03, 1.36372727e+03, 1.37886869e+03,\n",
       "       1.39401010e+03, 1.40915152e+03, 1.42429293e+03, 1.43943434e+03,\n",
       "       1.45457576e+03, 1.46971717e+03, 1.48485859e+03, 1.50000000e+03]),\n",
       "        cv=5, max_iter=10000, random_state=0, verbose=2)"
      ]
     },
     "execution_count": 77,
     "metadata": {},
     "output_type": "execute_result"
    }
   ],
   "source": [
    "modelLasso = LassoCV(cv=5, alphas=np.linspace(1,1500,100), random_state=0, max_iter=10000, verbose = 2)\n",
    "modelLasso.fit(Con_In_dtn[['Income', 'Money']], Con_In_dtn['Consumption'])"
   ]
  },
  {
   "cell_type": "code",
   "execution_count": 78,
   "id": "49007f7b",
   "metadata": {},
   "outputs": [
    {
     "name": "stdout",
     "output_type": "stream",
     "text": [
      "16.141414141414142\n",
      "0.9977979499060738\n"
     ]
    }
   ],
   "source": [
    "print(modelLasso.alpha_)\n",
    "print(modelLasso.score(Con_In_dtn[['Income', 'Money']], Con_In_dtn['Consumption']))"
   ]
  },
  {
   "cell_type": "code",
   "execution_count": 79,
   "id": "8da68a25",
   "metadata": {},
   "outputs": [
    {
     "name": "stdout",
     "output_type": "stream",
     "text": [
      "0.9977979499060738\n"
     ]
    },
    {
     "data": {
      "text/plain": [
       "array([ 90281.12302141, -12226.58298523])"
      ]
     },
     "execution_count": 79,
     "metadata": {},
     "output_type": "execute_result"
    }
   ],
   "source": [
    "regLasso = Lasso(alpha=modelLasso.alpha_)\n",
    "regLassores = regLasso.fit(Con_In_dtn[['Income', 'Money']], Con_In_dtn['Consumption'])\n",
    "\n",
    "print(regLasso.score(Con_In_dtn[['Income', 'Money']], Con_In_dtn['Consumption']))\n",
    "regLasso.coef_"
   ]
  },
  {
   "cell_type": "code",
   "execution_count": 80,
   "id": "03c78119",
   "metadata": {},
   "outputs": [
    {
     "name": "stdout",
     "output_type": "stream",
     "text": [
      "0.994322858411913\n"
     ]
    },
    {
     "data": {
      "text/plain": [
       "array([77912.65468544,    -0.        ])"
      ]
     },
     "execution_count": 80,
     "metadata": {},
     "output_type": "execute_result"
    }
   ],
   "source": [
    "regLasso = Lasso(alpha=1000)\n",
    "regLassores = regLasso.fit(Con_In_dtn[['Income', 'Money']], Con_In_dtn['Consumption'])\n",
    "\n",
    "print(regLasso.score(Con_In_dtn[['Income', 'Money']], Con_In_dtn['Consumption']))\n",
    "regLasso.coef_"
   ]
  },
  {
   "attachments": {},
   "cell_type": "markdown",
   "id": "5f61b06d",
   "metadata": {},
   "source": [
    "### Cross Validation Ridge"
   ]
  },
  {
   "cell_type": "code",
   "execution_count": 81,
   "id": "323ca790",
   "metadata": {},
   "outputs": [
    {
     "data": {
      "text/html": [
       "<style>#sk-container-id-2 {color: black;background-color: white;}#sk-container-id-2 pre{padding: 0;}#sk-container-id-2 div.sk-toggleable {background-color: white;}#sk-container-id-2 label.sk-toggleable__label {cursor: pointer;display: block;width: 100%;margin-bottom: 0;padding: 0.3em;box-sizing: border-box;text-align: center;}#sk-container-id-2 label.sk-toggleable__label-arrow:before {content: \"▸\";float: left;margin-right: 0.25em;color: #696969;}#sk-container-id-2 label.sk-toggleable__label-arrow:hover:before {color: black;}#sk-container-id-2 div.sk-estimator:hover label.sk-toggleable__label-arrow:before {color: black;}#sk-container-id-2 div.sk-toggleable__content {max-height: 0;max-width: 0;overflow: hidden;text-align: left;background-color: #f0f8ff;}#sk-container-id-2 div.sk-toggleable__content pre {margin: 0.2em;color: black;border-radius: 0.25em;background-color: #f0f8ff;}#sk-container-id-2 input.sk-toggleable__control:checked~div.sk-toggleable__content {max-height: 200px;max-width: 100%;overflow: auto;}#sk-container-id-2 input.sk-toggleable__control:checked~label.sk-toggleable__label-arrow:before {content: \"▾\";}#sk-container-id-2 div.sk-estimator input.sk-toggleable__control:checked~label.sk-toggleable__label {background-color: #d4ebff;}#sk-container-id-2 div.sk-label input.sk-toggleable__control:checked~label.sk-toggleable__label {background-color: #d4ebff;}#sk-container-id-2 input.sk-hidden--visually {border: 0;clip: rect(1px 1px 1px 1px);clip: rect(1px, 1px, 1px, 1px);height: 1px;margin: -1px;overflow: hidden;padding: 0;position: absolute;width: 1px;}#sk-container-id-2 div.sk-estimator {font-family: monospace;background-color: #f0f8ff;border: 1px dotted black;border-radius: 0.25em;box-sizing: border-box;margin-bottom: 0.5em;}#sk-container-id-2 div.sk-estimator:hover {background-color: #d4ebff;}#sk-container-id-2 div.sk-parallel-item::after {content: \"\";width: 100%;border-bottom: 1px solid gray;flex-grow: 1;}#sk-container-id-2 div.sk-label:hover label.sk-toggleable__label {background-color: #d4ebff;}#sk-container-id-2 div.sk-serial::before {content: \"\";position: absolute;border-left: 1px solid gray;box-sizing: border-box;top: 0;bottom: 0;left: 50%;z-index: 0;}#sk-container-id-2 div.sk-serial {display: flex;flex-direction: column;align-items: center;background-color: white;padding-right: 0.2em;padding-left: 0.2em;position: relative;}#sk-container-id-2 div.sk-item {position: relative;z-index: 1;}#sk-container-id-2 div.sk-parallel {display: flex;align-items: stretch;justify-content: center;background-color: white;position: relative;}#sk-container-id-2 div.sk-item::before, #sk-container-id-2 div.sk-parallel-item::before {content: \"\";position: absolute;border-left: 1px solid gray;box-sizing: border-box;top: 0;bottom: 0;left: 50%;z-index: -1;}#sk-container-id-2 div.sk-parallel-item {display: flex;flex-direction: column;z-index: 1;position: relative;background-color: white;}#sk-container-id-2 div.sk-parallel-item:first-child::after {align-self: flex-end;width: 50%;}#sk-container-id-2 div.sk-parallel-item:last-child::after {align-self: flex-start;width: 50%;}#sk-container-id-2 div.sk-parallel-item:only-child::after {width: 0;}#sk-container-id-2 div.sk-dashed-wrapped {border: 1px dashed gray;margin: 0 0.4em 0.5em 0.4em;box-sizing: border-box;padding-bottom: 0.4em;background-color: white;}#sk-container-id-2 div.sk-label label {font-family: monospace;font-weight: bold;display: inline-block;line-height: 1.2em;}#sk-container-id-2 div.sk-label-container {text-align: center;}#sk-container-id-2 div.sk-container {/* jupyter's `normalize.less` sets `[hidden] { display: none; }` but bootstrap.min.css set `[hidden] { display: none !important; }` so we also need the `!important` here to be able to override the default hidden behavior on the sphinx rendered scikit-learn.org. See: https://github.com/scikit-learn/scikit-learn/issues/21755 */display: inline-block !important;position: relative;}#sk-container-id-2 div.sk-text-repr-fallback {display: none;}</style><div id=\"sk-container-id-2\" class=\"sk-top-container\"><div class=\"sk-text-repr-fallback\"><pre>RidgeCV(alphas=array([1.00000000e+00, 1.61414141e+01, 3.12828283e+01, 4.64242424e+01,\n",
       "       6.15656566e+01, 7.67070707e+01, 9.18484848e+01, 1.06989899e+02,\n",
       "       1.22131313e+02, 1.37272727e+02, 1.52414141e+02, 1.67555556e+02,\n",
       "       1.82696970e+02, 1.97838384e+02, 2.12979798e+02, 2.28121212e+02,\n",
       "       2.43262626e+02, 2.58404040e+02, 2.73545455e+02, 2.88686869e+02,\n",
       "       3.03828283e+02, 3.18969697e+0...\n",
       "       1.15174747e+03, 1.16688889e+03, 1.18203030e+03, 1.19717172e+03,\n",
       "       1.21231313e+03, 1.22745455e+03, 1.24259596e+03, 1.25773737e+03,\n",
       "       1.27287879e+03, 1.28802020e+03, 1.30316162e+03, 1.31830303e+03,\n",
       "       1.33344444e+03, 1.34858586e+03, 1.36372727e+03, 1.37886869e+03,\n",
       "       1.39401010e+03, 1.40915152e+03, 1.42429293e+03, 1.43943434e+03,\n",
       "       1.45457576e+03, 1.46971717e+03, 1.48485859e+03, 1.50000000e+03]),\n",
       "        cv=5)</pre><b>In a Jupyter environment, please rerun this cell to show the HTML representation or trust the notebook. <br />On GitHub, the HTML representation is unable to render, please try loading this page with nbviewer.org.</b></div><div class=\"sk-container\" hidden><div class=\"sk-item\"><div class=\"sk-estimator sk-toggleable\"><input class=\"sk-toggleable__control sk-hidden--visually\" id=\"sk-estimator-id-2\" type=\"checkbox\" checked><label for=\"sk-estimator-id-2\" class=\"sk-toggleable__label sk-toggleable__label-arrow\">RidgeCV</label><div class=\"sk-toggleable__content\"><pre>RidgeCV(alphas=array([1.00000000e+00, 1.61414141e+01, 3.12828283e+01, 4.64242424e+01,\n",
       "       6.15656566e+01, 7.67070707e+01, 9.18484848e+01, 1.06989899e+02,\n",
       "       1.22131313e+02, 1.37272727e+02, 1.52414141e+02, 1.67555556e+02,\n",
       "       1.82696970e+02, 1.97838384e+02, 2.12979798e+02, 2.28121212e+02,\n",
       "       2.43262626e+02, 2.58404040e+02, 2.73545455e+02, 2.88686869e+02,\n",
       "       3.03828283e+02, 3.18969697e+0...\n",
       "       1.15174747e+03, 1.16688889e+03, 1.18203030e+03, 1.19717172e+03,\n",
       "       1.21231313e+03, 1.22745455e+03, 1.24259596e+03, 1.25773737e+03,\n",
       "       1.27287879e+03, 1.28802020e+03, 1.30316162e+03, 1.31830303e+03,\n",
       "       1.33344444e+03, 1.34858586e+03, 1.36372727e+03, 1.37886869e+03,\n",
       "       1.39401010e+03, 1.40915152e+03, 1.42429293e+03, 1.43943434e+03,\n",
       "       1.45457576e+03, 1.46971717e+03, 1.48485859e+03, 1.50000000e+03]),\n",
       "        cv=5)</pre></div></div></div></div></div>"
      ],
      "text/plain": [
       "RidgeCV(alphas=array([1.00000000e+00, 1.61414141e+01, 3.12828283e+01, 4.64242424e+01,\n",
       "       6.15656566e+01, 7.67070707e+01, 9.18484848e+01, 1.06989899e+02,\n",
       "       1.22131313e+02, 1.37272727e+02, 1.52414141e+02, 1.67555556e+02,\n",
       "       1.82696970e+02, 1.97838384e+02, 2.12979798e+02, 2.28121212e+02,\n",
       "       2.43262626e+02, 2.58404040e+02, 2.73545455e+02, 2.88686869e+02,\n",
       "       3.03828283e+02, 3.18969697e+0...\n",
       "       1.15174747e+03, 1.16688889e+03, 1.18203030e+03, 1.19717172e+03,\n",
       "       1.21231313e+03, 1.22745455e+03, 1.24259596e+03, 1.25773737e+03,\n",
       "       1.27287879e+03, 1.28802020e+03, 1.30316162e+03, 1.31830303e+03,\n",
       "       1.33344444e+03, 1.34858586e+03, 1.36372727e+03, 1.37886869e+03,\n",
       "       1.39401010e+03, 1.40915152e+03, 1.42429293e+03, 1.43943434e+03,\n",
       "       1.45457576e+03, 1.46971717e+03, 1.48485859e+03, 1.50000000e+03]),\n",
       "        cv=5)"
      ]
     },
     "execution_count": 81,
     "metadata": {},
     "output_type": "execute_result"
    }
   ],
   "source": [
    "modelRidge = RidgeCV(cv=5, alphas=np.linspace(1,1500,100))\n",
    "modelRidge.fit(Con_In_dtn[['Income', 'Money']], Con_In_dtn['Consumption'])"
   ]
  },
  {
   "cell_type": "code",
   "execution_count": 82,
   "id": "9bb0b518",
   "metadata": {},
   "outputs": [
    {
     "name": "stdout",
     "output_type": "stream",
     "text": [
      "1.0\n",
      "0.9975448555433803\n"
     ]
    }
   ],
   "source": [
    "print(modelRidge.alpha_)\n",
    "print(modelRidge.score(Con_In_dtn[['Income', 'Money']], Con_In_dtn['Consumption']))"
   ]
  },
  {
   "cell_type": "code",
   "execution_count": 83,
   "id": "87e2f5c6",
   "metadata": {},
   "outputs": [
    {
     "name": "stdout",
     "output_type": "stream",
     "text": [
      "0.9975448555433803\n"
     ]
    },
    {
     "data": {
      "text/plain": [
       "array([87097.01229646, -9233.27899578])"
      ]
     },
     "execution_count": 83,
     "metadata": {},
     "output_type": "execute_result"
    }
   ],
   "source": [
    "regRidge = Ridge(alpha=modelRidge.alpha_)\n",
    "regRidge.fit(Con_In_dtn[['Income', 'Money']], Con_In_dtn['Consumption'])\n",
    "\n",
    "print(regRidge.score(Con_In_dtn[['Income', 'Money']], Con_In_dtn['Consumption']))\n",
    "regRidge.coef_"
   ]
  },
  {
   "cell_type": "code",
   "execution_count": 84,
   "id": "bd7dba77",
   "metadata": {},
   "outputs": [
    {
     "name": "stdout",
     "output_type": "stream",
     "text": [
      "0.4629432546635076\n"
     ]
    },
    {
     "data": {
      "text/plain": [
       "array([11911.55382809, 10458.04629056])"
      ]
     },
     "execution_count": 84,
     "metadata": {},
     "output_type": "execute_result"
    }
   ],
   "source": [
    "regRidge = Ridge(alpha=1000)\n",
    "regRidge.fit(Con_In_dtn[['Income', 'Money']], Con_In_dtn['Consumption'])\n",
    "\n",
    "print(regRidge.score(Con_In_dtn[['Income', 'Money']], Con_In_dtn['Consumption']))\n",
    "regRidge.coef_"
   ]
  },
  {
   "cell_type": "code",
   "execution_count": null,
   "id": "87457af5",
   "metadata": {},
   "outputs": [],
   "source": []
  }
 ],
 "metadata": {
  "kernelspec": {
   "display_name": "Python 3.9.13 ('ml-dev')",
   "language": "python",
   "name": "python3"
  },
  "language_info": {
   "codemirror_mode": {
    "name": "ipython",
    "version": 3
   },
   "file_extension": ".py",
   "mimetype": "text/x-python",
   "name": "python",
   "nbconvert_exporter": "python",
   "pygments_lexer": "ipython3",
   "version": "3.10.11"
  },
  "vscode": {
   "interpreter": {
    "hash": "23339f66381d1156098faf05d68aacba7d7256765e8a3024d8a9123681b71f75"
   }
  }
 },
 "nbformat": 4,
 "nbformat_minor": 5
}
