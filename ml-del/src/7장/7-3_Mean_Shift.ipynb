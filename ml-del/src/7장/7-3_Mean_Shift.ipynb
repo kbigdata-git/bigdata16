{
 "cells": [
  {
   "cell_type": "markdown",
   "metadata": {},
   "source": [
    "### Mean Shift 개요"
   ]
  },
  {
   "attachments": {},
   "cell_type": "markdown",
   "metadata": {},
   "source": [
    "### Mean Shift: 비지도 학습 알고리즘\n",
    "1. Mean Shift란?\n",
    "Mean Shift는 비지도 학습의 한 종류로서, 주로 클러스터링에 사용되는 알고리즘입니다. 이 알고리즘은 데이터 포인트들이 높은 밀도를 가진 공간으로 이동하도록 하는 'shift' 과정을 반복적으로 수행함으로써 작동합니다.\n",
    "\n",
    "2. Mean Shift의 작동 방식\n",
    "Mean Shift 알고리즘의 주요 단계는 다음과 같습니다:\n",
    "\n",
    "- Mean Shift 벡터 계산: 각 데이터 포인트에 대해, 주변의 데이터 포인트들을 고려하여 'Mean Shift' 벡터를 계산합니다. 이 벡터는 데이터 포인트를 더 높은 밀도를 가진 방향으로 이동시킵니다.\n",
    "\n",
    "- 데이터 포인트 이동: 모든 데이터 포인트에 대해 이 Mean Shift 벡터를 계산하고, 데이터 포인트를 이동시킵니다.\n",
    "\n",
    "- 수렴 확인: 이 과정을 수렴할 때까지 반복합니다. 수렴이란, 데이터 포인트들이 더 이상 움직이지 않거나, 움직임이 특정 임계값 이하로 떨어질 때를 말합니다.\n",
    "\n",
    "3. Mean Shift의 장점\n",
    "Mean Shift의 주요 장점 중 하나는 클러스터의 수를 미리 지정할 필요가 없다는 것입니다. 이는 K-means와 같은 다른 클러스터링 알고리즘과 대조적입니다.\n",
    "\n",
    "4. Mean Shift의 단점\n",
    "그러나 반면에, Mean Shift는 'bandwidth'라는 하이퍼파라미터를 설정해야 하는데, 이는 알고리즘의 성능에 큰 영향을 미칩니다. Bandwidth는 알고리즘이 각 데이터 포인트 주변의 얼마나 많은 이웃을 고려할 것인지를 결정합니다."
   ]
  },
  {
   "attachments": {},
   "cell_type": "markdown",
   "metadata": {},
   "source": [
    "가우시안 Radial Basis Function (RBF) 커널은 머신러닝에서 널리 사용되는 커널 중 하나입니다. 이 커널은 두 벡터 간의 유사성을 측정하는 데 사용되며, 두 벡터 간의 유클리드 거리에 기반한 가우시안 함수를 사용합니다.\n",
    "\n",
    "가우시안 RBF 커널은 다음과 같이 정의됩니다:\n",
    "\n",
    "\n",
    "K(x,y)=exp(−γ∣∣x−y∣∣2)\n",
    "\n",
    "∣∣x−y∣∣는 두 벡터 간의 유클리드 거리를 나타냅니다. \n",
    "\n",
    "γ는 커널의 폭을 결정하는 하이퍼파라미터로, 이 값이 크면 커널의 폭이 좁아져 각 데이터 포인트의 영향 범위가 줄어들고, 이 값이 작으면 커널의 폭이 넓어져 각 데이터 포인트의 영향 범위가 커집니다.\n",
    "\n",
    "이 커널 함수는 두 벡터가 동일할 때 최대값 1을 가지며, 두 벡터가 멀어질수록 0에 가까워집니다. 따라서 가우시안 RBF 커널은 두 벡터의 유사성을 측정하는 데 사용할 수 있습니다."
   ]
  },
  {
   "cell_type": "code",
   "execution_count": null,
   "metadata": {},
   "outputs": [],
   "source": [
    "import numpy as np\n",
    "from sklearn.datasets import make_blobs\n",
    "from sklearn.cluster import MeanShift\n",
    "\n",
    "X, y = make_blobs(n_samples=200, n_features=2, centers=3, \n",
    "                  cluster_std=0.7, random_state=0)\n",
    "\n",
    "meanshift= MeanShift(bandwidth=0.8)\n",
    "cluster_labels = meanshift.fit_predict(X)\n",
    "print('cluster labels 유형:', np.unique(cluster_labels))"
   ]
  },
  {
   "cell_type": "code",
   "execution_count": null,
   "metadata": {},
   "outputs": [],
   "source": [
    "meanshift= MeanShift(bandwidth=1)\n",
    "cluster_labels = meanshift.fit_predict(X)\n",
    "print('cluster labels 유형:', np.unique(cluster_labels))"
   ]
  },
  {
   "cell_type": "code",
   "execution_count": null,
   "metadata": {},
   "outputs": [],
   "source": [
    "from sklearn.cluster import estimate_bandwidth\n",
    "\n",
    "bandwidth = estimate_bandwidth(X)\n",
    "print('bandwidth 값:', round(bandwidth,3))"
   ]
  },
  {
   "cell_type": "code",
   "execution_count": null,
   "metadata": {},
   "outputs": [],
   "source": [
    "import pandas as pd\n",
    "\n",
    "\n",
    "clusterDF = pd.DataFrame(data=X, columns=['ftr1', 'ftr2'])\n",
    "clusterDF['target'] = y\n",
    "\n",
    "# estimate_bandwidth()로 최적의 bandwidth 계산\n",
    "best_bandwidth = estimate_bandwidth(X)\n",
    "\n",
    "meanshift= MeanShift(bandwidth=best_bandwidth)\n",
    "cluster_labels = meanshift.fit_predict(X)\n",
    "print('cluster labels 유형:',np.unique(cluster_labels))    "
   ]
  },
  {
   "cell_type": "code",
   "execution_count": null,
   "metadata": {},
   "outputs": [],
   "source": [
    "import matplotlib.pyplot as plt\n",
    "%matplotlib inline\n",
    "\n",
    "clusterDF['meanshift_label']  = cluster_labels\n",
    "centers = meanshift.cluster_centers_\n",
    "unique_labels = np.unique(cluster_labels)\n",
    "markers=['o', 's', '^', 'x', '*']\n",
    "\n",
    "for label in unique_labels:\n",
    "    label_cluster = clusterDF[clusterDF['meanshift_label']==label]\n",
    "    center_x_y = centers[label]\n",
    "    # 군집별로 다른 마커로 산점도 적용\n",
    "    plt.scatter(x=label_cluster['ftr1'], y=label_cluster['ftr2'], edgecolor='k', marker=markers[label] )\n",
    "    \n",
    "    # 군집별 중심 표현\n",
    "    plt.scatter(x=center_x_y[0], y=center_x_y[1], s=200, color='gray', alpha=0.9, marker=markers[label])\n",
    "    plt.scatter(x=center_x_y[0], y=center_x_y[1], s=70, color='k', edgecolor='k', marker='$%d$' % label)\n",
    "    \n",
    "plt.show()"
   ]
  },
  {
   "cell_type": "code",
   "execution_count": null,
   "metadata": {},
   "outputs": [],
   "source": [
    "print(clusterDF.groupby('target')['meanshift_label'].value_counts())"
   ]
  },
  {
   "cell_type": "code",
   "execution_count": null,
   "metadata": {},
   "outputs": [],
   "source": []
  }
 ],
 "metadata": {
  "kernelspec": {
   "display_name": "data-dl-gpu",
   "language": "python",
   "name": "python3"
  },
  "language_info": {
   "codemirror_mode": {
    "name": "ipython",
    "version": 3
   },
   "file_extension": ".py",
   "mimetype": "text/x-python",
   "name": "python",
   "nbconvert_exporter": "python",
   "pygments_lexer": "ipython3",
   "version": "3.8.13 (default, Mar 28 2022, 06:59:08) [MSC v.1916 64 bit (AMD64)]"
  },
  "vscode": {
   "interpreter": {
    "hash": "05d3d3b9b3b01a2a837e16c04c702db8a5d6fca2fb8e5018aa5f03e631d62e87"
   }
  }
 },
 "nbformat": 4,
 "nbformat_minor": 2
}
