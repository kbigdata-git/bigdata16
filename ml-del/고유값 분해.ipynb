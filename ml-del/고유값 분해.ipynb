{
 "cells": [
  {
   "cell_type": "code",
   "execution_count": 1,
   "metadata": {},
   "outputs": [
    {
     "name": "stdout",
     "output_type": "stream",
     "text": [
      "고유값: [1.38196601 3.61803399]\n",
      "고유벡터:\n",
      "고유값 1.381966011250105 에 대응하는 고유벡터: [-0.85065081  0.52573111]\n",
      "고유값 3.618033988749895 에 대응하는 고유벡터: [-0.52573111 -0.85065081]\n"
     ]
    }
   ],
   "source": [
    "import numpy as np\n",
    "\n",
    "# 주어진 행렬 A 정의\n",
    "A = np.array([[2, 1],\n",
    "              [1, 3]])\n",
    "\n",
    "# 고유값과 고유벡터 계산\n",
    "eigenvalues, eigenvectors = np.linalg.eig(A)\n",
    "\n",
    "# 고유값 출력\n",
    "print(\"고유값:\", eigenvalues)\n",
    "\n",
    "# 고유벡터 출력\n",
    "print(\"고유벡터:\")\n",
    "for i in range(len(eigenvalues)):\n",
    "    print(\"고유값\", eigenvalues[i], \"에 대응하는 고유벡터:\", eigenvectors[:, i])\n"
   ]
  },
  {
   "cell_type": "code",
   "execution_count": 11,
   "metadata": {},
   "outputs": [
    {
     "data": {
      "text/plain": [
       "array([-0.85065081, -0.52573111])"
      ]
     },
     "execution_count": 11,
     "metadata": {},
     "output_type": "execute_result"
    }
   ],
   "source": [
    "eigenvectors[0].T"
   ]
  },
  {
   "cell_type": "code",
   "execution_count": 13,
   "metadata": {},
   "outputs": [
    {
     "name": "stdout",
     "output_type": "stream",
     "text": [
      "[[-1.1755705  -1.90211303]\n",
      " [ 0.72654253 -3.07768354]]\n"
     ]
    }
   ],
   "source": [
    "# for i,_ in enumerate(eigenvectors):\n",
    "print(np.dot(A,eigenvectors))"
   ]
  },
  {
   "attachments": {},
   "cell_type": "markdown",
   "metadata": {},
   "source": [
    "위 코드에서 np.linalg.eig(A) 함수를 사용하여 주어진 행렬 A의 고유값과 고유벡터를 계산한다.\n",
    "\n",
    "eigenvalues 변수에는 고유값들이 배열 형태로 저장되고, eigenvectors 변수에는 각 고유값에 대응하는 고유벡터들이 열 벡터로 저장\n",
    "\n",
    "계산된 고유값은 eigenvalues 변수로부터 얻을 수 있으며, 고유벡터는 eigenvectors 변수를 통해 확인할 수 있다. \n",
    "\n",
    "반복문을 통해 각 고유값에 대응하는 고유벡터를 출력할 수 있다.\n",
    "\n",
    "이 코드를 실행하면 주어진 행렬 A의 고유값과 고유벡터가 출력. \n",
    "\n",
    "고유값은 배열 형태로 출력되며, 고유벡터는 고유값에 대응하는 열 벡터로 출력"
   ]
  },
  {
   "cell_type": "code",
   "execution_count": 14,
   "metadata": {},
   "outputs": [
    {
     "name": "stdout",
     "output_type": "stream",
     "text": [
      "공분산 행렬:\n",
      "[[1. 1. 1.]\n",
      " [1. 1. 1.]\n",
      " [1. 1. 1.]]\n"
     ]
    }
   ],
   "source": [
    "import numpy as np\n",
    "\n",
    "# 주어진 데이터 (예시)\n",
    "data = np.array([[1, 2, 3],\n",
    "                 [4, 5, 6],\n",
    "                 [7, 8, 9]])\n",
    "\n",
    "# 데이터의 표준화 (예시: 열 방향으로 표준화)\n",
    "data_std = (data - np.mean(data, axis=0)) / np.std(data, axis=0, ddof=1)\n",
    "\n",
    "# 공분산 행렬 계산\n",
    "covariance_matrix = np.cov(data_std, rowvar=False)\n",
    "\n",
    "# 공분산 행렬 출력\n",
    "print(\"공분산 행렬:\")\n",
    "print(covariance_matrix)\n"
   ]
  },
  {
   "cell_type": "code",
   "execution_count": 15,
   "metadata": {},
   "outputs": [
    {
     "name": "stdout",
     "output_type": "stream",
     "text": [
      "공분산 행렬:\n",
      "     X    Y    Z\n",
      "X  1.0  1.0  1.0\n",
      "Y  1.0  1.0  1.0\n",
      "Z  1.0  1.0  1.0\n"
     ]
    }
   ],
   "source": [
    "import pandas as pd\n",
    "\n",
    "# 주어진 데이터프레임 생성 (예시)\n",
    "df = pd.DataFrame({'X': [1, 2, 3],\n",
    "                   'Y': [4, 5, 6],\n",
    "                   'Z': [7, 8, 9]})\n",
    "\n",
    "# 공분산 행렬 계산\n",
    "covariance_matrix = df.cov()\n",
    "\n",
    "# 공분산 행렬 출력\n",
    "print(\"공분산 행렬:\")\n",
    "print(covariance_matrix)"
   ]
  },
  {
   "cell_type": "code",
   "execution_count": 16,
   "metadata": {},
   "outputs": [
    {
     "name": "stdout",
     "output_type": "stream",
     "text": [
      "고유값: [-2.22044605e-16  3.00000000e+00  0.00000000e+00]\n",
      "고유벡터:\n",
      "고유값 -2.220446049250313e-16 에 대응하는 고유벡터:\n",
      "[-0.81649658  0.40824829  0.40824829]\n",
      "고유값 3.0 에 대응하는 고유벡터:\n",
      "[0.57735027 0.57735027 0.57735027]\n",
      "고유값 0.0 에 대응하는 고유벡터:\n",
      "[ 0.         -0.70710678  0.70710678]\n"
     ]
    }
   ],
   "source": [
    "import pandas as pd\n",
    "import numpy as np\n",
    "\n",
    "# 주어진 데이터프레임 생성 (예시)\n",
    "df = pd.DataFrame({'X': [1, 2, 3],\n",
    "                   'Y': [4, 5, 6],\n",
    "                   'Z': [7, 8, 9]})\n",
    "\n",
    "# 공분산 행렬 계산\n",
    "covariance_matrix = df.cov()\n",
    "\n",
    "# 공분산 행렬의 고유값과 고유벡터 계산\n",
    "eigenvalues, eigenvectors = np.linalg.eig(covariance_matrix)\n",
    "\n",
    "# 고유값 출력\n",
    "print(\"고유값:\", eigenvalues)\n",
    "\n",
    "# 고유벡터 출력\n",
    "print(\"고유벡터:\")\n",
    "for i in range(len(eigenvalues)):\n",
    "    print(\"고유값\", eigenvalues[i], \"에 대응하는 고유벡터:\")\n",
    "    print(eigenvectors[:, i])\n"
   ]
  },
  {
   "cell_type": "code",
   "execution_count": 17,
   "metadata": {},
   "outputs": [
    {
     "name": "stdout",
     "output_type": "stream",
     "text": [
      "행렬식: -2.0000000000000004\n"
     ]
    }
   ],
   "source": [
    "import numpy as np\n",
    "\n",
    "# 주어진 행렬 A 정의\n",
    "A = np.array([[1, 2],\n",
    "              [3, 4]])\n",
    "\n",
    "# 행렬식 계산\n",
    "det_A = np.linalg.det(A)\n",
    "\n",
    "# 행렬식 출력\n",
    "print(\"행렬식:\", det_A)\n"
   ]
  },
  {
   "cell_type": "code",
   "execution_count": 24,
   "metadata": {},
   "outputs": [
    {
     "data": {
      "image/png": "[encoded data removed]",
      "text/plain": [
       "<Figure size 432x288 with 1 Axes>"
      ]
     },
     "metadata": {
      "needs_background": "light"
     },
     "output_type": "display_data"
    }
   ],
   "source": [
    "import matplotlib.pyplot as plt\n",
    "import pandas as pd\n",
    "\n",
    "키 = [170,150,160,180,172]\n",
    "몸무게 = [70,45,55,60,80]\n",
    "plt.scatter(키, 몸무게)\n",
    "\n",
    "df = pd.DataFrame({\n",
    "    '키': 키\\\n",
    "    , '몸무게' : 몸무게\n",
    "})"
   ]
  },
  {
   "cell_type": "code",
   "execution_count": 25,
   "metadata": {},
   "outputs": [
    {
     "data": {
      "text/html": [
       "<div>\n",
       "<style scoped>\n",
       "    .dataframe tbody tr th:only-of-type {\n",
       "        vertical-align: middle;\n",
       "    }\n",
       "\n",
       "    .dataframe tbody tr th {\n",
       "        vertical-align: top;\n",
       "    }\n",
       "\n",
       "    .dataframe thead th {\n",
       "        text-align: right;\n",
       "    }\n",
       "</style>\n",
       "<table border=\"1\" class=\"dataframe\">\n",
       "  <thead>\n",
       "    <tr style=\"text-align: right;\">\n",
       "      <th></th>\n",
       "      <th>키</th>\n",
       "      <th>몸무게</th>\n",
       "    </tr>\n",
       "  </thead>\n",
       "  <tbody>\n",
       "    <tr>\n",
       "      <th>0</th>\n",
       "      <td>170</td>\n",
       "      <td>70</td>\n",
       "    </tr>\n",
       "    <tr>\n",
       "      <th>1</th>\n",
       "      <td>150</td>\n",
       "      <td>45</td>\n",
       "    </tr>\n",
       "    <tr>\n",
       "      <th>2</th>\n",
       "      <td>160</td>\n",
       "      <td>55</td>\n",
       "    </tr>\n",
       "    <tr>\n",
       "      <th>3</th>\n",
       "      <td>180</td>\n",
       "      <td>60</td>\n",
       "    </tr>\n",
       "    <tr>\n",
       "      <th>4</th>\n",
       "      <td>172</td>\n",
       "      <td>80</td>\n",
       "    </tr>\n",
       "  </tbody>\n",
       "</table>\n",
       "</div>"
      ],
      "text/plain": [
       "     키  몸무게\n",
       "0  170   70\n",
       "1  150   45\n",
       "2  160   55\n",
       "3  180   60\n",
       "4  172   80"
      ]
     },
     "execution_count": 25,
     "metadata": {},
     "output_type": "execute_result"
    }
   ],
   "source": [
    "df"
   ]
  },
  {
   "cell_type": "code",
   "execution_count": 26,
   "metadata": {},
   "outputs": [
    {
     "data": {
      "text/html": [
       "<div>\n",
       "<style scoped>\n",
       "    .dataframe tbody tr th:only-of-type {\n",
       "        vertical-align: middle;\n",
       "    }\n",
       "\n",
       "    .dataframe tbody tr th {\n",
       "        vertical-align: top;\n",
       "    }\n",
       "\n",
       "    .dataframe thead th {\n",
       "        text-align: right;\n",
       "    }\n",
       "</style>\n",
       "<table border=\"1\" class=\"dataframe\">\n",
       "  <thead>\n",
       "    <tr style=\"text-align: right;\">\n",
       "      <th></th>\n",
       "      <th>키</th>\n",
       "      <th>몸무게</th>\n",
       "    </tr>\n",
       "  </thead>\n",
       "  <tbody>\n",
       "    <tr>\n",
       "      <th>키</th>\n",
       "      <td>134.8</td>\n",
       "      <td>106.5</td>\n",
       "    </tr>\n",
       "    <tr>\n",
       "      <th>몸무게</th>\n",
       "      <td>106.5</td>\n",
       "      <td>182.5</td>\n",
       "    </tr>\n",
       "  </tbody>\n",
       "</table>\n",
       "</div>"
      ],
      "text/plain": [
       "         키    몸무게\n",
       "키    134.8  106.5\n",
       "몸무게  106.5  182.5"
      ]
     },
     "execution_count": 26,
     "metadata": {},
     "output_type": "execute_result"
    }
   ],
   "source": [
    "df.cov()"
   ]
  },
  {
   "cell_type": "code",
   "execution_count": 27,
   "metadata": {},
   "outputs": [
    {
     "data": {
      "text/plain": [
       "13.490737563232042"
      ]
     },
     "execution_count": 27,
     "metadata": {},
     "output_type": "execute_result"
    }
   ],
   "source": [
    "import numpy as np\n",
    "np.sqrt(182)"
   ]
  },
  {
   "cell_type": "code",
   "execution_count": null,
   "metadata": {},
   "outputs": [],
   "source": []
  }
 ],
 "metadata": {
  "kernelspec": {
   "display_name": "data-dl-gpu",
   "language": "python",
   "name": "python3"
  },
  "language_info": {
   "codemirror_mode": {
    "name": "ipython",
    "version": 3
   },
   "file_extension": ".py",
   "mimetype": "text/x-python",
   "name": "python",
   "nbconvert_exporter": "python",
   "pygments_lexer": "ipython3",
   "version": "3.8.13"
  },
  "orig_nbformat": 4,
  "vscode": {
   "interpreter": {
    "hash": "05d3d3b9b3b01a2a837e16c04c702db8a5d6fca2fb8e5018aa5f03e631d62e87"
   }
  }
 },
 "nbformat": 4,
 "nbformat_minor": 2
}
